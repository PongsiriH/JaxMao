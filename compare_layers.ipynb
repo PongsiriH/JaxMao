{
 "cells": [
  {
   "cell_type": "code",
   "execution_count": 1,
   "metadata": {},
   "outputs": [
    {
     "name": "stderr",
     "output_type": "stream",
     "text": [
      "WARNING: All log messages before absl::InitializeLog() is called are written to STDERR\n",
      "I0000 00:00:1697992396.399601  176526 tfrt_cpu_pjrt_client.cc:349] TfrtCpuClient created.\n",
      "2023-10-22 23:33:16.433203: E external/xla/xla/stream_executor/cuda/cuda_driver.cc:276] failed call to cuInit: CUDA_ERROR_NO_DEVICE: no CUDA-capable device is detected\n",
      "2023-10-22 23:33:17.148338: E tensorflow/compiler/xla/stream_executor/cuda/cuda_dnn.cc:9342] Unable to register cuDNN factory: Attempting to register factory for plugin cuDNN when one has already been registered\n",
      "2023-10-22 23:33:17.148425: E tensorflow/compiler/xla/stream_executor/cuda/cuda_fft.cc:609] Unable to register cuFFT factory: Attempting to register factory for plugin cuFFT when one has already been registered\n"
     ]
    },
    {
     "name": "stdout",
     "output_type": "stream",
     "text": [
      "jax.devices() : [CpuDevice(id=0)]\n"
     ]
    },
    {
     "name": "stderr",
     "output_type": "stream",
     "text": [
      "2023-10-22 23:33:17.148619: E tensorflow/compiler/xla/stream_executor/cuda/cuda_blas.cc:1518] Unable to register cuBLAS factory: Attempting to register factory for plugin cuBLAS when one has already been registered\n",
      "2023-10-22 23:33:18.363661: W tensorflow/compiler/tf2tensorrt/utils/py_utils.cc:38] TF-TRT Warning: Could not find TensorRT\n"
     ]
    },
    {
     "name": "stdout",
     "output_type": "stream",
     "text": [
      "tf.config.list_physical_devices():  [PhysicalDevice(name='/physical_device:CPU:0', device_type='CPU')]\n"
     ]
    },
    {
     "name": "stderr",
     "output_type": "stream",
     "text": [
      "2023-10-22 23:33:19.379956: E tensorflow/compiler/xla/stream_executor/cuda/cuda_driver.cc:268] failed call to cuInit: CUDA_ERROR_NO_DEVICE: no CUDA-capable device is detected\n"
     ]
    }
   ],
   "source": [
    "import os\n",
    "os.environ[\"JAX_PLATFORM_NAME\"] = \"cpu\"\n",
    "os.environ['CUDA_VISIBLE_DEVICES'] = '-1'\n",
    "\n",
    "import jax\n",
    "import jax.numpy as jnp\n",
    "import numpy as np\n",
    "\n",
    "import jaxmao\n",
    "from jaxmao.layers import Conv2D, SimpleDense, Dense, BatchNorm, ReLU, Flatten, StableSoftmax, BatchNorm2D, DepthwiseConv2D, Activation\n",
    "from jaxmao.modules import Module\n",
    "from jaxmao.optimizers import GradientDescent\n",
    "from jaxmao.losses import CategoricalCrossEntropy\n",
    "from jaxmao.metrics import Accuracy, Precision, Recall\n",
    "\n",
    "print('jax.devices() :', jax.devices())\n",
    "\n",
    "import tensorflow as tf\n",
    "from tensorflow import keras\n",
    "from tensorflow.keras import Sequential\n",
    "print('tf.config.list_physical_devices(): ', tf.config.list_physical_devices())\n",
    "\n",
    "seed = 42\n",
    "key = jax.random.PRNGKey(seed)\n",
    "\n",
    "tf.keras.backend.set_floatx('float32')"
   ]
  },
  {
   "cell_type": "code",
   "execution_count": 2,
   "metadata": {},
   "outputs": [],
   "source": [
    "def close_enough(A, B, eps=1e-5):\n",
    "    return np.less_equal(np.abs(A - B), eps)"
   ]
  },
  {
   "cell_type": "markdown",
   "metadata": {},
   "source": [
    "# SimpleDense"
   ]
  },
  {
   "cell_type": "code",
   "execution_count": 3,
   "metadata": {},
   "outputs": [
    {
     "name": "stdout",
     "output_type": "stream",
     "text": [
      "1/1 [==============================] - 0s 89ms/step\n",
      "[[ True  True  True  True]\n",
      " [ True  True  True  True]\n",
      " [ True  True  True  True]\n",
      " [ True  True  True  True]\n",
      " [ True  True  True  True]\n",
      " [ True  True  True  True]\n",
      " [ True  True  True  True]\n",
      " [ True  True  True  True]]\n"
     ]
    }
   ],
   "source": [
    "# generate data\n",
    "sample_data = np.random.normal(0, 1, (8, 16))\n",
    "\n",
    "# JaxMao\n",
    "jaxmao_dense = jaxmao.layers.SimpleDense(16, 4, 'linear')\n",
    "jaxmao_dense.init_params(key)\n",
    "jaxmao_predicted, state = jaxmao_dense(jaxmao_dense.params, sample_data)\n",
    "\n",
    "# TensorFlow\n",
    "tf_dense = keras.layers.Dense(4)\n",
    "tf_dense.build(input_shape=(16, ))\n",
    "tf_dense.set_weights([jaxmao_dense.params['weights'], jaxmao_dense.params['biases']])\n",
    "tf_dense = Sequential([tf_dense])\n",
    "tf_predicted = tf_dense.predict(sample_data)\n",
    "\n",
    "print(close_enough(tf_predicted, jaxmao_predicted))"
   ]
  },
  {
   "cell_type": "markdown",
   "metadata": {},
   "source": [
    "# Softmax"
   ]
  },
  {
   "cell_type": "code",
   "execution_count": 4,
   "metadata": {},
   "outputs": [
    {
     "name": "stdout",
     "output_type": "stream",
     "text": [
      "1/1 [==============================] - 0s 44ms/step\n",
      "[[ True  True  True  True]\n",
      " [ True  True  True  True]\n",
      " [ True  True  True  True]\n",
      " [ True  True  True  True]\n",
      " [ True  True  True  True]\n",
      " [ True  True  True  True]\n",
      " [ True  True  True  True]\n",
      " [ True  True  True  True]]\n"
     ]
    }
   ],
   "source": [
    "# generate data\n",
    "sample_data = np.random.normal(0, 1, (8, 16))\n",
    "\n",
    "# JaxMao\n",
    "jaxmao_dense = jaxmao.layers.SimpleDense(16, 4, 'softmax')\n",
    "jaxmao_dense.init_params(key)\n",
    "jaxmao_predicted, state = jaxmao_dense(jaxmao_dense.params, sample_data)\n",
    "\n",
    "# TensorFlow\n",
    "tf_dense = keras.layers.Dense(4, activation='softmax')\n",
    "tf_dense.build(input_shape=(16, ))\n",
    "tf_dense.set_weights([jaxmao_dense.params['weights'], jaxmao_dense.params['biases']])\n",
    "tf_dense = Sequential([tf_dense])\n",
    "tf_predicted = tf_dense.predict(sample_data)\n",
    "\n",
    "print(close_enough(tf_predicted, jaxmao_predicted))"
   ]
  },
  {
   "cell_type": "markdown",
   "metadata": {},
   "source": [
    "# relu"
   ]
  },
  {
   "cell_type": "code",
   "execution_count": 5,
   "metadata": {},
   "outputs": [
    {
     "name": "stdout",
     "output_type": "stream",
     "text": [
      "1/1 [==============================] - 0s 47ms/step\n",
      "[[ True  True  True  True]\n",
      " [ True  True  True  True]\n",
      " [ True  True  True  True]\n",
      " [ True  True  True  True]\n",
      " [ True  True  True  True]\n",
      " [ True  True  True  True]\n",
      " [ True  True  True  True]\n",
      " [ True  True  True  True]]\n"
     ]
    }
   ],
   "source": [
    "# generate data\n",
    "sample_data = np.random.normal(0, 1, (8, 16))\n",
    "\n",
    "# JaxMao\n",
    "jaxmao_dense = jaxmao.layers.SimpleDense(16, 4, 'relu')\n",
    "jaxmao_dense.init_params(key)\n",
    "jaxmao_predicted, state = jaxmao_dense(jaxmao_dense.params, sample_data)\n",
    "\n",
    "# TensorFlow\n",
    "tf_dense = keras.layers.Dense(4, activation='relu')\n",
    "tf_dense.build(input_shape=(16, ))\n",
    "tf_dense.set_weights([jaxmao_dense.params['weights'], jaxmao_dense.params['biases']])\n",
    "tf_sequential = Sequential([tf_dense])\n",
    "tf_predicted = tf_sequential.predict(sample_data)\n",
    "\n",
    "print(close_enough(tf_predicted, jaxmao_predicted))"
   ]
  },
  {
   "cell_type": "markdown",
   "metadata": {},
   "source": [
    "# BatchNorm (inference)"
   ]
  },
  {
   "cell_type": "code",
   "execution_count": 6,
   "metadata": {},
   "outputs": [
    {
     "name": "stdout",
     "output_type": "stream",
     "text": [
      "[[ True  True  True  True  True  True  True  True  True  True  True  True\n",
      "   True  True  True  True]\n",
      " [ True  True  True  True  True  True  True  True  True  True  True  True\n",
      "   True  True  True  True]\n",
      " [ True  True  True  True  True  True  True  True  True  True  True  True\n",
      "   True  True  True  True]\n",
      " [ True  True  True  True  True  True  True  True  True  True  True  True\n",
      "   True  True  True  True]\n",
      " [ True  True  True  True  True  True  True  True  True  True  True  True\n",
      "   True  True  True  True]\n",
      " [ True  True  True  True  True  True  True  True  True  True  True  True\n",
      "   True  True  True  True]\n",
      " [ True  True  True  True  True  True  True  True  True  True  True  True\n",
      "   True  True  True  True]\n",
      " [ True  True  True  True  True  True  True  True  True  True  True  True\n",
      "   True  True  True  True]]\n"
     ]
    }
   ],
   "source": [
    "# Generate random 1D data\n",
    "sample_data = np.random.normal(0, 1, (8, 16))  # shape (batch_size, features)\n",
    "\n",
    "# JaxMao BatchNorm1D\n",
    "jaxmao_batchnorm = jaxmao.layers.BatchNorm(16)\n",
    "jaxmao_batchnorm.init_params(key)\n",
    "jaxmao_batchnorm.set_inference_mode()\n",
    "jaxmao_batchnorm_output, state = jaxmao_batchnorm(jaxmao_batchnorm.params, sample_data)\n",
    "\n",
    "# TensorFlow BatchNormalization\n",
    "tf_batchnorm = keras.layers.BatchNormalization(axis=-1)\n",
    "tf_batchnorm.build(input_shape=(None, 16))\n",
    "tf_batchnorm.set_weights([\n",
    "    jaxmao_batchnorm.params['gamma'], \n",
    "    jaxmao_batchnorm.params['beta'], \n",
    "    jaxmao_batchnorm.state['running_mean'], \n",
    "    jaxmao_batchnorm.state['running_var']\n",
    "])\n",
    "tf_batchnorm_output = tf_batchnorm(sample_data, training=False).numpy()\n",
    "\n",
    "# Compare\n",
    "print(close_enough(jaxmao_batchnorm_output, tf_batchnorm_output))"
   ]
  },
  {
   "cell_type": "markdown",
   "metadata": {},
   "source": [
    "# batchnorm (training)"
   ]
  },
  {
   "cell_type": "code",
   "execution_count": 7,
   "metadata": {},
   "outputs": [
    {
     "name": "stdout",
     "output_type": "stream",
     "text": [
      "[[ True  True  True  True  True  True  True  True  True  True  True  True\n",
      "   True  True  True  True]\n",
      " [ True  True  True  True  True  True  True  True  True  True  True  True\n",
      "   True  True  True  True]\n",
      " [ True  True  True  True  True  True  True  True  True  True  True  True\n",
      "   True  True  True  True]\n",
      " [ True  True  True  True  True  True  True  True  True  True  True  True\n",
      "   True  True  True  True]\n",
      " [ True  True  True  True  True  True  True  True  True  True  True  True\n",
      "   True  True  True  True]\n",
      " [ True  True  True  True  True  True  True  True  True  True  True  True\n",
      "   True  True  True  True]\n",
      " [ True  True  True  True  True  True  True  True  True  True  True  True\n",
      "   True  True  True  True]\n",
      " [ True  True  True  True  True  True  True  True  True  True  True  True\n",
      "   True  True  True  True]]\n"
     ]
    }
   ],
   "source": [
    "# Generate random 1D data\n",
    "sample_data = np.random.normal(0, 1, (8, 16))  # shape (batch_size, features)\n",
    "\n",
    "# JaxMao BatchNorm1D\n",
    "jaxmao_batchnorm = jaxmao.layers.BatchNorm(16)\n",
    "jaxmao_batchnorm.init_params(key)\n",
    "jaxmao_batchnorm.set_training_mode()\n",
    "jaxmao_batchnorm_output, state = jaxmao_batchnorm(jaxmao_batchnorm.params, sample_data)\n",
    "\n",
    "# TensorFlow BatchNormalization\n",
    "tf_batchnorm = keras.layers.BatchNormalization(axis=-1)\n",
    "tf_batchnorm.build(input_shape=(None, 16))\n",
    "tf_batchnorm.set_weights([\n",
    "    jaxmao_batchnorm.params['gamma'], \n",
    "    jaxmao_batchnorm.params['beta'], \n",
    "    jaxmao_batchnorm.state['running_mean'], \n",
    "    jaxmao_batchnorm.state['running_var']\n",
    "])\n",
    "tf_batchnorm_output = tf_batchnorm(sample_data, training=True).numpy()\n",
    "\n",
    "# Compare\n",
    "print(close_enough(jaxmao_batchnorm_output, tf_batchnorm_output))"
   ]
  },
  {
   "cell_type": "markdown",
   "metadata": {},
   "source": [
    "# dense bn"
   ]
  },
  {
   "cell_type": "code",
   "execution_count": 8,
   "metadata": {},
   "outputs": [
    {
     "name": "stdout",
     "output_type": "stream",
     "text": [
      "1/1 [==============================] - 0s 76ms/step\n",
      "[[ True  True  True  True]\n",
      " [ True  True  True  True]\n",
      " [ True  True  True  True]\n",
      " [ True  True  True  True]\n",
      " [ True  True  True  True]\n",
      " [ True  True  True  True]\n",
      " [ True  True  True  True]\n",
      " [ True  True  True  True]]\n"
     ]
    }
   ],
   "source": [
    "# generate data\n",
    "# Initialize shape parameters\n",
    "batch_size = 8\n",
    "channels = 5\n",
    "\n",
    "# Initialize empty array\n",
    "sample_data = np.zeros((batch_size, channels))\n",
    "\n",
    "# Populate each channel with different mean and std dev\n",
    "for c in range(channels):\n",
    "    mean = np.random.randint(-np.random.randint(-12, 2), np.random.randint(42, 52)) \n",
    "    std_dev = np.random.uniform(-2, 421) \n",
    "    sample_data[ :, c] = np.random.normal(mean, std_dev, (batch_size, ))\n",
    "\n",
    "# JaxMao\n",
    "jaxmao_dense = jaxmao.layers.SimpleDense(5, 4, 'softmax', use_bias=False)\n",
    "jaxmao_bn = jaxmao.layers.BatchNorm(4, eps=1e-3) # keras use 1e-3.\n",
    "jaxmao_dense.init_params(key)\n",
    "jaxmao_bn.init_params(key)\n",
    "jaxmao_bn.set_inference_mode()\n",
    "jaxmao_predicted, state = jaxmao_dense(jaxmao_dense.params, sample_data)\n",
    "jaxmao_predicted, state = jaxmao_bn(jaxmao_bn.params, jaxmao_predicted)\n",
    "\n",
    "# TensorFlow\n",
    "tf_dense = keras.layers.Dense(4, activation='softmax', use_bias=False)\n",
    "tf_bn = keras.layers.BatchNormalization()\n",
    "tf_dense.build(input_shape=(5, ))\n",
    "tf_dense.set_weights([jaxmao_dense.params['weights']])\n",
    "tf_sequential = Sequential([tf_dense, tf_bn])\n",
    "tf_predicted = tf_sequential.predict(sample_data)\n",
    "\n",
    "print(close_enough(tf_predicted, jaxmao_predicted))"
   ]
  },
  {
   "cell_type": "markdown",
   "metadata": {},
   "source": [
    "##### alternative in jaxmao"
   ]
  },
  {
   "cell_type": "code",
   "execution_count": 9,
   "metadata": {},
   "outputs": [
    {
     "name": "stdout",
     "output_type": "stream",
     "text": [
      "WARNING:tensorflow:5 out of the last 5 calls to <function Model.make_predict_function.<locals>.predict_function at 0x7f765826af20> triggered tf.function retracing. Tracing is expensive and the excessive number of tracings could be due to (1) creating @tf.function repeatedly in a loop, (2) passing tensors with different shapes, (3) passing Python objects instead of tensors. For (1), please define your @tf.function outside of the loop. For (2), @tf.function has reduce_retracing=True option that can avoid unnecessary retracing. For (3), please refer to https://www.tensorflow.org/guide/function#controlling_retracing and https://www.tensorflow.org/api_docs/python/tf/function for  more details.\n",
      "1/1 [==============================] - 0s 88ms/step\n",
      "[[ True  True  True  True]\n",
      " [ True  True  True  True]\n",
      " [ True  True  True  True]\n",
      " [ True  True  True  True]\n",
      " [ True  True  True  True]\n",
      " [ True  True  True  True]\n",
      " [ True  True  True  True]\n",
      " [ True  True  True  True]]\n"
     ]
    }
   ],
   "source": [
    "# JaxMao\n",
    "jaxmao_dense = jaxmao.layers.Dense(5, 4, 'softmax', batch_norm=True)\n",
    "jaxmao_dense.init_params(key)\n",
    "jaxmao_dense.set_inference_mode()\n",
    "jaxmao_predicted, state = jaxmao_dense(jaxmao_dense.params, sample_data)\n",
    "\n",
    "# TensorFlow\n",
    "tf_dense = keras.layers.Dense(4, use_bias=False)\n",
    "tf_bn = keras.layers.BatchNormalization()\n",
    "tf_dense.build(input_shape=(5, ))\n",
    "tf_dense.set_weights([jaxmao_dense.params['dense/simple_dense']['weights']])\n",
    "tf_sequential = Sequential([tf_dense, tf_bn, keras.layers.Activation('softmax')])\n",
    "tf_predicted = tf_sequential.predict(sample_data)\n",
    "\n",
    "print(close_enough(tf_predicted, jaxmao_predicted, 1e-3)) # cannot change epsilon of batchnorm inside jaxmao's Dense."
   ]
  },
  {
   "cell_type": "markdown",
   "metadata": {},
   "source": [
    "# convolution"
   ]
  },
  {
   "cell_type": "code",
   "execution_count": 10,
   "metadata": {},
   "outputs": [
    {
     "name": "stdout",
     "output_type": "stream",
     "text": [
      "WARNING:tensorflow:6 out of the last 6 calls to <function Model.make_predict_function.<locals>.predict_function at 0x7f7658268860> triggered tf.function retracing. Tracing is expensive and the excessive number of tracings could be due to (1) creating @tf.function repeatedly in a loop, (2) passing tensors with different shapes, (3) passing Python objects instead of tensors. For (1), please define your @tf.function outside of the loop. For (2), @tf.function has reduce_retracing=True option that can avoid unnecessary retracing. For (3), please refer to https://www.tensorflow.org/guide/function#controlling_retracing and https://www.tensorflow.org/api_docs/python/tf/function for  more details.\n",
      "1/1 [==============================] - 0s 45ms/step\n",
      "True\n"
     ]
    }
   ],
   "source": [
    "# generate data\n",
    "sample_data = np.random.normal(0, 1, (8, 16, 16, 5))\n",
    "\n",
    "# JaxMao\n",
    "jaxmao_conv = jaxmao.layers.SimpleConv2D(5, 4, (3, 3), activation='relu', padding='SAME')\n",
    "jaxmao_conv.init_params(key)\n",
    "jaxmao_predicted, state = jaxmao_conv(jaxmao_conv.params, sample_data)\n",
    "\n",
    "# TensorFlow\n",
    "tf_conv = keras.layers.Conv2D(4, (3,3), activation='relu', padding='same')\n",
    "tf_conv.build(input_shape=(16, 16, 5))\n",
    "tf_conv.set_weights([jaxmao_conv.params['weights'], jaxmao_conv.params['biases']])\n",
    "tf_sequential = Sequential([tf_conv])\n",
    "tf_predicted = tf_sequential.predict(sample_data)\n",
    "\n",
    "print(close_enough(tf_predicted, jaxmao_predicted).all())"
   ]
  },
  {
   "cell_type": "markdown",
   "metadata": {},
   "source": [
    "# BatchNorm2d"
   ]
  },
  {
   "cell_type": "code",
   "execution_count": 11,
   "metadata": {},
   "outputs": [],
   "source": [
    "from jaxmao.layers import BatchNorm\n",
    "\n",
    "class BatchNorm2D(BatchNorm):\n",
    "    def __init__(\n",
    "        self,\n",
    "        num_features,\n",
    "        momentum = 0.99,\n",
    "        eps=1e-5\n",
    "        ):\n",
    "        super().__init__(num_features=num_features, momentum=momentum, axis_mean=(0, 1, 2), eps=eps)"
   ]
  },
  {
   "cell_type": "code",
   "execution_count": 12,
   "metadata": {},
   "outputs": [
    {
     "name": "stdout",
     "output_type": "stream",
     "text": [
      "True\n"
     ]
    }
   ],
   "source": [
    "# generate data, if use random.normal mean and var wouldn't be tested.\n",
    "# Initialize shape parameters\n",
    "batch_size = 8\n",
    "height = 16\n",
    "width = 16\n",
    "channels = 5\n",
    "\n",
    "# Initialize empty array\n",
    "sample_image = np.zeros((batch_size, height, width, channels))\n",
    "\n",
    "# Populate each channel with different mean and std dev\n",
    "for c in range(channels):\n",
    "    mean = np.random.randint(-np.random.randint(-12, 2), np.random.randint(42, 52)) \n",
    "    std_dev = np.random.uniform(-2, 421) \n",
    "    sample_image[:, :, :, c] = np.random.normal(mean, std_dev, (batch_size, height, width))\n",
    "\n",
    "# JaxMao BatchNorm2D\n",
    "jaxmao_batchnorm2d = jaxmao.layers.BatchNorm2D(channels)\n",
    "jaxmao_batchnorm2d.init_params(key)\n",
    "jaxmao_batchnorm2d.set_inference_mode()\n",
    "jaxmao_batchnorm2d_output, state = jaxmao_batchnorm2d(jaxmao_batchnorm2d.params, sample_image)\n",
    "\n",
    "# TensorFlow BatchNormalization (2D)\n",
    "tf_batchnorm2d = keras.layers.BatchNormalization(epsilon=1e-5)\n",
    "tf_batchnorm2d.build(input_shape=(None, height, width, channels))\n",
    "tf_batchnorm2d.set_weights([\n",
    "    jaxmao_batchnorm2d.params['gamma'], \n",
    "    jaxmao_batchnorm2d.params['beta'], \n",
    "    jaxmao_batchnorm2d.state['running_mean'], \n",
    "    jaxmao_batchnorm2d.state['running_var']\n",
    "])\n",
    "tf_batchnorm2d_output = tf_batchnorm2d(sample_image, training=False).numpy()\n",
    "\n",
    "# Compare\n",
    "print(close_enough(jaxmao_batchnorm2d_output, tf_batchnorm2d_output, 15e-5).all())"
   ]
  },
  {
   "cell_type": "code",
   "execution_count": 13,
   "metadata": {},
   "outputs": [
    {
     "name": "stdout",
     "output_type": "stream",
     "text": [
      "[[[[ True  True  True  True  True  True]\n",
      "   [ True  True  True  True  True  True]\n",
      "   [ True  True  True  True  True  True]\n",
      "   [ True  True  True  True  True  True]\n",
      "   [ True  True  True  True  True  True]\n",
      "   [ True  True  True  True  True  True]\n",
      "   [ True  True  True  True  True  True]\n",
      "   [ True  True  True  True  True  True]]\n",
      "\n",
      "  [[ True  True  True  True  True  True]\n",
      "   [ True  True  True  True  True  True]\n",
      "   [ True  True  True  True  True  True]\n",
      "   [ True  True  True  True  True  True]\n",
      "   [ True  True  True  True  True  True]\n",
      "   [ True  True  True  True  True  True]\n",
      "   [ True  True  True  True  True  True]\n",
      "   [ True  True  True  True  True  True]]\n",
      "\n",
      "  [[ True  True  True  True  True  True]\n",
      "   [ True  True  True  True  True  True]\n",
      "   [ True  True  True  True  True  True]\n",
      "   [ True  True  True  True  True  True]\n",
      "   [ True  True  True  True  True  True]\n",
      "   [ True  True  True  True  True  True]\n",
      "   [ True  True  True  True  True  True]\n",
      "   [ True  True  True  True  True  True]]\n",
      "\n",
      "  [[ True  True  True  True  True  True]\n",
      "   [ True  True  True  True  True  True]\n",
      "   [ True  True  True  True  True  True]\n",
      "   [ True  True  True  True  True  True]\n",
      "   [ True  True  True  True  True  True]\n",
      "   [ True  True  True  True  True  True]\n",
      "   [ True  True  True  True  True  True]\n",
      "   [ True  True  True  True  True  True]]\n",
      "\n",
      "  [[ True  True  True  True  True  True]\n",
      "   [ True  True  True  True  True  True]\n",
      "   [ True  True  True  True  True  True]\n",
      "   [ True  True  True  True  True  True]\n",
      "   [ True  True  True  True  True  True]\n",
      "   [ True  True  True  True  True  True]\n",
      "   [ True  True  True  True  True  True]\n",
      "   [ True  True  True  True  True  True]]\n",
      "\n",
      "  [[ True  True  True  True  True  True]\n",
      "   [ True  True  True  True  True  True]\n",
      "   [ True  True  True  True  True  True]\n",
      "   [ True  True  True  True  True  True]\n",
      "   [ True  True  True  True  True  True]\n",
      "   [ True  True  True  True  True  True]\n",
      "   [ True  True  True  True  True  True]\n",
      "   [ True  True  True  True  True  True]]\n",
      "\n",
      "  [[ True  True  True  True  True  True]\n",
      "   [ True  True  True  True  True  True]\n",
      "   [ True  True  True  True  True  True]\n",
      "   [ True  True  True  True  True  True]\n",
      "   [ True  True  True  True  True  True]\n",
      "   [ True  True  True  True  True  True]\n",
      "   [ True  True  True  True  True  True]\n",
      "   [ True  True  True  True  True  True]]\n",
      "\n",
      "  [[ True  True  True  True  True  True]\n",
      "   [ True  True  True  True  True  True]\n",
      "   [ True  True  True  True  True  True]\n",
      "   [ True  True  True  True  True  True]\n",
      "   [ True  True  True  True  True  True]\n",
      "   [ True  True  True  True  True  True]\n",
      "   [ True  True  True  True  True  True]\n",
      "   [ True  True  True  True  True  True]]]]\n"
     ]
    }
   ],
   "source": [
    "# Generate random 2D data (image)\n",
    "sample_image = np.random.normal(0, 1, (1, 8, 8, 6))  # shape (batch_size, height, width, channels)\n",
    "\n",
    "# JaxMao BatchNorm2D\n",
    "jaxmao_batchnorm2d = jaxmao.layers.BatchNorm2D(6)\n",
    "jaxmao_batchnorm2d.init_params(key)\n",
    "jaxmao_batchnorm2d.set_training_mode()\n",
    "jaxmao_batchnorm2d_output, state = jaxmao_batchnorm2d(jaxmao_batchnorm2d.params, sample_image)\n",
    "\n",
    "# TensorFlow BatchNormalization (2D)\n",
    "tf_batchnorm2d = keras.layers.BatchNormalization()\n",
    "tf_batchnorm2d.build(input_shape=(None, 8, 8, 6))\n",
    "tf_batchnorm2d.set_weights([\n",
    "    jaxmao_batchnorm2d.params['gamma'], \n",
    "    jaxmao_batchnorm2d.params['beta'], \n",
    "    jaxmao_batchnorm2d.state['running_mean'], \n",
    "    jaxmao_batchnorm2d.state['running_var']\n",
    "])\n",
    "tf_batchnorm2d_output = tf_batchnorm2d(sample_image, training=True).numpy()\n",
    "\n",
    "# Compare\n",
    "print(close_enough(jaxmao_batchnorm2d_output, tf_batchnorm2d_output, 15e-3))"
   ]
  },
  {
   "cell_type": "markdown",
   "metadata": {},
   "source": [
    "# convolution bn"
   ]
  },
  {
   "cell_type": "code",
   "execution_count": 14,
   "metadata": {},
   "outputs": [],
   "source": [
    "class BatchNorm2D(BatchNorm):\n",
    "    def __init__(\n",
    "        self,\n",
    "        num_features,\n",
    "        momentum = 0.99,\n",
    "        eps=1e-5\n",
    "        ):\n",
    "        super().__init__(num_features=num_features, momentum=momentum, axis_mean=(1, 2, 3), eps=eps)"
   ]
  },
  {
   "cell_type": "code",
   "execution_count": 15,
   "metadata": {},
   "outputs": [
    {
     "name": "stdout",
     "output_type": "stream",
     "text": [
      "False\n"
     ]
    }
   ],
   "source": [
    "# generate data\n",
    "# Initialize shape parameters\n",
    "batch_size = 8\n",
    "height = 16\n",
    "width = 16\n",
    "channels = 5\n",
    "\n",
    "# Initialize empty array\n",
    "sample_data = np.zeros((batch_size, height, width, channels))\n",
    "\n",
    "# Populate each channel with different mean and std dev\n",
    "for c in range(channels):\n",
    "    mean = np.random.randint(-np.random.randint(-12, 2), np.random.randint(42, 52),) \n",
    "    std_dev = np.random.uniform(-2, 421) \n",
    "    sample_data[:, :, :, c] = np.random.normal(mean, std_dev, (batch_size, height, width))\n",
    "\n",
    "\n",
    "# JaxMao\n",
    "jaxmao_conv = jaxmao.layers.Conv2D(5, 4, (3, 3), activation='linear', padding='SAME', batch_norm=True, use_bias=False)\n",
    "jaxmao_conv.init_params(key)\n",
    "jaxmao_conv.set_inference_mode()\n",
    "# jaxmao_conv.set_training_mode()\n",
    "\n",
    "jaxmao_predicted, state = jaxmao_conv(jaxmao_conv.params, sample_data)\n",
    "\n",
    "# TensorFlow\n",
    "tf_conv = keras.layers.Conv2D(4, (3,3), padding='same', use_bias=False)\n",
    "tf_bn = keras.layers.BatchNormalization(epsilon=1e-5) # just realize that we can do this.\n",
    "tf_conv.build(input_shape=(16, 16, 5))\n",
    "tf_conv.set_weights([jaxmao_conv.params['conv2d/simple_conv2d']['weights']])\n",
    "\n",
    "z = tf_conv(sample_data)\n",
    "z = tf_bn(z, training=False)\n",
    "tf_predicted = keras.layers.Activation('linear')(z)\n",
    "\n",
    "print(close_enough(tf_predicted, jaxmao_predicted, 1e-5).all())"
   ]
  },
  {
   "cell_type": "markdown",
   "metadata": {},
   "source": [
    "# other layers ... "
   ]
  },
  {
   "cell_type": "markdown",
   "metadata": {},
   "source": [
    "# MaxPooling2d"
   ]
  },
  {
   "cell_type": "code",
   "execution_count": 16,
   "metadata": {},
   "outputs": [
    {
     "name": "stdout",
     "output_type": "stream",
     "text": [
      "True\n"
     ]
    }
   ],
   "source": [
    "sample_image = np.random.normal(0, 1, (5, 8, 8, 3)) \n",
    "\n",
    "# JaxMao\n",
    "jaxmao_maxpool = jaxmao.layers.MaxPooling2D(kernel_size=(2, 2), strides=(2, 2), padding='SAME')\n",
    "jaxmao_maxpool.init_params(key)\n",
    "jaxmao_pooled, state = jaxmao_maxpool(jaxmao_maxpool.params, sample_image)\n",
    "\n",
    "# TensorFlow\n",
    "tf_maxpool = keras.layers.MaxPooling2D(pool_size=(2, 2), strides=(2, 2), padding='same')\n",
    "tf_pooled = tf_maxpool(sample_image).numpy() \n",
    "\n",
    "# Compare\n",
    "print(close_enough(jaxmao_pooled, tf_pooled).all())"
   ]
  },
  {
   "cell_type": "markdown",
   "metadata": {},
   "source": [
    "# AveragePooling2d"
   ]
  },
  {
   "cell_type": "code",
   "execution_count": 17,
   "metadata": {},
   "outputs": [
    {
     "name": "stdout",
     "output_type": "stream",
     "text": [
      "True\n"
     ]
    }
   ],
   "source": [
    "# Generate random image data\n",
    "sample_image = np.random.normal(0, 1, (4, 8, 8, 3))  # shape (batch_size, height, width, channels)\n",
    "\n",
    "# JaxMao AveragePooling2D\n",
    "jaxmao_avgpool = jaxmao.layers.AveragePooling2D(kernel_size=(2, 2), strides=(2, 2), padding='SAME')\n",
    "jaxmao_avgpool.init_params(key)\n",
    "jaxmao_avg_pooled, state = jaxmao_avgpool(jaxmao_avgpool.params, sample_image)\n",
    "\n",
    "# TensorFlow AveragePooling2D\n",
    "tf_avgpool = keras.layers.AveragePooling2D(pool_size=(2, 2), strides=(2, 2), padding='same')\n",
    "tf_avg_pooled = tf_avgpool(sample_image).numpy()\n",
    "\n",
    "# Compare\n",
    "print(close_enough(jaxmao_avg_pooled, tf_avg_pooled).all())"
   ]
  },
  {
   "cell_type": "markdown",
   "metadata": {},
   "source": [
    "# GlobalAveragePooling2d"
   ]
  },
  {
   "cell_type": "code",
   "execution_count": 18,
   "metadata": {},
   "outputs": [
    {
     "name": "stdout",
     "output_type": "stream",
     "text": [
      "True\n"
     ]
    }
   ],
   "source": [
    "# Generate random image data\n",
    "sample_image = np.random.normal(0, 1, (421, 42, 8, 3))  # shape (batch_size, height, width, channels)\n",
    "\n",
    "# JaxMao GlobalAveragePooling2D\n",
    "jaxmao_global_avgpool = jaxmao.layers.GlobalAveragePooling2D()\n",
    "jaxmao_global_avgpool.init_params(key)  # If initialization is required\n",
    "jaxmao_global_avg_pooled, state = jaxmao_global_avgpool(jaxmao_global_avgpool.params, sample_image)\n",
    "\n",
    "# TensorFlow GlobalAveragePooling2D\n",
    "tf_global_avgpool = keras.layers.GlobalAveragePooling2D()\n",
    "tf_global_avg_pooled = tf_global_avgpool(sample_image).numpy()\n",
    "\n",
    "# Compare\n",
    "print(close_enough(jaxmao_global_avg_pooled, tf_global_avg_pooled).all())"
   ]
  },
  {
   "cell_type": "markdown",
   "metadata": {},
   "source": [
    "# GlobalMaxPooling2d"
   ]
  },
  {
   "cell_type": "code",
   "execution_count": 19,
   "metadata": {},
   "outputs": [
    {
     "name": "stdout",
     "output_type": "stream",
     "text": [
      "True\n"
     ]
    }
   ],
   "source": [
    "# Generate random image data\n",
    "sample_image = np.random.normal(0, 1, (421, 42, 8, 3))  # shape (batch_size, height, width, channels)\n",
    "\n",
    "# JaxMao GlobalAveragePooling2D\n",
    "jaxmao_global_maxpool = jaxmao.layers.GlobalMaxPooling2D()\n",
    "jaxmao_global_maxpool.init_params(key)  # If initialization is required\n",
    "jaxmao_global_avg_pooled, state = jaxmao_global_maxpool(jaxmao_global_maxpool.params, sample_image)\n",
    "\n",
    "# TensorFlow GlobalAveragePooling2D\n",
    "tf_global_maxpool = keras.layers.GlobalMaxPooling2D()\n",
    "tf_global_avg_pooled = tf_global_maxpool(sample_image).numpy()\n",
    "\n",
    "# Compare\n",
    "print(close_enough(jaxmao_global_avg_pooled, tf_global_avg_pooled).all())"
   ]
  },
  {
   "cell_type": "markdown",
   "metadata": {},
   "source": [
    "# DepthwiseConv2d"
   ]
  },
  {
   "cell_type": "code",
   "execution_count": 20,
   "metadata": {},
   "outputs": [
    {
     "name": "stdout",
     "output_type": "stream",
     "text": [
      "True\n"
     ]
    }
   ],
   "source": [
    "# Generate random image data\n",
    "sample_image = np.random.normal(0, 1, (5, 8, 8, 42))  # shape (batch_size, height, width, channels)\n",
    "\n",
    "# JaxMao DepthwiseConv2D\n",
    "jaxmao_depthwise_conv = jaxmao.layers.DepthwiseConv2D(42, kernel_size=(3, 3), strides=(1, 1), padding='SAME')\n",
    "jaxmao_depthwise_conv.init_params(key)\n",
    "jaxmao_depthwise_conv_output, state = jaxmao_depthwise_conv(jaxmao_depthwise_conv.params, sample_image)\n",
    "\n",
    "# TensorFlow DepthwiseConv2D\n",
    "tf_depthwise_conv = keras.layers.DepthwiseConv2D(kernel_size=(3, 3), strides=(1, 1), padding='same', activation='relu')\n",
    "tf_depthwise_conv.build(input_shape=(None, 8, 8, 42))\n",
    "tf_depthwise_conv.set_weights([jaxmao_depthwise_conv.params['weights'].reshape(3,3,42,1), jaxmao_depthwise_conv.params['biases']])\n",
    "tf_depthwise_conv_output = tf_depthwise_conv(sample_image).numpy()\n",
    "\n",
    "# Compare\n",
    "print(close_enough(jaxmao_depthwise_conv_output, tf_depthwise_conv_output).all())"
   ]
  },
  {
   "cell_type": "markdown",
   "metadata": {},
   "source": [
    "# Cross entropy"
   ]
  },
  {
   "cell_type": "code",
   "execution_count": 21,
   "metadata": {},
   "outputs": [
    {
     "name": "stdout",
     "output_type": "stream",
     "text": [
      "True\n"
     ]
    },
    {
     "data": {
      "text/plain": [
       "(Array(0.93529034, dtype=float32), 0.93529034)"
      ]
     },
     "execution_count": 21,
     "metadata": {},
     "output_type": "execute_result"
    }
   ],
   "source": [
    "# Generate sample data\n",
    "y_true = np.array([0, 1, 2, 2, 1])  # True labels\n",
    "y_true = jax.nn.one_hot(y_true, num_classes=3).astype('float32')\n",
    "y_pred = np.array([\n",
    "    [0.1, 0.2, 0.7],  # Predicted probabilities\n",
    "    [0.5, 0.4, 0.1],\n",
    "    [0.02, 0.01, 0.97],\n",
    "    [0.1, 0.1, 0.8],\n",
    "    [0.6, 0.3, 0.1]\n",
    "]).astype('float32')\n",
    "\n",
    "# JaxMao CrossEntropy\n",
    "jaxmao_cross_entropy = CategoricalCrossEntropy(reduce_fn='mean_over_batch_size')\n",
    "jaxmao_loss = jaxmao_cross_entropy.calculate_loss(y_pred, y_true)\n",
    "\n",
    "# TensorFlow CrossEntropy\n",
    "tf_cross_entropy = keras.losses.CategoricalCrossentropy()\n",
    "tf_loss = tf_cross_entropy(y_true, y_pred).numpy()\n",
    "\n",
    "# Compare\n",
    "print(close_enough(jaxmao_loss, tf_loss))\n",
    "jaxmao_loss, tf_loss"
   ]
  },
  {
   "cell_type": "code",
   "execution_count": 23,
   "metadata": {},
   "outputs": [
    {
     "name": "stdout",
     "output_type": "stream",
     "text": [
      "True\n"
     ]
    },
    {
     "data": {
      "text/plain": [
       "(Array(4.6764517, dtype=float32), 4.6764517)"
      ]
     },
     "execution_count": 23,
     "metadata": {},
     "output_type": "execute_result"
    }
   ],
   "source": [
    "# Generate sample data\n",
    "y_true = np.array([0, 1, 2, 2, 1])  # True labels\n",
    "y_true = jax.nn.one_hot(y_true, num_classes=3).astype('float32')\n",
    "y_pred = np.array([\n",
    "    [0.1, 0.2, 0.7],  # Predicted probabilities\n",
    "    [0.5, 0.4, 0.1],\n",
    "    [0.02, 0.01, 0.97],\n",
    "    [0.1, 0.1, 0.8],\n",
    "    [0.6, 0.3, 0.1]\n",
    "]).astype('float32')\n",
    "\n",
    "# JaxMao CrossEntropy\n",
    "jaxmao_cross_entropy = CategoricalCrossEntropy(reduce_fn=jnp.sum)\n",
    "jaxmao_loss = jaxmao_cross_entropy.calculate_loss(y_pred, y_true)\n",
    "\n",
    "# TensorFlow CrossEntropy\n",
    "tf_cross_entropy = keras.losses.CategoricalCrossentropy(reduction='sum')\n",
    "tf_loss = tf_cross_entropy(y_true, y_pred).numpy()\n",
    "\n",
    "# Compare\n",
    "print(close_enough(jaxmao_loss, tf_loss))\n",
    "jaxmao_loss, tf_loss"
   ]
  }
 ],
 "metadata": {
  "kernelspec": {
   "display_name": "jaxlab",
   "language": "python",
   "name": "python3"
  },
  "language_info": {
   "codemirror_mode": {
    "name": "ipython",
    "version": 3
   },
   "file_extension": ".py",
   "mimetype": "text/x-python",
   "name": "python",
   "nbconvert_exporter": "python",
   "pygments_lexer": "ipython3",
   "version": "3.11.5"
  }
 },
 "nbformat": 4,
 "nbformat_minor": 2
}
