{
 "cells": [
  {
   "cell_type": "code",
   "execution_count": 88,
   "metadata": {},
   "outputs": [
    {
     "name": "stdout",
     "output_type": "stream",
     "text": [
      "jax.devices() : [CpuDevice(id=0)]\n",
      "tf.config.list_physical_devices():  [PhysicalDevice(name='/physical_device:CPU:0', device_type='CPU')]\n"
     ]
    }
   ],
   "source": [
    "import sys\n",
    "sys.path.append('/home/jaxmao/jaxmao_branches/JaxMao/')\n",
    "sys.path.append('/home/jaxmao/jaxmao_branches/JaxMao/jaxmao')\n",
    "\n",
    "import os\n",
    "os.environ[\"JAX_PLATFORM_NAME\"] = \"cpu\"\n",
    "os.environ['CUDA_VISIBLE_DEVICES'] = '-1'\n",
    "\n",
    "import jax\n",
    "import jax.numpy as jnp\n",
    "import numpy as np\n",
    "\n",
    "import jaxmao\n",
    "from jaxmao.layers import Conv2D, SimpleDense, Dense, BatchNorm, ReLU, Flatten, StableSoftmax, BatchNorm2D, DepthwiseConv2D, Activation\n",
    "from jaxmao.modules import Module\n",
    "from jaxmao.optimizers import GradientDescent\n",
    "from jaxmao.losses import CategoricalCrossEntropy\n",
    "from jaxmao.metrics import Accuracy, Precision, Recall\n",
    "\n",
    "print('jax.devices() :', jax.devices())\n",
    "\n",
    "import tensorflow as tf\n",
    "from tensorflow import keras\n",
    "from tensorflow.keras import Sequential\n",
    "print('tf.config.list_physical_devices(): ', tf.config.list_physical_devices())\n",
    "\n",
    "seed = 42\n",
    "key = jax.random.PRNGKey(seed)\n",
    "\n",
    "tf.keras.backend.set_floatx('float32')"
   ]
  },
  {
   "cell_type": "code",
   "execution_count": 89,
   "metadata": {},
   "outputs": [],
   "source": [
    "def close_enough(A, B, eps=1e-10):\n",
    "    return np.less_equal(np.abs(A - B), eps)"
   ]
  },
  {
   "cell_type": "markdown",
   "metadata": {},
   "source": [
    "# SimpleDense"
   ]
  },
  {
   "cell_type": "code",
   "execution_count": 90,
   "metadata": {},
   "outputs": [
    {
     "name": "stdout",
     "output_type": "stream",
     "text": [
      "1/1 [==============================] - 0s 44ms/step\n",
      "[[ True  True  True  True]\n",
      " [ True  True  True  True]\n",
      " [ True  True  True  True]\n",
      " [ True  True  True  True]\n",
      " [ True  True  True  True]\n",
      " [ True  True  True  True]\n",
      " [ True  True  True  True]\n",
      " [ True  True  True  True]]\n"
     ]
    }
   ],
   "source": [
    "# generate data\n",
    "sample_data = np.random.normal(0, 1, (8, 16))\n",
    "\n",
    "# JaxMao\n",
    "jaxmao_dense = jaxmao.layers.SimpleDense(16, 4, 'linear')\n",
    "jaxmao_dense.init_params(key)\n",
    "jaxmao_predicted = jaxmao_dense(sample_data)\n",
    "\n",
    "# TensorFlow\n",
    "tf_dense = keras.layers.Dense(4)\n",
    "tf_dense.build(input_shape=(16, ))\n",
    "tf_dense.set_weights([jaxmao_dense.params['weights'], jaxmao_dense.params['biases']])\n",
    "tf_dense = Sequential([tf_dense])\n",
    "tf_predicted = tf_dense.predict(sample_data)\n",
    "\n",
    "print(close_enough(tf_predicted, jaxmao_predicted))"
   ]
  },
  {
   "cell_type": "markdown",
   "metadata": {},
   "source": [
    "# Softmax\n",
    "different implementation of softmax"
   ]
  },
  {
   "cell_type": "code",
   "execution_count": 91,
   "metadata": {},
   "outputs": [
    {
     "name": "stdout",
     "output_type": "stream",
     "text": [
      "1/1 [==============================] - 0s 60ms/step\n",
      "[[ True  True  True  True]\n",
      " [ True  True  True  True]\n",
      " [ True  True  True  True]\n",
      " [ True  True  True  True]\n",
      " [ True  True  True  True]\n",
      " [ True  True  True  True]\n",
      " [ True  True  True  True]\n",
      " [ True  True  True  True]]\n"
     ]
    }
   ],
   "source": [
    "# generate data\n",
    "sample_data = np.random.normal(0, 1, (8, 16))\n",
    "\n",
    "# JaxMao\n",
    "jaxmao_dense = jaxmao.layers.SimpleDense(16, 4, 'softmax')\n",
    "jaxmao_dense.init_params(key)\n",
    "jaxmao_predicted = jaxmao_dense(sample_data)\n",
    "\n",
    "# TensorFlow\n",
    "tf_dense = keras.layers.Dense(4, activation='softmax')\n",
    "tf_dense.build(input_shape=(16, ))\n",
    "tf_dense.set_weights([jaxmao_dense.params['weights'], jaxmao_dense.params['biases']])\n",
    "tf_dense = Sequential([tf_dense])\n",
    "tf_predicted = tf_dense.predict(sample_data)\n",
    "\n",
    "print(close_enough(tf_predicted, jaxmao_predicted, 1e-7)) "
   ]
  },
  {
   "cell_type": "markdown",
   "metadata": {},
   "source": [
    "# relu"
   ]
  },
  {
   "cell_type": "code",
   "execution_count": 92,
   "metadata": {},
   "outputs": [
    {
     "name": "stdout",
     "output_type": "stream",
     "text": [
      "1/1 [==============================] - 0s 67ms/step\n",
      "[[ True  True  True  True]\n",
      " [ True  True  True  True]\n",
      " [ True  True  True  True]\n",
      " [ True  True  True  True]\n",
      " [ True  True  True  True]\n",
      " [ True  True  True  True]\n",
      " [ True  True  True  True]\n",
      " [ True  True  True  True]]\n"
     ]
    }
   ],
   "source": [
    "# generate data\n",
    "sample_data = np.random.normal(0, 1, (8, 16))\n",
    "\n",
    "# JaxMao\n",
    "jaxmao_dense = jaxmao.layers.SimpleDense(16, 4, 'relu')\n",
    "jaxmao_dense.init_params(key)\n",
    "jaxmao_predicted = jaxmao_dense(sample_data)\n",
    "\n",
    "# TensorFlow\n",
    "tf_dense = keras.layers.Dense(4, activation='relu')\n",
    "tf_dense.build(input_shape=(16, ))\n",
    "tf_dense.set_weights([jaxmao_dense.params['weights'], jaxmao_dense.params['biases']])\n",
    "tf_sequential = Sequential([tf_dense])\n",
    "tf_predicted = tf_sequential.predict(sample_data)\n",
    "\n",
    "print(close_enough(tf_predicted, jaxmao_predicted))"
   ]
  },
  {
   "cell_type": "markdown",
   "metadata": {},
   "source": [
    "# BatchNorm (inference)\n",
    "only consistently tolerate up to 1e-6.\n",
    "not sure why"
   ]
  },
  {
   "cell_type": "code",
   "execution_count": 93,
   "metadata": {},
   "outputs": [
    {
     "name": "stdout",
     "output_type": "stream",
     "text": [
      "[[ True  True  True  True  True  True  True  True  True  True  True  True\n",
      "   True  True  True  True]\n",
      " [ True  True  True  True  True  True  True  True  True  True  True  True\n",
      "   True  True  True  True]\n",
      " [ True  True  True  True  True  True  True  True  True  True  True  True\n",
      "   True  True  True  True]\n",
      " [ True  True  True  True  True  True  True  True  True  True  True  True\n",
      "   True  True  True  True]\n",
      " [ True  True  True  True  True  True  True  True  True  True  True  True\n",
      "   True  True  True  True]\n",
      " [ True  True  True  True  True  True  True  True  True  True  True  True\n",
      "   True  True  True  True]\n",
      " [ True  True  True  True  True  True  True  True  True  True  True  True\n",
      "   True  True  True  True]\n",
      " [ True  True  True  True  True  True  True  True  True  True  True  True\n",
      "   True  True  True  True]]\n"
     ]
    }
   ],
   "source": [
    "# Generate random 1D data\n",
    "sample_data = np.random.normal(0, 1, (8, 16))  # shape (batch_size, features)\n",
    "\n",
    "# JaxMao BatchNorm1D\n",
    "jaxmao_batchnorm = jaxmao.layers.BatchNorm(16, eps=1e-10)\n",
    "jaxmao_batchnorm.init_params(key)\n",
    "jaxmao_batchnorm.switch_mode('inference')\n",
    "jaxmao_batchnorm_output = jaxmao_batchnorm(sample_data)\n",
    "\n",
    "# TensorFlow BatchNormalization\n",
    "tf_batchnorm = keras.layers.BatchNormalization(axis=-1, epsilon=1e-10)\n",
    "tf_batchnorm.build(input_shape=(None, 16))\n",
    "tf_batchnorm.set_weights([\n",
    "    jaxmao_batchnorm.params['gamma'], \n",
    "    jaxmao_batchnorm.params['beta'], \n",
    "    jaxmao_batchnorm.state['running_mean'], \n",
    "    jaxmao_batchnorm.state['running_var']\n",
    "])\n",
    "tf_batchnorm_output = tf_batchnorm(sample_data, training=False).numpy()\n",
    "\n",
    "# Compare\n",
    "print(close_enough(jaxmao_batchnorm_output, tf_batchnorm_output, 1e-6))"
   ]
  },
  {
   "cell_type": "markdown",
   "metadata": {},
   "source": [
    "# batchnorm (training)\n",
    "same with inference. only tolerate up to 1e-6"
   ]
  },
  {
   "cell_type": "code",
   "execution_count": 94,
   "metadata": {},
   "outputs": [
    {
     "name": "stdout",
     "output_type": "stream",
     "text": [
      "[[ True  True  True  True  True  True  True  True  True  True  True  True\n",
      "   True  True  True  True]\n",
      " [ True  True  True  True  True  True  True  True  True  True  True  True\n",
      "   True  True  True  True]\n",
      " [ True  True  True  True  True  True  True  True  True  True  True  True\n",
      "   True  True  True  True]\n",
      " [ True  True  True  True  True  True  True  True  True  True  True  True\n",
      "   True  True  True  True]\n",
      " [ True  True  True  True  True  True  True  True  True  True  True  True\n",
      "   True  True  True  True]\n",
      " [ True  True  True  True  True  True  True  True  True  True  True  True\n",
      "   True  True  True  True]\n",
      " [ True  True  True  True  True  True  True  True  True  True  True  True\n",
      "   True  True  True  True]\n",
      " [ True  True  True  True  True  True  True  True  True  True  True  True\n",
      "   True  True  True  True]]\n"
     ]
    }
   ],
   "source": [
    "# Generate random 1D data\n",
    "sample_data = np.random.normal(0, 1, (8, 16))  # shape (batch_size, features)\n",
    "\n",
    "# JaxMao BatchNorm1D\n",
    "jaxmao_batchnorm = jaxmao.layers.BatchNorm(16, eps=1e-8)\n",
    "jaxmao_batchnorm.init_params(key)\n",
    "jaxmao_batchnorm.switch_mode('train')\n",
    "jaxmao_batchnorm_output, new_state = jaxmao_batchnorm.pure_forward(jaxmao_batchnorm.params, sample_data, jaxmao_batchnorm.state)\n",
    "jaxmao_batchnorm.update_state(new_state)\n",
    "\n",
    "# TensorFlow BatchNormalization\n",
    "tf_batchnorm = keras.layers.BatchNormalization(axis=-1, epsilon=1e-8)\n",
    "tf_batchnorm.build(input_shape=(None, 16))\n",
    "tf_batchnorm.set_weights([\n",
    "    jaxmao_batchnorm.params['gamma'], \n",
    "    jaxmao_batchnorm.params['beta'], \n",
    "    jaxmao_batchnorm.state['running_mean'], \n",
    "    jaxmao_batchnorm.state['running_var']\n",
    "])\n",
    "tf_batchnorm_output = tf_batchnorm(sample_data, training=True).numpy()\n",
    "\n",
    "# Compare\n",
    "print(close_enough(jaxmao_batchnorm_output, tf_batchnorm_output, 1e-6))"
   ]
  },
  {
   "cell_type": "markdown",
   "metadata": {},
   "source": [
    "# dense relu bn"
   ]
  },
  {
   "cell_type": "code",
   "execution_count": 142,
   "metadata": {},
   "outputs": [
    {
     "name": "stdout",
     "output_type": "stream",
     "text": [
      "before bn \n",
      " tf.Tensor(\n",
      "[[ True  True  True  True]\n",
      " [ True  True  True  True]\n",
      " [ True  True  True  True]\n",
      " [ True  True  True  True]\n",
      " [ True  True  True  True]\n",
      " [ True  True  True  True]\n",
      " [ True  True  True  True]\n",
      " [ True  True  True  True]], shape=(8, 4), dtype=bool)\n",
      "\n",
      "after bn \n",
      " [[ True False False False]\n",
      " [False False False False]\n",
      " [False False False False]\n",
      " [False False False  True]\n",
      " [ True False False False]\n",
      " [False False False False]\n",
      " [False False  True  True]\n",
      " [False False False False]]\n"
     ]
    }
   ],
   "source": [
    "# generate data\n",
    "batch_size = 8\n",
    "channels = 5\n",
    "\n",
    "sample_data = np.zeros((batch_size, channels))\n",
    "\n",
    "for c in range(channels):\n",
    "    mean = np.random.randint(-np.random.randint(-12, 2), np.random.randint(42, 52)) \n",
    "    std_dev = np.random.uniform(-2, 421) \n",
    "    sample_data[ :, c] = np.random.normal(mean, std_dev, (batch_size, ))\n",
    "\n",
    "# JaxMao\n",
    "jaxmao_dense = jaxmao.layers.SimpleDense(5, 4, 'relu', use_bias=False)\n",
    "jaxmao_bn = jaxmao.layers.BatchNorm1D(4, eps=1e-5)\n",
    "jaxmao_dense.init_params(key)\n",
    "jaxmao_bn.init_params(key)\n",
    "jaxmao_bn.switch_mode('inference')\n",
    "\n",
    "z1 = jaxmao_dense(sample_data)\n",
    "jaxmao_predicted = jaxmao_bn(jaxmao_predicted)\n",
    "\n",
    "# TensorFlow\n",
    "tf_dense = keras.layers.Dense(4, activation='relu', use_bias=False)\n",
    "tf_bn = keras.layers.BatchNormalization(epsilon=1e-5)\n",
    "tf_dense.build(input_shape=(None, 5))\n",
    "tf_dense.set_weights([jaxmao_dense.params['weights']])\n",
    "\n",
    "z2 = tf_dense(sample_data)\n",
    "tf_predicted = tf_bn(tf_dense(sample_data), training=False)\n",
    "\n",
    "print('before bn \\n', z1 == z2)\n",
    "print('\\nafter bn \\n', close_enough(tf_predicted, jaxmao_predicted, 1e-3))"
   ]
  },
  {
   "cell_type": "code",
   "execution_count": 140,
   "metadata": {},
   "outputs": [
    {
     "data": {
      "text/plain": [
       "<tf.Tensor: shape=(8, 4), dtype=float32, numpy=\n",
       "array([[ 0.0000000e+00, -8.1704483e+01, -2.6055374e+02, -1.7759938e+02],\n",
       "       [-2.9857681e+02,  0.0000000e+00,  5.0622451e-01, -2.1900783e+02],\n",
       "       [-1.3072346e+02,  3.9482296e+00,  1.4341803e+00,  0.0000000e+00],\n",
       "       [-4.1106900e+02, -2.4140935e+02, -4.1260101e+02, -5.7572498e+02],\n",
       "       [ 0.0000000e+00,  0.0000000e+00, -2.4298613e+01, -3.0007215e+01],\n",
       "       [ 3.5409102e+00,  0.0000000e+00,  0.0000000e+00,  1.3800922e-01],\n",
       "       [-5.9365485e+02,  1.5038968e+00,  0.0000000e+00, -3.2684772e+02],\n",
       "       [-4.7047058e+02, -5.6599331e+01,  4.5537469e-01, -2.7459564e+02]],\n",
       "      dtype=float32)>"
      ]
     },
     "execution_count": 140,
     "metadata": {},
     "output_type": "execute_result"
    }
   ],
   "source": [
    "jaxmao_predicted - tf_predicted"
   ]
  },
  {
   "cell_type": "markdown",
   "metadata": {},
   "source": [
    "##### alternative in jaxmao"
   ]
  },
  {
   "cell_type": "code",
   "execution_count": null,
   "metadata": {},
   "outputs": [
    {
     "name": "stdout",
     "output_type": "stream",
     "text": [
      "1/1 [==============================] - 0s 107ms/step\n",
      "[[ True  True  True  True]\n",
      " [ True  True  True  True]\n",
      " [ True  True  True  True]\n",
      " [ True  True  True  True]\n",
      " [ True  True  True  True]\n",
      " [ True  True  True  True]\n",
      " [ True  True  True  True]\n",
      " [ True  True  True  True]]\n"
     ]
    }
   ],
   "source": [
    "# JaxMao\n",
    "jaxmao_dense = jaxmao.layers.Dense(5, 4, 'softmax', batch_norm=True)\n",
    "jaxmao_dense.init_params(key)\n",
    "jaxmao_dense.switch_mode('inference')\n",
    "jaxmao_predicted, new_state = jaxmao_dense.pure_forward(jaxmao_dense.params, \n",
    "                                                        sample_data, \n",
    "                                                        jaxmao_dense.state)\n",
    "\n",
    "# TensorFlow\n",
    "tf_dense = keras.layers.Dense(4, use_bias=False)\n",
    "tf_bn = keras.layers.BatchNormalization()\n",
    "tf_dense.build(input_shape=(5, ))\n",
    "tf_dense.set_weights([jaxmao_dense.params['simple_dense']['weights']])\n",
    "tf_sequential = Sequential([tf_dense, tf_bn, keras.layers.Activation('softmax')])\n",
    "tf_predicted = tf_sequential.predict(sample_data)\n",
    "\n",
    "print(close_enough(tf_predicted, jaxmao_predicted, 1e-3))"
   ]
  },
  {
   "cell_type": "markdown",
   "metadata": {},
   "source": [
    "#### training mode"
   ]
  },
  {
   "cell_type": "code",
   "execution_count": null,
   "metadata": {},
   "outputs": [
    {
     "name": "stdout",
     "output_type": "stream",
     "text": [
      "[[ True  True  True  True]\n",
      " [ True  True  True  True]\n",
      " [ True  True  True  True]\n",
      " [ True  True  True  True]\n",
      " [ True  True  True  True]\n",
      " [ True  True  True  True]\n",
      " [ True  True  True  True]\n",
      " [ True  True  True  True]]\n"
     ]
    }
   ],
   "source": [
    "# JaxMao\n",
    "jaxmao_dense = jaxmao.layers.Dense(5, 4, 'linear', batch_norm=True)\n",
    "jaxmao_dense.init_params(key)\n",
    "jaxmao_dense.switch_mode('train')\n",
    "\n",
    "# TensorFlow\n",
    "tf_dense = keras.layers.Dense(4, use_bias=False)\n",
    "tf_bn = keras.layers.BatchNormalization()\n",
    "tf_dense.build(input_shape=(5, ))\n",
    "tf_dense.set_weights([jaxmao_dense.params['simple_dense']['weights']])\n",
    "\n",
    "for _ in range(10):\n",
    "    jaxmao_predicted, new_state = jaxmao_dense.pure_forward(jaxmao_dense.params, \n",
    "                                                        sample_data, \n",
    "                                                        jaxmao_dense.state)\n",
    "    jaxmao_dense.update_state(new_state)\n",
    "    tf_z = tf_dense(sample_data)\n",
    "    tf_predicted = tf_bn(tf_z, training=True)\n",
    "\n",
    "print(close_enough(tf_predicted, jaxmao_predicted, 1e-6))"
   ]
  },
  {
   "cell_type": "markdown",
   "metadata": {},
   "source": [
    "# convolution\n",
    "also only consistent at eps=1e-6"
   ]
  },
  {
   "cell_type": "code",
   "execution_count": null,
   "metadata": {},
   "outputs": [
    {
     "name": "stdout",
     "output_type": "stream",
     "text": [
      "True\n"
     ]
    }
   ],
   "source": [
    "# generate data\n",
    "sample_data = np.random.normal(0, 1, (8, 16, 16, 5))\n",
    "\n",
    "# JaxMao\n",
    "jaxmao_conv = jaxmao.layers.SimpleConv2D(5, 4, (3, 3), activation='relu', padding='SAME')\n",
    "jaxmao_conv.init_params(key)\n",
    "jaxmao_predicted = jaxmao_conv(sample_data)\n",
    "\n",
    "# TensorFlow\n",
    "tf_conv = keras.layers.Conv2D(4, (3,3), activation='relu', padding='same')\n",
    "tf_conv.build(input_shape=(16, 16, 5))\n",
    "tf_conv.set_weights([jaxmao_conv.params['weights'], jaxmao_conv.params['biases']])\n",
    "tf_predicted = tf_conv(sample_data).numpy()\n",
    "\n",
    "print(close_enough(tf_predicted, jaxmao_predicted, 1e-6).all())"
   ]
  },
  {
   "cell_type": "markdown",
   "metadata": {},
   "source": [
    "# BatchNorm2d"
   ]
  },
  {
   "cell_type": "code",
   "execution_count": 144,
   "metadata": {},
   "outputs": [
    {
     "name": "stdout",
     "output_type": "stream",
     "text": [
      "True\n"
     ]
    }
   ],
   "source": [
    "# generate data, if use random.normal mean and var wouldn't be tested.\n",
    "# Initialize shape parameters\n",
    "batch_size = 8\n",
    "height = 16\n",
    "width = 16\n",
    "channels = 5\n",
    "\n",
    "# Initialize empty array\n",
    "sample_image = np.zeros((batch_size, height, width, channels))\n",
    "\n",
    "# Populate each channel with different mean and std dev\n",
    "for c in range(channels):\n",
    "    mean = np.random.randint(-np.random.randint(-12, 2), np.random.randint(42, 52)) \n",
    "    std_dev = np.random.uniform(-2, 421) \n",
    "    sample_image[:, :, :, c] = np.random.normal(mean, std_dev, (batch_size, height, width))\n",
    "\n",
    "# JaxMao BatchNorm2D\n",
    "jaxmao_batchnorm2d = jaxmao.layers.BatchNorm2D(channels, eps=1e-10, momentum=0.99)\n",
    "jaxmao_batchnorm2d.init_params(key)\n",
    "jaxmao_batchnorm2d.switch_mode('inference')\n",
    "jaxmao_batchnorm2d_output = jaxmao_batchnorm2d(sample_image)\n",
    "\n",
    "# TensorFlow BatchNormalization (2D)\n",
    "tf_batchnorm2d = keras.layers.BatchNormalization(epsilon=1e-10)\n",
    "tf_batchnorm2d.build(input_shape=(None, height, width, channels))\n",
    "tf_batchnorm2d.set_weights([\n",
    "    jaxmao_batchnorm2d.params['gamma'], \n",
    "    jaxmao_batchnorm2d.params['beta'], \n",
    "    jaxmao_batchnorm2d.state['running_mean'], \n",
    "    jaxmao_batchnorm2d.state['running_var']\n",
    "])\n",
    "tf_batchnorm2d_output = tf_batchnorm2d(sample_image, training=False).numpy()\n",
    "\n",
    "# Compare\n",
    "print(close_enough(jaxmao_batchnorm2d_output, tf_batchnorm2d_output, 1e-10).all())"
   ]
  },
  {
   "cell_type": "code",
   "execution_count": 148,
   "metadata": {},
   "outputs": [
    {
     "name": "stdout",
     "output_type": "stream",
     "text": [
      "[[[[ True  True  True  True  True  True]\n",
      "   [ True  True  True  True  True  True]\n",
      "   [ True  True  True  True  True  True]\n",
      "   [ True  True  True  True  True  True]\n",
      "   [ True  True  True  True  True  True]\n",
      "   [ True  True  True  True  True  True]\n",
      "   [ True  True  True  True  True  True]\n",
      "   [ True  True  True  True  True  True]]\n",
      "\n",
      "  [[ True  True  True  True  True  True]\n",
      "   [ True  True  True  True  True  True]\n",
      "   [ True  True  True  True  True  True]\n",
      "   [ True  True  True  True  True  True]\n",
      "   [ True  True  True  True  True  True]\n",
      "   [ True  True  True  True  True  True]\n",
      "   [ True  True  True  True  True  True]\n",
      "   [ True  True  True  True  True  True]]\n",
      "\n",
      "  [[ True  True  True  True  True  True]\n",
      "   [ True  True  True  True  True  True]\n",
      "   [ True  True  True  True  True  True]\n",
      "   [ True  True  True  True  True  True]\n",
      "   [ True  True  True  True  True  True]\n",
      "   [ True  True  True  True  True  True]\n",
      "   [ True  True  True  True  True  True]\n",
      "   [ True  True  True  True  True  True]]\n",
      "\n",
      "  [[ True  True  True  True  True  True]\n",
      "   [ True  True  True  True  True  True]\n",
      "   [ True  True  True  True  True  True]\n",
      "   [ True  True  True  True  True  True]\n",
      "   [ True  True  True  True  True  True]\n",
      "   [ True  True  True  True  True  True]\n",
      "   [ True  True  True  True  True  True]\n",
      "   [ True  True  True  True  True  True]]\n",
      "\n",
      "  [[ True  True  True  True  True  True]\n",
      "   [ True  True  True  True  True  True]\n",
      "   [ True  True  True  True  True  True]\n",
      "   [ True  True  True  True  True  True]\n",
      "   [ True  True  True  True  True  True]\n",
      "   [ True  True  True  True  True  True]\n",
      "   [ True  True  True  True  True  True]\n",
      "   [ True  True  True  True  True  True]]\n",
      "\n",
      "  [[ True  True  True  True  True  True]\n",
      "   [ True  True  True  True  True  True]\n",
      "   [ True  True  True  True  True  True]\n",
      "   [ True  True  True  True  True  True]\n",
      "   [ True  True  True  True  True  True]\n",
      "   [ True  True  True  True  True  True]\n",
      "   [ True  True  True  True  True  True]\n",
      "   [ True  True  True  True  True  True]]\n",
      "\n",
      "  [[ True  True  True  True  True  True]\n",
      "   [ True  True  True  True  True  True]\n",
      "   [ True  True  True  True  True  True]\n",
      "   [ True  True  True  True  True  True]\n",
      "   [ True  True  True  True  True  True]\n",
      "   [ True  True  True  True  True  True]\n",
      "   [ True  True  True  True  True  True]\n",
      "   [ True  True  True  True  True  True]]\n",
      "\n",
      "  [[ True  True  True  True  True  True]\n",
      "   [ True  True  True  True  True  True]\n",
      "   [ True  True  True  True  True  True]\n",
      "   [ True  True  True  True  True  True]\n",
      "   [ True  True  True  True  True  True]\n",
      "   [ True  True  True  True  True  True]\n",
      "   [ True  True  True  True  True  True]\n",
      "   [ True  True  True  True  True  True]]]]\n"
     ]
    }
   ],
   "source": [
    "# Generate random 2D data (image)\n",
    "sample_image = np.random.normal(0, 1, (1, 8, 8, 6))  # shape (batch_size, height, width, channels)\n",
    "\n",
    "# JaxMao BatchNorm2D\n",
    "jaxmao_batchnorm2d = jaxmao.layers.BatchNorm2D(6)\n",
    "jaxmao_batchnorm2d.init_params(key)\n",
    "jaxmao_batchnorm2d.switch_mode('train')\n",
    "jaxmao_batchnorm2d_output, state = jaxmao_batchnorm2d.pure_forward(jaxmao_batchnorm2d.params, sample_image, jaxmao_batchnorm2d.state)\n",
    "\n",
    "# TensorFlow BatchNormalization (2D)\n",
    "tf_batchnorm2d = keras.layers.BatchNormalization()\n",
    "tf_batchnorm2d.build(input_shape=(None, 8, 8, 6))\n",
    "tf_batchnorm2d.set_weights([\n",
    "    jaxmao_batchnorm2d.params['gamma'], \n",
    "    jaxmao_batchnorm2d.params['beta'], \n",
    "    jaxmao_batchnorm2d.state['running_mean'], \n",
    "    jaxmao_batchnorm2d.state['running_var']\n",
    "])\n",
    "tf_batchnorm2d_output = tf_batchnorm2d(sample_image, training=True).numpy()\n",
    "\n",
    "# Compare\n",
    "print(close_enough(jaxmao_batchnorm2d_output, tf_batchnorm2d_output, 1e-6))"
   ]
  },
  {
   "cell_type": "markdown",
   "metadata": {},
   "source": [
    "# convolution bn"
   ]
  },
  {
   "cell_type": "code",
   "execution_count": 149,
   "metadata": {},
   "outputs": [],
   "source": [
    "class BatchNorm2D(BatchNorm):\n",
    "    def __init__(\n",
    "        self,\n",
    "        num_features,\n",
    "        momentum = 0.99,\n",
    "        eps=1e-5\n",
    "        ):\n",
    "        super().__init__(num_features=num_features, momentum=momentum, axis_mean=(1, 2, 3), eps=eps)"
   ]
  },
  {
   "cell_type": "code",
   "execution_count": 150,
   "metadata": {},
   "outputs": [
    {
     "ename": "AttributeError",
     "evalue": "'Conv2D' object has no attribute 'set_inference_mode'",
     "output_type": "error",
     "traceback": [
      "\u001b[0;31m---------------------------------------------------------------------------\u001b[0m",
      "\u001b[0;31mAttributeError\u001b[0m                            Traceback (most recent call last)",
      "\u001b[1;32m/home/jaxmao/jaxmao_branches/JaxMao/compare_layers.ipynb Cell 27\u001b[0m line \u001b[0;36m2\n\u001b[1;32m     <a href='vscode-notebook-cell://wsl%2Bubuntu-22.04/home/jaxmao/jaxmao_branches/JaxMao/compare_layers.ipynb#X35sdnNjb2RlLXJlbW90ZQ%3D%3D?line=18'>19</a>\u001b[0m jaxmao_conv \u001b[39m=\u001b[39m jaxmao\u001b[39m.\u001b[39mlayers\u001b[39m.\u001b[39mConv2D(\u001b[39m5\u001b[39m, \u001b[39m4\u001b[39m, (\u001b[39m3\u001b[39m, \u001b[39m3\u001b[39m), activation\u001b[39m=\u001b[39m\u001b[39m'\u001b[39m\u001b[39mlinear\u001b[39m\u001b[39m'\u001b[39m, padding\u001b[39m=\u001b[39m\u001b[39m'\u001b[39m\u001b[39mSAME\u001b[39m\u001b[39m'\u001b[39m, batch_norm\u001b[39m=\u001b[39m\u001b[39mTrue\u001b[39;00m, use_bias\u001b[39m=\u001b[39m\u001b[39mFalse\u001b[39;00m)\n\u001b[1;32m     <a href='vscode-notebook-cell://wsl%2Bubuntu-22.04/home/jaxmao/jaxmao_branches/JaxMao/compare_layers.ipynb#X35sdnNjb2RlLXJlbW90ZQ%3D%3D?line=19'>20</a>\u001b[0m jaxmao_conv\u001b[39m.\u001b[39minit_params(key)\n\u001b[0;32m---> <a href='vscode-notebook-cell://wsl%2Bubuntu-22.04/home/jaxmao/jaxmao_branches/JaxMao/compare_layers.ipynb#X35sdnNjb2RlLXJlbW90ZQ%3D%3D?line=20'>21</a>\u001b[0m jaxmao_conv\u001b[39m.\u001b[39;49mset_inference_mode()\n\u001b[1;32m     <a href='vscode-notebook-cell://wsl%2Bubuntu-22.04/home/jaxmao/jaxmao_branches/JaxMao/compare_layers.ipynb#X35sdnNjb2RlLXJlbW90ZQ%3D%3D?line=21'>22</a>\u001b[0m \u001b[39m# jaxmao_conv.set_training_mode()\u001b[39;00m\n\u001b[1;32m     <a href='vscode-notebook-cell://wsl%2Bubuntu-22.04/home/jaxmao/jaxmao_branches/JaxMao/compare_layers.ipynb#X35sdnNjb2RlLXJlbW90ZQ%3D%3D?line=23'>24</a>\u001b[0m jaxmao_predicted, state \u001b[39m=\u001b[39m jaxmao_conv(jaxmao_conv\u001b[39m.\u001b[39mparams, sample_data)\n",
      "\u001b[0;31mAttributeError\u001b[0m: 'Conv2D' object has no attribute 'set_inference_mode'"
     ]
    }
   ],
   "source": [
    "# generate data\n",
    "# Initialize shape parameters\n",
    "batch_size = 8\n",
    "height = 16\n",
    "width = 16\n",
    "channels = 5\n",
    "\n",
    "# Initialize empty array\n",
    "sample_data = np.zeros((batch_size, height, width, channels))\n",
    "\n",
    "# Populate each channel with different mean and std dev\n",
    "for c in range(channels):\n",
    "    mean = np.random.randint(-np.random.randint(-12, 2), np.random.randint(42, 52),) \n",
    "    std_dev = np.random.uniform(-2, 421) \n",
    "    sample_data[:, :, :, c] = np.random.normal(mean, std_dev, (batch_size, height, width))\n",
    "\n",
    "\n",
    "# JaxMao\n",
    "jaxmao_conv = jaxmao.layers.Conv2D(5, 4, (3, 3), activation='linear', padding='SAME', batch_norm=True, use_bias=False)\n",
    "jaxmao_conv.init_params(key)\n",
    "jaxmao_conv.set_inference_mode()\n",
    "# jaxmao_conv.set_training_mode()\n",
    "\n",
    "jaxmao_predicted, state = jaxmao_conv(jaxmao_conv.params, sample_data)\n",
    "\n",
    "# TensorFlow\n",
    "tf_conv = keras.layers.Conv2D(4, (3,3), padding='same', use_bias=False)\n",
    "tf_bn = keras.layers.BatchNormalization(epsilon=1e-5) # just realize that we can do this.\n",
    "tf_conv.build(input_shape=(16, 16, 5))\n",
    "tf_conv.set_weights([jaxmao_conv.params['conv2d/simple_conv2d']['weights']])\n",
    "\n",
    "z = tf_conv(sample_data)\n",
    "z = tf_bn(z, training=False)\n",
    "tf_predicted = keras.layers.Activation('linear')(z)\n",
    "\n",
    "print(close_enough(tf_predicted, jaxmao_predicted, 1e-5).all())"
   ]
  },
  {
   "cell_type": "markdown",
   "metadata": {},
   "source": [
    "# other layers ... "
   ]
  },
  {
   "cell_type": "markdown",
   "metadata": {},
   "source": [
    "# MaxPooling2d"
   ]
  },
  {
   "cell_type": "code",
   "execution_count": null,
   "metadata": {},
   "outputs": [
    {
     "name": "stdout",
     "output_type": "stream",
     "text": [
      "True\n"
     ]
    }
   ],
   "source": [
    "sample_image = np.random.normal(0, 1, (5, 8, 8, 3)) \n",
    "\n",
    "# JaxMao\n",
    "jaxmao_maxpool = jaxmao.layers.MaxPooling2D(kernel_size=(2, 2), strides=(2, 2), padding='SAME')\n",
    "jaxmao_maxpool.init_params(key)\n",
    "jaxmao_pooled, state = jaxmao_maxpool(jaxmao_maxpool.params, sample_image)\n",
    "\n",
    "# TensorFlow\n",
    "tf_maxpool = keras.layers.MaxPooling2D(pool_size=(2, 2), strides=(2, 2), padding='same')\n",
    "tf_pooled = tf_maxpool(sample_image).numpy() \n",
    "\n",
    "# Compare\n",
    "print(close_enough(jaxmao_pooled, tf_pooled).all())"
   ]
  },
  {
   "cell_type": "markdown",
   "metadata": {},
   "source": [
    "# AveragePooling2d"
   ]
  },
  {
   "cell_type": "code",
   "execution_count": null,
   "metadata": {},
   "outputs": [
    {
     "name": "stdout",
     "output_type": "stream",
     "text": [
      "True\n"
     ]
    }
   ],
   "source": [
    "# Generate random image data\n",
    "sample_image = np.random.normal(0, 1, (4, 8, 8, 3))  # shape (batch_size, height, width, channels)\n",
    "\n",
    "# JaxMao AveragePooling2D\n",
    "jaxmao_avgpool = jaxmao.layers.AveragePooling2D(kernel_size=(2, 2), strides=(2, 2), padding='SAME')\n",
    "jaxmao_avgpool.init_params(key)\n",
    "jaxmao_avg_pooled, state = jaxmao_avgpool(jaxmao_avgpool.params, sample_image)\n",
    "\n",
    "# TensorFlow AveragePooling2D\n",
    "tf_avgpool = keras.layers.AveragePooling2D(pool_size=(2, 2), strides=(2, 2), padding='same')\n",
    "tf_avg_pooled = tf_avgpool(sample_image).numpy()\n",
    "\n",
    "# Compare\n",
    "print(close_enough(jaxmao_avg_pooled, tf_avg_pooled).all())"
   ]
  },
  {
   "cell_type": "markdown",
   "metadata": {},
   "source": [
    "# GlobalAveragePooling2d"
   ]
  },
  {
   "cell_type": "code",
   "execution_count": null,
   "metadata": {},
   "outputs": [
    {
     "name": "stdout",
     "output_type": "stream",
     "text": [
      "True\n"
     ]
    }
   ],
   "source": [
    "# Generate random image data\n",
    "sample_image = np.random.normal(0, 1, (421, 42, 8, 3))  # shape (batch_size, height, width, channels)\n",
    "\n",
    "# JaxMao GlobalAveragePooling2D\n",
    "jaxmao_global_avgpool = jaxmao.layers.GlobalAveragePooling2D()\n",
    "jaxmao_global_avgpool.init_params(key)  # If initialization is required\n",
    "jaxmao_global_avg_pooled, state = jaxmao_global_avgpool(jaxmao_global_avgpool.params, sample_image)\n",
    "\n",
    "# TensorFlow GlobalAveragePooling2D\n",
    "tf_global_avgpool = keras.layers.GlobalAveragePooling2D()\n",
    "tf_global_avg_pooled = tf_global_avgpool(sample_image).numpy()\n",
    "\n",
    "# Compare\n",
    "print(close_enough(jaxmao_global_avg_pooled, tf_global_avg_pooled).all())"
   ]
  },
  {
   "cell_type": "markdown",
   "metadata": {},
   "source": [
    "# GlobalMaxPooling2d"
   ]
  },
  {
   "cell_type": "code",
   "execution_count": null,
   "metadata": {},
   "outputs": [
    {
     "name": "stdout",
     "output_type": "stream",
     "text": [
      "True\n"
     ]
    }
   ],
   "source": [
    "# Generate random image data\n",
    "sample_image = np.random.normal(0, 1, (421, 42, 8, 3))  # shape (batch_size, height, width, channels)\n",
    "\n",
    "# JaxMao GlobalAveragePooling2D\n",
    "jaxmao_global_maxpool = jaxmao.layers.GlobalMaxPooling2D()\n",
    "jaxmao_global_maxpool.init_params(key)  # If initialization is required\n",
    "jaxmao_global_avg_pooled, state = jaxmao_global_maxpool(jaxmao_global_maxpool.params, sample_image)\n",
    "\n",
    "# TensorFlow GlobalAveragePooling2D\n",
    "tf_global_maxpool = keras.layers.GlobalMaxPooling2D()\n",
    "tf_global_avg_pooled = tf_global_maxpool(sample_image).numpy()\n",
    "\n",
    "# Compare\n",
    "print(close_enough(jaxmao_global_avg_pooled, tf_global_avg_pooled).all())"
   ]
  },
  {
   "cell_type": "markdown",
   "metadata": {},
   "source": [
    "# DepthwiseConv2d"
   ]
  },
  {
   "cell_type": "code",
   "execution_count": null,
   "metadata": {},
   "outputs": [
    {
     "name": "stdout",
     "output_type": "stream",
     "text": [
      "True\n"
     ]
    }
   ],
   "source": [
    "# Generate random image data\n",
    "sample_image = np.random.normal(0, 1, (5, 8, 8, 42))  # shape (batch_size, height, width, channels)\n",
    "\n",
    "# JaxMao DepthwiseConv2D\n",
    "jaxmao_depthwise_conv = jaxmao.layers.DepthwiseConv2D(42, kernel_size=(3, 3), strides=(1, 1), padding='SAME')\n",
    "jaxmao_depthwise_conv.init_params(key)\n",
    "jaxmao_depthwise_conv_output, state = jaxmao_depthwise_conv(jaxmao_depthwise_conv.params, sample_image)\n",
    "\n",
    "# TensorFlow DepthwiseConv2D\n",
    "tf_depthwise_conv = keras.layers.DepthwiseConv2D(kernel_size=(3, 3), strides=(1, 1), padding='same', activation='relu')\n",
    "tf_depthwise_conv.build(input_shape=(None, 8, 8, 42))\n",
    "tf_depthwise_conv.set_weights([jaxmao_depthwise_conv.params['weights'].reshape(3,3,42,1), jaxmao_depthwise_conv.params['biases']])\n",
    "tf_depthwise_conv_output = tf_depthwise_conv(sample_image).numpy()\n",
    "\n",
    "# Compare\n",
    "print(close_enough(jaxmao_depthwise_conv_output, tf_depthwise_conv_output).all())"
   ]
  },
  {
   "cell_type": "markdown",
   "metadata": {},
   "source": [
    "# Cross entropy"
   ]
  },
  {
   "cell_type": "code",
   "execution_count": null,
   "metadata": {},
   "outputs": [
    {
     "name": "stdout",
     "output_type": "stream",
     "text": [
      "True\n"
     ]
    },
    {
     "data": {
      "text/plain": [
       "(Array(0.93529034, dtype=float32), 0.93529034)"
      ]
     },
     "execution_count": 25,
     "metadata": {},
     "output_type": "execute_result"
    }
   ],
   "source": [
    "# Generate sample data\n",
    "y_true = np.array([0, 1, 2, 2, 1])  # True labels\n",
    "y_true = jax.nn.one_hot(y_true, num_classes=3).astype('float32')\n",
    "y_pred = np.array([\n",
    "    [0.1, 0.2, 0.7],  # Predicted probabilities\n",
    "    [0.5, 0.4, 0.1],\n",
    "    [0.02, 0.01, 0.97],\n",
    "    [0.1, 0.1, 0.8],\n",
    "    [0.6, 0.3, 0.1]\n",
    "]).astype('float32')\n",
    "\n",
    "# JaxMao CrossEntropy\n",
    "jaxmao_cross_entropy = CategoricalCrossEntropy(reduce_fn='mean_over_batch_size')\n",
    "jaxmao_loss = jaxmao_cross_entropy.calculate_loss(y_pred, y_true)\n",
    "\n",
    "# TensorFlow CrossEntropy\n",
    "tf_cross_entropy = keras.losses.CategoricalCrossentropy()\n",
    "tf_loss = tf_cross_entropy(y_true, y_pred).numpy()\n",
    "\n",
    "# Compare\n",
    "print(close_enough(jaxmao_loss, tf_loss))\n",
    "jaxmao_loss, tf_loss"
   ]
  },
  {
   "cell_type": "code",
   "execution_count": null,
   "metadata": {},
   "outputs": [
    {
     "name": "stdout",
     "output_type": "stream",
     "text": [
      "True\n"
     ]
    },
    {
     "data": {
      "text/plain": [
       "(Array(4.6764517, dtype=float32), 4.6764517)"
      ]
     },
     "execution_count": 26,
     "metadata": {},
     "output_type": "execute_result"
    }
   ],
   "source": [
    "# Generate sample data\n",
    "y_true = np.array([0, 1, 2, 2, 1])  # True labels\n",
    "y_true = jax.nn.one_hot(y_true, num_classes=3).astype('float32')\n",
    "y_pred = np.array([\n",
    "    [0.1, 0.2, 0.7],  # Predicted probabilities\n",
    "    [0.5, 0.4, 0.1],\n",
    "    [0.02, 0.01, 0.97],\n",
    "    [0.1, 0.1, 0.8],\n",
    "    [0.6, 0.3, 0.1]\n",
    "]).astype('float32')\n",
    "\n",
    "# JaxMao CrossEntropy\n",
    "jaxmao_cross_entropy = CategoricalCrossEntropy(reduce_fn=jnp.sum)\n",
    "jaxmao_loss = jaxmao_cross_entropy.calculate_loss(y_pred, y_true)\n",
    "\n",
    "# TensorFlow CrossEntropy\n",
    "tf_cross_entropy = keras.losses.CategoricalCrossentropy(reduction='sum')\n",
    "tf_loss = tf_cross_entropy(y_true, y_pred).numpy()\n",
    "\n",
    "# Compare\n",
    "print(close_enough(jaxmao_loss, tf_loss))\n",
    "jaxmao_loss, tf_loss"
   ]
  }
 ],
 "metadata": {
  "kernelspec": {
   "display_name": "jaxlab",
   "language": "python",
   "name": "python3"
  },
  "language_info": {
   "codemirror_mode": {
    "name": "ipython",
    "version": 3
   },
   "file_extension": ".py",
   "mimetype": "text/x-python",
   "name": "python",
   "nbconvert_exporter": "python",
   "pygments_lexer": "ipython3",
   "version": "3.11.5"
  }
 },
 "nbformat": 4,
 "nbformat_minor": 2
}
