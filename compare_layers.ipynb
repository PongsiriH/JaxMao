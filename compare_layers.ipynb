{
 "cells": [
  {
   "cell_type": "code",
   "execution_count": 30,
   "metadata": {},
   "outputs": [
    {
     "name": "stdout",
     "output_type": "stream",
     "text": [
      "jax.devices() : [CpuDevice(id=0)]\n",
      "tf.config.list_physical_devices():  [PhysicalDevice(name='/physical_device:CPU:0', device_type='CPU')]\n"
     ]
    }
   ],
   "source": [
    "import os\n",
    "os.environ[\"JAX_PLATFORM_NAME\"] = \"cpu\"\n",
    "os.environ['CUDA_VISIBLE_DEVICES'] = '-1'\n",
    "\n",
    "import jax\n",
    "import jax.numpy as jnp\n",
    "import numpy as np\n",
    "\n",
    "import jaxmao\n",
    "from jaxmao.layers import Conv2D, SimpleDense, Dense, BatchNorm, ReLU, Flatten, StableSoftmax, BatchNorm2D, DepthwiseConv2D, Activation\n",
    "from jaxmao.modules import Module\n",
    "from jaxmao.optimizers import GradientDescent\n",
    "from jaxmao.losses import CategoricalCrossEntropy\n",
    "from jaxmao.metrics import Accuracy, Precision, Recall\n",
    "\n",
    "print('jax.devices() :', jax.devices())\n",
    "\n",
    "import tensorflow as tf\n",
    "from tensorflow import keras\n",
    "from tensorflow.keras import Sequential\n",
    "print('tf.config.list_physical_devices(): ', tf.config.list_physical_devices())\n",
    "\n",
    "seed = 42\n",
    "key = jax.random.PRNGKey(seed)\n",
    "\n",
    "tf.keras.backend.set_floatx('float32')"
   ]
  },
  {
   "cell_type": "code",
   "execution_count": 31,
   "metadata": {},
   "outputs": [],
   "source": [
    "def close_enough(A, B, eps=1e-5):\n",
    "    return np.less_equal(np.abs(A - B), eps)"
   ]
  },
  {
   "cell_type": "markdown",
   "metadata": {},
   "source": [
    "# SimpleDense"
   ]
  },
  {
   "cell_type": "code",
   "execution_count": 32,
   "metadata": {},
   "outputs": [
    {
     "name": "stdout",
     "output_type": "stream",
     "text": [
      "True\n",
      "1/1 [==============================] - 0s 56ms/step\n",
      "[[ True  True  True  True]\n",
      " [ True  True  True  True]\n",
      " [ True  True  True  True]\n",
      " [ True  True  True  True]\n",
      " [ True  True  True  True]\n",
      " [ True  True  True  True]\n",
      " [ True  True  True  True]\n",
      " [ True  True  True  True]]\n"
     ]
    }
   ],
   "source": [
    "# generate data\n",
    "sample_data = np.random.normal(0, 1, (8, 16))\n",
    "\n",
    "# JaxMao\n",
    "jaxmao_dense = jaxmao.layers.SimpleDense(16, 4, 'linear')\n",
    "jaxmao_dense.init_params(key)\n",
    "jaxmao_predicted, state = jaxmao_dense(jaxmao_dense.params, sample_data)\n",
    "\n",
    "# TensorFlow\n",
    "tf_dense = keras.layers.Dense(4)\n",
    "tf_dense.build(input_shape=(16, ))\n",
    "tf_dense.set_weights([jaxmao_dense.params['weights'], jaxmao_dense.params['biases']])\n",
    "tf_dense = Sequential([tf_dense])\n",
    "tf_predicted = tf_dense.predict(sample_data)\n",
    "\n",
    "print(close_enough(tf_predicted, jaxmao_predicted))"
   ]
  },
  {
   "cell_type": "markdown",
   "metadata": {},
   "source": [
    "# Softmax"
   ]
  },
  {
   "cell_type": "code",
   "execution_count": 33,
   "metadata": {},
   "outputs": [
    {
     "name": "stdout",
     "output_type": "stream",
     "text": [
      "True\n",
      "1/1 [==============================] - 0s 51ms/step\n",
      "[[ True  True  True  True]\n",
      " [ True  True  True  True]\n",
      " [ True  True  True  True]\n",
      " [ True  True  True  True]\n",
      " [ True  True  True  True]\n",
      " [ True  True  True  True]\n",
      " [ True  True  True  True]\n",
      " [ True  True  True  True]]\n"
     ]
    }
   ],
   "source": [
    "# generate data\n",
    "sample_data = np.random.normal(0, 1, (8, 16))\n",
    "\n",
    "# JaxMao\n",
    "jaxmao_dense = jaxmao.layers.SimpleDense(16, 4, 'softmax')\n",
    "jaxmao_dense.init_params(key)\n",
    "jaxmao_predicted, state = jaxmao_dense(jaxmao_dense.params, sample_data)\n",
    "\n",
    "# TensorFlow\n",
    "tf_dense = keras.layers.Dense(4, activation='softmax')\n",
    "tf_dense.build(input_shape=(16, ))\n",
    "tf_dense.set_weights([jaxmao_dense.params['weights'], jaxmao_dense.params['biases']])\n",
    "tf_dense = Sequential([tf_dense])\n",
    "tf_predicted = tf_dense.predict(sample_data)\n",
    "\n",
    "print(close_enough(tf_predicted, jaxmao_predicted))"
   ]
  },
  {
   "cell_type": "markdown",
   "metadata": {},
   "source": [
    "# relu"
   ]
  },
  {
   "cell_type": "code",
   "execution_count": 34,
   "metadata": {},
   "outputs": [
    {
     "name": "stdout",
     "output_type": "stream",
     "text": [
      "True\n",
      "1/1 [==============================] - 0s 53ms/step\n",
      "[[ True  True  True  True]\n",
      " [ True  True  True  True]\n",
      " [ True  True  True  True]\n",
      " [ True  True  True  True]\n",
      " [ True  True  True  True]\n",
      " [ True  True  True  True]\n",
      " [ True  True  True  True]\n",
      " [ True  True  True  True]]\n"
     ]
    }
   ],
   "source": [
    "# generate data\n",
    "sample_data = np.random.normal(0, 1, (8, 16))\n",
    "\n",
    "# JaxMao\n",
    "jaxmao_dense = jaxmao.layers.SimpleDense(16, 4, 'relu')\n",
    "jaxmao_dense.init_params(key)\n",
    "jaxmao_predicted, state = jaxmao_dense(jaxmao_dense.params, sample_data)\n",
    "\n",
    "# TensorFlow\n",
    "tf_dense = keras.layers.Dense(4, activation='relu')\n",
    "tf_dense.build(input_shape=(16, ))\n",
    "tf_dense.set_weights([jaxmao_dense.params['weights'], jaxmao_dense.params['biases']])\n",
    "tf_sequential = Sequential([tf_dense])\n",
    "tf_predicted = tf_sequential.predict(sample_data)\n",
    "\n",
    "print(close_enough(tf_predicted, jaxmao_predicted))"
   ]
  },
  {
   "cell_type": "markdown",
   "metadata": {},
   "source": [
    "# BatchNorm (inference)"
   ]
  },
  {
   "cell_type": "code",
   "execution_count": 35,
   "metadata": {},
   "outputs": [
    {
     "name": "stdout",
     "output_type": "stream",
     "text": [
      "True\n",
      "[[ True  True  True  True  True  True  True  True  True  True  True  True\n",
      "   True  True  True  True]\n",
      " [ True  True  True  True  True  True  True  True  True  True  True  True\n",
      "   True  True  True  True]\n",
      " [ True  True  True  True  True  True  True  True  True  True  True  True\n",
      "   True  True  True  True]\n",
      " [ True  True  True  True  True  True  True  True  True  True  True  True\n",
      "   True  True  True  True]\n",
      " [ True  True  True  True  True  True  True  True  True  True  True  True\n",
      "   True  True  True  True]\n",
      " [ True  True  True  True  True  True  True  True  True  True  True  True\n",
      "   True  True  True  True]\n",
      " [ True  True  True  True  True  True  True  True  True  True  True  True\n",
      "   True  True  True  True]\n",
      " [ True  True  True  True  True  True  True  True  True  True  True  True\n",
      "   True  True  True  True]]\n"
     ]
    }
   ],
   "source": [
    "# Generate random 1D data\n",
    "sample_data = np.random.normal(0, 1, (8, 16))  # shape (batch_size, features)\n",
    "\n",
    "# JaxMao BatchNorm1D\n",
    "jaxmao_batchnorm = jaxmao.layers.BatchNorm(16, eps=1e-5)\n",
    "jaxmao_batchnorm.init_params(key)\n",
    "jaxmao_batchnorm.set_inference_mode()\n",
    "jaxmao_batchnorm_output, state = jaxmao_batchnorm(jaxmao_batchnorm.params, sample_data)\n",
    "\n",
    "# TensorFlow BatchNormalization\n",
    "tf_batchnorm = keras.layers.BatchNormalization(axis=-1, epsilon=1e-5)\n",
    "tf_batchnorm.build(input_shape=(None, 16))\n",
    "tf_batchnorm.set_weights([\n",
    "    jaxmao_batchnorm.params['gamma'], \n",
    "    jaxmao_batchnorm.params['beta'], \n",
    "    jaxmao_batchnorm.state['running_mean'], \n",
    "    jaxmao_batchnorm.state['running_var']\n",
    "])\n",
    "tf_batchnorm_output = tf_batchnorm(sample_data, training=False).numpy()\n",
    "\n",
    "# Compare\n",
    "print(close_enough(jaxmao_batchnorm_output, tf_batchnorm_output))"
   ]
  },
  {
   "cell_type": "markdown",
   "metadata": {},
   "source": [
    "# batchnorm (training)"
   ]
  },
  {
   "cell_type": "code",
   "execution_count": 36,
   "metadata": {},
   "outputs": [
    {
     "ename": "ValueError",
     "evalue": "The truth value of an array with more than one element is ambiguous. Use a.any() or a.all()",
     "output_type": "error",
     "traceback": [
      "\u001b[0;31m---------------------------------------------------------------------------\u001b[0m",
      "\u001b[0;31mValueError\u001b[0m                                Traceback (most recent call last)",
      "\u001b[1;32m/home/jaxmao/jaxmao_branches/JaxMao/compare_layers.ipynb Cell 12\u001b[0m line \u001b[0;36m8\n\u001b[1;32m      <a href='vscode-notebook-cell://wsl%2Bubuntu-22.04/home/jaxmao/jaxmao_branches/JaxMao/compare_layers.ipynb#X14sdnNjb2RlLXJlbW90ZQ%3D%3D?line=5'>6</a>\u001b[0m jaxmao_batchnorm\u001b[39m.\u001b[39minit_params(key)\n\u001b[1;32m      <a href='vscode-notebook-cell://wsl%2Bubuntu-22.04/home/jaxmao/jaxmao_branches/JaxMao/compare_layers.ipynb#X14sdnNjb2RlLXJlbW90ZQ%3D%3D?line=6'>7</a>\u001b[0m jaxmao_batchnorm\u001b[39m.\u001b[39mset_training_mode()\n\u001b[0;32m----> <a href='vscode-notebook-cell://wsl%2Bubuntu-22.04/home/jaxmao/jaxmao_branches/JaxMao/compare_layers.ipynb#X14sdnNjb2RlLXJlbW90ZQ%3D%3D?line=7'>8</a>\u001b[0m jaxmao_batchnorm_output, new_state \u001b[39m=\u001b[39m jaxmao_batchnorm(jaxmao_batchnorm\u001b[39m.\u001b[39;49mparams, sample_data)\n\u001b[1;32m      <a href='vscode-notebook-cell://wsl%2Bubuntu-22.04/home/jaxmao/jaxmao_branches/JaxMao/compare_layers.ipynb#X14sdnNjb2RlLXJlbW90ZQ%3D%3D?line=8'>9</a>\u001b[0m \u001b[39m# jaxmao_batchnorm.update_state(new_state)\u001b[39;00m\n\u001b[1;32m     <a href='vscode-notebook-cell://wsl%2Bubuntu-22.04/home/jaxmao/jaxmao_branches/JaxMao/compare_layers.ipynb#X14sdnNjb2RlLXJlbW90ZQ%3D%3D?line=9'>10</a>\u001b[0m \n\u001b[1;32m     <a href='vscode-notebook-cell://wsl%2Bubuntu-22.04/home/jaxmao/jaxmao_branches/JaxMao/compare_layers.ipynb#X14sdnNjb2RlLXJlbW90ZQ%3D%3D?line=10'>11</a>\u001b[0m \u001b[39m# TensorFlow BatchNormalization\u001b[39;00m\n\u001b[1;32m     <a href='vscode-notebook-cell://wsl%2Bubuntu-22.04/home/jaxmao/jaxmao_branches/JaxMao/compare_layers.ipynb#X14sdnNjb2RlLXJlbW90ZQ%3D%3D?line=11'>12</a>\u001b[0m tf_batchnorm \u001b[39m=\u001b[39m keras\u001b[39m.\u001b[39mlayers\u001b[39m.\u001b[39mBatchNormalization(axis\u001b[39m=\u001b[39m\u001b[39m-\u001b[39m\u001b[39m1\u001b[39m, epsilon\u001b[39m=\u001b[39m\u001b[39m1e-5\u001b[39m)\n",
      "File \u001b[0;32m~/jaxmao_branches/JaxMao/jaxmao/layers.py:56\u001b[0m, in \u001b[0;36mLayer.__call__\u001b[0;34m(self, params, x)\u001b[0m\n\u001b[1;32m     54\u001b[0m \u001b[39mdef\u001b[39;00m \u001b[39m__call__\u001b[39m(\u001b[39mself\u001b[39m, params, x):\n\u001b[1;32m     55\u001b[0m     z, new_state \u001b[39m=\u001b[39m \u001b[39mself\u001b[39m\u001b[39m.\u001b[39mforward(params, x, \u001b[39mself\u001b[39m\u001b[39m.\u001b[39mstate)\n\u001b[0;32m---> 56\u001b[0m     \u001b[39mprint\u001b[39m(\u001b[39mself\u001b[39;49m\u001b[39m.\u001b[39;49mstate \u001b[39m==\u001b[39;49m new_state)\n\u001b[1;32m     57\u001b[0m     \u001b[39mself\u001b[39m\u001b[39m.\u001b[39mupdate_state(new_state)\n\u001b[1;32m     58\u001b[0m     \u001b[39mreturn\u001b[39;00m z, new_state\n",
      "File \u001b[0;32m~/miniconda3/envs/jaxlab/lib/python3.11/site-packages/jax/_src/array.py:259\u001b[0m, in \u001b[0;36mArrayImpl.__bool__\u001b[0;34m(self)\u001b[0m\n\u001b[1;32m    258\u001b[0m \u001b[39mdef\u001b[39;00m \u001b[39m__bool__\u001b[39m(\u001b[39mself\u001b[39m):\n\u001b[0;32m--> 259\u001b[0m   \u001b[39mreturn\u001b[39;00m \u001b[39mbool\u001b[39m(\u001b[39mself\u001b[39m\u001b[39m.\u001b[39m_value)\n",
      "\u001b[0;31mValueError\u001b[0m: The truth value of an array with more than one element is ambiguous. Use a.any() or a.all()"
     ]
    }
   ],
   "source": [
    "# Generate random 1D data\n",
    "sample_data = np.random.normal(0, 1, (8, 16))  # shape (batch_size, features)\n",
    "\n",
    "# JaxMao BatchNorm1D\n",
    "jaxmao_batchnorm = jaxmao.layers.BatchNorm(16, eps=1e-5)\n",
    "jaxmao_batchnorm.init_params(key)\n",
    "jaxmao_batchnorm.set_training_mode()\n",
    "jaxmao_batchnorm_output, new_state = jaxmao_batchnorm(jaxmao_batchnorm.params, sample_data)\n",
    "# jaxmao_batchnorm.update_state(new_state)\n",
    "\n",
    "# TensorFlow BatchNormalization\n",
    "tf_batchnorm = keras.layers.BatchNormalization(axis=-1, epsilon=1e-5)\n",
    "tf_batchnorm.build(input_shape=(None, 16))\n",
    "tf_batchnorm.set_weights([\n",
    "    jaxmao_batchnorm.params['gamma'], \n",
    "    jaxmao_batchnorm.params['beta'], \n",
    "    jaxmao_batchnorm.state['running_mean'], \n",
    "    jaxmao_batchnorm.state['running_var']\n",
    "])\n",
    "tf_batchnorm_output = tf_batchnorm(sample_data, training=True).numpy()\n",
    "\n",
    "# Compare\n",
    "print(close_enough(jaxmao_batchnorm_output, tf_batchnorm_output))"
   ]
  },
  {
   "cell_type": "markdown",
   "metadata": {},
   "source": [
    "# dense bn"
   ]
  },
  {
   "cell_type": "code",
   "execution_count": 37,
   "metadata": {},
   "outputs": [
    {
     "name": "stdout",
     "output_type": "stream",
     "text": [
      "True\n",
      "True\n",
      "1/1 [==============================] - 0s 98ms/step\n",
      "[[ True  True  True  True]\n",
      " [ True  True  True  True]\n",
      " [ True  True  True  True]\n",
      " [ True  True  True  True]\n",
      " [ True  True  True  True]\n",
      " [ True  True  True  True]\n",
      " [ True  True  True  True]\n",
      " [ True  True  True  True]]\n"
     ]
    }
   ],
   "source": [
    "# generate data\n",
    "# Initialize shape parameters\n",
    "batch_size = 8\n",
    "channels = 5\n",
    "\n",
    "# Initialize empty array\n",
    "sample_data = np.zeros((batch_size, channels))\n",
    "\n",
    "# Populate each channel with different mean and std dev\n",
    "for c in range(channels):\n",
    "    mean = np.random.randint(-np.random.randint(-12, 2), np.random.randint(42, 52)) \n",
    "    std_dev = np.random.uniform(-2, 421) \n",
    "    sample_data[ :, c] = np.random.normal(mean, std_dev, (batch_size, ))\n",
    "\n",
    "# JaxMao\n",
    "jaxmao_dense = jaxmao.layers.SimpleDense(5, 4, 'softmax', use_bias=False)\n",
    "jaxmao_bn = jaxmao.layers.BatchNorm(4, eps=1e-5) # keras use 1e-3.\n",
    "jaxmao_dense.init_params(key)\n",
    "jaxmao_bn.init_params(key)\n",
    "jaxmao_bn.set_inference_mode()\n",
    "jaxmao_predicted, state = jaxmao_dense(jaxmao_dense.params, sample_data)\n",
    "jaxmao_predicted, state = jaxmao_bn(jaxmao_bn.params, jaxmao_predicted)\n",
    "\n",
    "# TensorFlow\n",
    "tf_dense = keras.layers.Dense(4, activation='softmax', use_bias=False)\n",
    "tf_bn = keras.layers.BatchNormalization(epsilon=1e-5)\n",
    "tf_dense.build(input_shape=(5, ))\n",
    "tf_dense.set_weights([jaxmao_dense.params['weights']])\n",
    "tf_sequential = Sequential([tf_dense, tf_bn])\n",
    "tf_predicted = tf_sequential.predict(sample_data)\n",
    "\n",
    "print(close_enough(tf_predicted, jaxmao_predicted))"
   ]
  },
  {
   "cell_type": "markdown",
   "metadata": {},
   "source": [
    "##### alternative in jaxmao"
   ]
  },
  {
   "cell_type": "code",
   "execution_count": 38,
   "metadata": {},
   "outputs": [
    {
     "name": "stdout",
     "output_type": "stream",
     "text": [
      "True\n",
      "1/1 [==============================] - 0s 140ms/step\n",
      "[[ True  True  True  True]\n",
      " [ True  True  True  True]\n",
      " [ True  True  True  True]\n",
      " [ True  True  True  True]\n",
      " [ True  True  True  True]\n",
      " [ True  True  True  True]\n",
      " [ True  True  True  True]\n",
      " [ True  True  True  True]]\n"
     ]
    }
   ],
   "source": [
    "# JaxMao\n",
    "jaxmao_dense = jaxmao.layers.Dense(5, 4, 'softmax', batch_norm=True)\n",
    "jaxmao_dense.init_params(key)\n",
    "jaxmao_dense.set_inference_mode()\n",
    "# print(jaxmao_dense.state.keys())\n",
    "jaxmao_predicted, new_state = jaxmao_dense(jaxmao_dense.params, sample_data)\n",
    "\n",
    "# TensorFlow\n",
    "tf_dense = keras.layers.Dense(4, use_bias=False)\n",
    "tf_bn = keras.layers.BatchNormalization()\n",
    "tf_dense.build(input_shape=(5, ))\n",
    "tf_dense.set_weights([jaxmao_dense.params['dense/simple_dense']['weights']])\n",
    "tf_sequential = Sequential([tf_dense, tf_bn, keras.layers.Activation('softmax')])\n",
    "tf_predicted = tf_sequential.predict(sample_data)\n",
    "\n",
    "print(close_enough(tf_predicted, jaxmao_predicted, 1e-3)) # cannot change epsilon of batchnorm inside jaxmao's Dense."
   ]
  },
  {
   "cell_type": "markdown",
   "metadata": {},
   "source": [
    "#### training mode"
   ]
  },
  {
   "cell_type": "code",
   "execution_count": 39,
   "metadata": {},
   "outputs": [
    {
     "name": "stdout",
     "output_type": "stream",
     "text": [
      "True\n",
      "True\n",
      "True\n",
      "True\n",
      "True\n",
      "True\n",
      "True\n",
      "True\n",
      "True\n",
      "True\n",
      "[[ True  True  True  True]\n",
      " [ True  True  True  True]\n",
      " [ True  True  True  True]\n",
      " [ True  True  True  True]\n",
      " [ True  True  True  True]\n",
      " [ True  True  True  True]\n",
      " [ True  True  True  True]\n",
      " [ True  True  True  True]]\n"
     ]
    }
   ],
   "source": [
    "# JaxMao\n",
    "jaxmao_dense = jaxmao.layers.Dense(5, 4, 'linear', batch_norm=True)\n",
    "jaxmao_dense.init_params(key)\n",
    "jaxmao_dense.set_training_mode()\n",
    "\n",
    "# TensorFlow\n",
    "tf_dense = keras.layers.Dense(4, use_bias=False)\n",
    "tf_bn = keras.layers.BatchNormalization()\n",
    "tf_dense.build(input_shape=(5, ))\n",
    "tf_dense.set_weights([jaxmao_dense.params['dense/simple_dense']['weights']])\n",
    "\n",
    "for _ in range(10):\n",
    "    jaxmao_predicted, new_state = jaxmao_dense(jaxmao_dense.params, sample_data)\n",
    "    tf_z = tf_dense(sample_data)\n",
    "    tf_predicted = tf_bn(tf_z, training=True)\n",
    "\n",
    "print(close_enough(tf_predicted, jaxmao_predicted, 1e-6)) # cannot change epsilon of batchnorm inside jaxmao's Dense."
   ]
  },
  {
   "cell_type": "markdown",
   "metadata": {},
   "source": [
    "# convolution"
   ]
  },
  {
   "cell_type": "code",
   "execution_count": 40,
   "metadata": {},
   "outputs": [
    {
     "name": "stdout",
     "output_type": "stream",
     "text": [
      "True\n",
      "1/1 [==============================] - 0s 75ms/step\n",
      "True\n"
     ]
    }
   ],
   "source": [
    "# generate data\n",
    "sample_data = np.random.normal(0, 1, (8, 16, 16, 5))\n",
    "\n",
    "# JaxMao\n",
    "jaxmao_conv = jaxmao.layers.SimpleConv2D(5, 4, (3, 3), activation='relu', padding='SAME')\n",
    "jaxmao_conv.init_params(key)\n",
    "jaxmao_predicted, state = jaxmao_conv(jaxmao_conv.params, sample_data)\n",
    "\n",
    "# TensorFlow\n",
    "tf_conv = keras.layers.Conv2D(4, (3,3), activation='relu', padding='same')\n",
    "tf_conv.build(input_shape=(16, 16, 5))\n",
    "tf_conv.set_weights([jaxmao_conv.params['weights'], jaxmao_conv.params['biases']])\n",
    "tf_sequential = Sequential([tf_conv])\n",
    "tf_predicted = tf_sequential.predict(sample_data)\n",
    "\n",
    "print(close_enough(tf_predicted, jaxmao_predicted).all())"
   ]
  },
  {
   "cell_type": "markdown",
   "metadata": {},
   "source": [
    "# BatchNorm2d"
   ]
  },
  {
   "cell_type": "code",
   "execution_count": 41,
   "metadata": {},
   "outputs": [],
   "source": [
    "from jaxmao.layers import BatchNorm\n",
    "\n",
    "class BatchNorm2D(BatchNorm):\n",
    "    def __init__(\n",
    "        self,\n",
    "        num_features,\n",
    "        momentum = 0.99,\n",
    "        eps=1e-5\n",
    "        ):\n",
    "        super().__init__(num_features=num_features, momentum=momentum, axis_mean=(0, 1, 2), eps=eps)"
   ]
  },
  {
   "cell_type": "code",
   "execution_count": 42,
   "metadata": {},
   "outputs": [
    {
     "name": "stdout",
     "output_type": "stream",
     "text": [
      "True\n",
      "True\n"
     ]
    }
   ],
   "source": [
    "# generate data, if use random.normal mean and var wouldn't be tested.\n",
    "# Initialize shape parameters\n",
    "batch_size = 8\n",
    "height = 16\n",
    "width = 16\n",
    "channels = 5\n",
    "\n",
    "# Initialize empty array\n",
    "sample_image = np.zeros((batch_size, height, width, channels))\n",
    "\n",
    "# Populate each channel with different mean and std dev\n",
    "for c in range(channels):\n",
    "    mean = np.random.randint(-np.random.randint(-12, 2), np.random.randint(42, 52)) \n",
    "    std_dev = np.random.uniform(-2, 421) \n",
    "    sample_image[:, :, :, c] = np.random.normal(mean, std_dev, (batch_size, height, width))\n",
    "\n",
    "# JaxMao BatchNorm2D\n",
    "jaxmao_batchnorm2d = jaxmao.layers.BatchNorm2D(channels)\n",
    "jaxmao_batchnorm2d.init_params(key)\n",
    "jaxmao_batchnorm2d.set_inference_mode()\n",
    "jaxmao_batchnorm2d_output, state = jaxmao_batchnorm2d(jaxmao_batchnorm2d.params, sample_image)\n",
    "\n",
    "# TensorFlow BatchNormalization (2D)\n",
    "tf_batchnorm2d = keras.layers.BatchNormalization(epsilon=1e-5)\n",
    "tf_batchnorm2d.build(input_shape=(None, height, width, channels))\n",
    "tf_batchnorm2d.set_weights([\n",
    "    jaxmao_batchnorm2d.params['gamma'], \n",
    "    jaxmao_batchnorm2d.params['beta'], \n",
    "    jaxmao_batchnorm2d.state['running_mean'], \n",
    "    jaxmao_batchnorm2d.state['running_var']\n",
    "])\n",
    "tf_batchnorm2d_output = tf_batchnorm2d(sample_image, training=False).numpy()\n",
    "\n",
    "# Compare\n",
    "print(close_enough(jaxmao_batchnorm2d_output, tf_batchnorm2d_output, 15e-5).all())"
   ]
  },
  {
   "cell_type": "code",
   "execution_count": 43,
   "metadata": {},
   "outputs": [
    {
     "ename": "ValueError",
     "evalue": "The truth value of an array with more than one element is ambiguous. Use a.any() or a.all()",
     "output_type": "error",
     "traceback": [
      "\u001b[0;31m---------------------------------------------------------------------------\u001b[0m",
      "\u001b[0;31mValueError\u001b[0m                                Traceback (most recent call last)",
      "\u001b[1;32m/home/jaxmao/jaxmao_branches/JaxMao/compare_layers.ipynb Cell 24\u001b[0m line \u001b[0;36m8\n\u001b[1;32m      <a href='vscode-notebook-cell://wsl%2Bubuntu-22.04/home/jaxmao/jaxmao_branches/JaxMao/compare_layers.ipynb#X30sdnNjb2RlLXJlbW90ZQ%3D%3D?line=5'>6</a>\u001b[0m jaxmao_batchnorm2d\u001b[39m.\u001b[39minit_params(key)\n\u001b[1;32m      <a href='vscode-notebook-cell://wsl%2Bubuntu-22.04/home/jaxmao/jaxmao_branches/JaxMao/compare_layers.ipynb#X30sdnNjb2RlLXJlbW90ZQ%3D%3D?line=6'>7</a>\u001b[0m jaxmao_batchnorm2d\u001b[39m.\u001b[39mset_training_mode()\n\u001b[0;32m----> <a href='vscode-notebook-cell://wsl%2Bubuntu-22.04/home/jaxmao/jaxmao_branches/JaxMao/compare_layers.ipynb#X30sdnNjb2RlLXJlbW90ZQ%3D%3D?line=7'>8</a>\u001b[0m jaxmao_batchnorm2d_output, state \u001b[39m=\u001b[39m jaxmao_batchnorm2d(jaxmao_batchnorm2d\u001b[39m.\u001b[39;49mparams, sample_image)\n\u001b[1;32m     <a href='vscode-notebook-cell://wsl%2Bubuntu-22.04/home/jaxmao/jaxmao_branches/JaxMao/compare_layers.ipynb#X30sdnNjb2RlLXJlbW90ZQ%3D%3D?line=9'>10</a>\u001b[0m \u001b[39m# TensorFlow BatchNormalization (2D)\u001b[39;00m\n\u001b[1;32m     <a href='vscode-notebook-cell://wsl%2Bubuntu-22.04/home/jaxmao/jaxmao_branches/JaxMao/compare_layers.ipynb#X30sdnNjb2RlLXJlbW90ZQ%3D%3D?line=10'>11</a>\u001b[0m tf_batchnorm2d \u001b[39m=\u001b[39m keras\u001b[39m.\u001b[39mlayers\u001b[39m.\u001b[39mBatchNormalization()\n",
      "File \u001b[0;32m~/jaxmao_branches/JaxMao/jaxmao/layers.py:56\u001b[0m, in \u001b[0;36mLayer.__call__\u001b[0;34m(self, params, x)\u001b[0m\n\u001b[1;32m     54\u001b[0m \u001b[39mdef\u001b[39;00m \u001b[39m__call__\u001b[39m(\u001b[39mself\u001b[39m, params, x):\n\u001b[1;32m     55\u001b[0m     z, new_state \u001b[39m=\u001b[39m \u001b[39mself\u001b[39m\u001b[39m.\u001b[39mforward(params, x, \u001b[39mself\u001b[39m\u001b[39m.\u001b[39mstate)\n\u001b[0;32m---> 56\u001b[0m     \u001b[39mprint\u001b[39m(\u001b[39mself\u001b[39;49m\u001b[39m.\u001b[39;49mstate \u001b[39m==\u001b[39;49m new_state)\n\u001b[1;32m     57\u001b[0m     \u001b[39mself\u001b[39m\u001b[39m.\u001b[39mupdate_state(new_state)\n\u001b[1;32m     58\u001b[0m     \u001b[39mreturn\u001b[39;00m z, new_state\n",
      "File \u001b[0;32m~/miniconda3/envs/jaxlab/lib/python3.11/site-packages/jax/_src/array.py:259\u001b[0m, in \u001b[0;36mArrayImpl.__bool__\u001b[0;34m(self)\u001b[0m\n\u001b[1;32m    258\u001b[0m \u001b[39mdef\u001b[39;00m \u001b[39m__bool__\u001b[39m(\u001b[39mself\u001b[39m):\n\u001b[0;32m--> 259\u001b[0m   \u001b[39mreturn\u001b[39;00m \u001b[39mbool\u001b[39m(\u001b[39mself\u001b[39m\u001b[39m.\u001b[39m_value)\n",
      "\u001b[0;31mValueError\u001b[0m: The truth value of an array with more than one element is ambiguous. Use a.any() or a.all()"
     ]
    }
   ],
   "source": [
    "# Generate random 2D data (image)\n",
    "sample_image = np.random.normal(0, 1, (1, 8, 8, 6))  # shape (batch_size, height, width, channels)\n",
    "\n",
    "# JaxMao BatchNorm2D\n",
    "jaxmao_batchnorm2d = jaxmao.layers.BatchNorm2D(6)\n",
    "jaxmao_batchnorm2d.init_params(key)\n",
    "jaxmao_batchnorm2d.set_training_mode()\n",
    "jaxmao_batchnorm2d_output, state = jaxmao_batchnorm2d(jaxmao_batchnorm2d.params, sample_image)\n",
    "\n",
    "# TensorFlow BatchNormalization (2D)\n",
    "tf_batchnorm2d = keras.layers.BatchNormalization()\n",
    "tf_batchnorm2d.build(input_shape=(None, 8, 8, 6))\n",
    "tf_batchnorm2d.set_weights([\n",
    "    jaxmao_batchnorm2d.params['gamma'], \n",
    "    jaxmao_batchnorm2d.params['beta'], \n",
    "    jaxmao_batchnorm2d.state['running_mean'], \n",
    "    jaxmao_batchnorm2d.state['running_var']\n",
    "])\n",
    "tf_batchnorm2d_output = tf_batchnorm2d(sample_image, training=True).numpy()\n",
    "\n",
    "# Compare\n",
    "print(close_enough(jaxmao_batchnorm2d_output, tf_batchnorm2d_output, 15e-3))"
   ]
  },
  {
   "cell_type": "markdown",
   "metadata": {},
   "source": [
    "# convolution bn"
   ]
  },
  {
   "cell_type": "code",
   "execution_count": null,
   "metadata": {},
   "outputs": [],
   "source": [
    "class BatchNorm2D(BatchNorm):\n",
    "    def __init__(\n",
    "        self,\n",
    "        num_features,\n",
    "        momentum = 0.99,\n",
    "        eps=1e-5\n",
    "        ):\n",
    "        super().__init__(num_features=num_features, momentum=momentum, axis_mean=(1, 2, 3), eps=eps)"
   ]
  },
  {
   "cell_type": "code",
   "execution_count": null,
   "metadata": {},
   "outputs": [
    {
     "name": "stdout",
     "output_type": "stream",
     "text": [
      "conv2d/simple_conv2d dict_keys(['conv2d/bn', 'conv2d/simple_conv2d']) dict_keys(['training'])\n",
      "conv2d/bn dict_keys(['conv2d/bn', 'conv2d/simple_conv2d']) dict_keys(['training'])\n",
      "False\n"
     ]
    }
   ],
   "source": [
    "# generate data\n",
    "# Initialize shape parameters\n",
    "batch_size = 8\n",
    "height = 16\n",
    "width = 16\n",
    "channels = 5\n",
    "\n",
    "# Initialize empty array\n",
    "sample_data = np.zeros((batch_size, height, width, channels))\n",
    "\n",
    "# Populate each channel with different mean and std dev\n",
    "for c in range(channels):\n",
    "    mean = np.random.randint(-np.random.randint(-12, 2), np.random.randint(42, 52),) \n",
    "    std_dev = np.random.uniform(-2, 421) \n",
    "    sample_data[:, :, :, c] = np.random.normal(mean, std_dev, (batch_size, height, width))\n",
    "\n",
    "\n",
    "# JaxMao\n",
    "jaxmao_conv = jaxmao.layers.Conv2D(5, 4, (3, 3), activation='linear', padding='SAME', batch_norm=True, use_bias=False)\n",
    "jaxmao_conv.init_params(key)\n",
    "jaxmao_conv.set_inference_mode()\n",
    "# jaxmao_conv.set_training_mode()\n",
    "\n",
    "jaxmao_predicted, state = jaxmao_conv(jaxmao_conv.params, sample_data)\n",
    "\n",
    "# TensorFlow\n",
    "tf_conv = keras.layers.Conv2D(4, (3,3), padding='same', use_bias=False)\n",
    "tf_bn = keras.layers.BatchNormalization(epsilon=1e-5) # just realize that we can do this.\n",
    "tf_conv.build(input_shape=(16, 16, 5))\n",
    "tf_conv.set_weights([jaxmao_conv.params['conv2d/simple_conv2d']['weights']])\n",
    "\n",
    "z = tf_conv(sample_data)\n",
    "z = tf_bn(z, training=False)\n",
    "tf_predicted = keras.layers.Activation('linear')(z)\n",
    "\n",
    "print(close_enough(tf_predicted, jaxmao_predicted, 1e-5).all())"
   ]
  },
  {
   "cell_type": "markdown",
   "metadata": {},
   "source": [
    "# other layers ... "
   ]
  },
  {
   "cell_type": "markdown",
   "metadata": {},
   "source": [
    "# MaxPooling2d"
   ]
  },
  {
   "cell_type": "code",
   "execution_count": null,
   "metadata": {},
   "outputs": [
    {
     "name": "stdout",
     "output_type": "stream",
     "text": [
      "True\n"
     ]
    }
   ],
   "source": [
    "sample_image = np.random.normal(0, 1, (5, 8, 8, 3)) \n",
    "\n",
    "# JaxMao\n",
    "jaxmao_maxpool = jaxmao.layers.MaxPooling2D(kernel_size=(2, 2), strides=(2, 2), padding='SAME')\n",
    "jaxmao_maxpool.init_params(key)\n",
    "jaxmao_pooled, state = jaxmao_maxpool(jaxmao_maxpool.params, sample_image)\n",
    "\n",
    "# TensorFlow\n",
    "tf_maxpool = keras.layers.MaxPooling2D(pool_size=(2, 2), strides=(2, 2), padding='same')\n",
    "tf_pooled = tf_maxpool(sample_image).numpy() \n",
    "\n",
    "# Compare\n",
    "print(close_enough(jaxmao_pooled, tf_pooled).all())"
   ]
  },
  {
   "cell_type": "markdown",
   "metadata": {},
   "source": [
    "# AveragePooling2d"
   ]
  },
  {
   "cell_type": "code",
   "execution_count": null,
   "metadata": {},
   "outputs": [
    {
     "name": "stdout",
     "output_type": "stream",
     "text": [
      "True\n"
     ]
    }
   ],
   "source": [
    "# Generate random image data\n",
    "sample_image = np.random.normal(0, 1, (4, 8, 8, 3))  # shape (batch_size, height, width, channels)\n",
    "\n",
    "# JaxMao AveragePooling2D\n",
    "jaxmao_avgpool = jaxmao.layers.AveragePooling2D(kernel_size=(2, 2), strides=(2, 2), padding='SAME')\n",
    "jaxmao_avgpool.init_params(key)\n",
    "jaxmao_avg_pooled, state = jaxmao_avgpool(jaxmao_avgpool.params, sample_image)\n",
    "\n",
    "# TensorFlow AveragePooling2D\n",
    "tf_avgpool = keras.layers.AveragePooling2D(pool_size=(2, 2), strides=(2, 2), padding='same')\n",
    "tf_avg_pooled = tf_avgpool(sample_image).numpy()\n",
    "\n",
    "# Compare\n",
    "print(close_enough(jaxmao_avg_pooled, tf_avg_pooled).all())"
   ]
  },
  {
   "cell_type": "markdown",
   "metadata": {},
   "source": [
    "# GlobalAveragePooling2d"
   ]
  },
  {
   "cell_type": "code",
   "execution_count": null,
   "metadata": {},
   "outputs": [
    {
     "name": "stdout",
     "output_type": "stream",
     "text": [
      "True\n"
     ]
    }
   ],
   "source": [
    "# Generate random image data\n",
    "sample_image = np.random.normal(0, 1, (421, 42, 8, 3))  # shape (batch_size, height, width, channels)\n",
    "\n",
    "# JaxMao GlobalAveragePooling2D\n",
    "jaxmao_global_avgpool = jaxmao.layers.GlobalAveragePooling2D()\n",
    "jaxmao_global_avgpool.init_params(key)  # If initialization is required\n",
    "jaxmao_global_avg_pooled, state = jaxmao_global_avgpool(jaxmao_global_avgpool.params, sample_image)\n",
    "\n",
    "# TensorFlow GlobalAveragePooling2D\n",
    "tf_global_avgpool = keras.layers.GlobalAveragePooling2D()\n",
    "tf_global_avg_pooled = tf_global_avgpool(sample_image).numpy()\n",
    "\n",
    "# Compare\n",
    "print(close_enough(jaxmao_global_avg_pooled, tf_global_avg_pooled).all())"
   ]
  },
  {
   "cell_type": "markdown",
   "metadata": {},
   "source": [
    "# GlobalMaxPooling2d"
   ]
  },
  {
   "cell_type": "code",
   "execution_count": null,
   "metadata": {},
   "outputs": [
    {
     "name": "stdout",
     "output_type": "stream",
     "text": [
      "True\n"
     ]
    }
   ],
   "source": [
    "# Generate random image data\n",
    "sample_image = np.random.normal(0, 1, (421, 42, 8, 3))  # shape (batch_size, height, width, channels)\n",
    "\n",
    "# JaxMao GlobalAveragePooling2D\n",
    "jaxmao_global_maxpool = jaxmao.layers.GlobalMaxPooling2D()\n",
    "jaxmao_global_maxpool.init_params(key)  # If initialization is required\n",
    "jaxmao_global_avg_pooled, state = jaxmao_global_maxpool(jaxmao_global_maxpool.params, sample_image)\n",
    "\n",
    "# TensorFlow GlobalAveragePooling2D\n",
    "tf_global_maxpool = keras.layers.GlobalMaxPooling2D()\n",
    "tf_global_avg_pooled = tf_global_maxpool(sample_image).numpy()\n",
    "\n",
    "# Compare\n",
    "print(close_enough(jaxmao_global_avg_pooled, tf_global_avg_pooled).all())"
   ]
  },
  {
   "cell_type": "markdown",
   "metadata": {},
   "source": [
    "# DepthwiseConv2d"
   ]
  },
  {
   "cell_type": "code",
   "execution_count": null,
   "metadata": {},
   "outputs": [
    {
     "name": "stdout",
     "output_type": "stream",
     "text": [
      "True\n"
     ]
    }
   ],
   "source": [
    "# Generate random image data\n",
    "sample_image = np.random.normal(0, 1, (5, 8, 8, 42))  # shape (batch_size, height, width, channels)\n",
    "\n",
    "# JaxMao DepthwiseConv2D\n",
    "jaxmao_depthwise_conv = jaxmao.layers.DepthwiseConv2D(42, kernel_size=(3, 3), strides=(1, 1), padding='SAME')\n",
    "jaxmao_depthwise_conv.init_params(key)\n",
    "jaxmao_depthwise_conv_output, state = jaxmao_depthwise_conv(jaxmao_depthwise_conv.params, sample_image)\n",
    "\n",
    "# TensorFlow DepthwiseConv2D\n",
    "tf_depthwise_conv = keras.layers.DepthwiseConv2D(kernel_size=(3, 3), strides=(1, 1), padding='same', activation='relu')\n",
    "tf_depthwise_conv.build(input_shape=(None, 8, 8, 42))\n",
    "tf_depthwise_conv.set_weights([jaxmao_depthwise_conv.params['weights'].reshape(3,3,42,1), jaxmao_depthwise_conv.params['biases']])\n",
    "tf_depthwise_conv_output = tf_depthwise_conv(sample_image).numpy()\n",
    "\n",
    "# Compare\n",
    "print(close_enough(jaxmao_depthwise_conv_output, tf_depthwise_conv_output).all())"
   ]
  },
  {
   "cell_type": "markdown",
   "metadata": {},
   "source": [
    "# Cross entropy"
   ]
  },
  {
   "cell_type": "code",
   "execution_count": null,
   "metadata": {},
   "outputs": [
    {
     "name": "stdout",
     "output_type": "stream",
     "text": [
      "True\n"
     ]
    },
    {
     "data": {
      "text/plain": [
       "(Array(0.93529034, dtype=float32), 0.93529034)"
      ]
     },
     "execution_count": 25,
     "metadata": {},
     "output_type": "execute_result"
    }
   ],
   "source": [
    "# Generate sample data\n",
    "y_true = np.array([0, 1, 2, 2, 1])  # True labels\n",
    "y_true = jax.nn.one_hot(y_true, num_classes=3).astype('float32')\n",
    "y_pred = np.array([\n",
    "    [0.1, 0.2, 0.7],  # Predicted probabilities\n",
    "    [0.5, 0.4, 0.1],\n",
    "    [0.02, 0.01, 0.97],\n",
    "    [0.1, 0.1, 0.8],\n",
    "    [0.6, 0.3, 0.1]\n",
    "]).astype('float32')\n",
    "\n",
    "# JaxMao CrossEntropy\n",
    "jaxmao_cross_entropy = CategoricalCrossEntropy(reduce_fn='mean_over_batch_size')\n",
    "jaxmao_loss = jaxmao_cross_entropy.calculate_loss(y_pred, y_true)\n",
    "\n",
    "# TensorFlow CrossEntropy\n",
    "tf_cross_entropy = keras.losses.CategoricalCrossentropy()\n",
    "tf_loss = tf_cross_entropy(y_true, y_pred).numpy()\n",
    "\n",
    "# Compare\n",
    "print(close_enough(jaxmao_loss, tf_loss))\n",
    "jaxmao_loss, tf_loss"
   ]
  },
  {
   "cell_type": "code",
   "execution_count": null,
   "metadata": {},
   "outputs": [
    {
     "name": "stdout",
     "output_type": "stream",
     "text": [
      "True\n"
     ]
    },
    {
     "data": {
      "text/plain": [
       "(Array(4.6764517, dtype=float32), 4.6764517)"
      ]
     },
     "execution_count": 26,
     "metadata": {},
     "output_type": "execute_result"
    }
   ],
   "source": [
    "# Generate sample data\n",
    "y_true = np.array([0, 1, 2, 2, 1])  # True labels\n",
    "y_true = jax.nn.one_hot(y_true, num_classes=3).astype('float32')\n",
    "y_pred = np.array([\n",
    "    [0.1, 0.2, 0.7],  # Predicted probabilities\n",
    "    [0.5, 0.4, 0.1],\n",
    "    [0.02, 0.01, 0.97],\n",
    "    [0.1, 0.1, 0.8],\n",
    "    [0.6, 0.3, 0.1]\n",
    "]).astype('float32')\n",
    "\n",
    "# JaxMao CrossEntropy\n",
    "jaxmao_cross_entropy = CategoricalCrossEntropy(reduce_fn=jnp.sum)\n",
    "jaxmao_loss = jaxmao_cross_entropy.calculate_loss(y_pred, y_true)\n",
    "\n",
    "# TensorFlow CrossEntropy\n",
    "tf_cross_entropy = keras.losses.CategoricalCrossentropy(reduction='sum')\n",
    "tf_loss = tf_cross_entropy(y_true, y_pred).numpy()\n",
    "\n",
    "# Compare\n",
    "print(close_enough(jaxmao_loss, tf_loss))\n",
    "jaxmao_loss, tf_loss"
   ]
  }
 ],
 "metadata": {
  "kernelspec": {
   "display_name": "jaxlab",
   "language": "python",
   "name": "python3"
  },
  "language_info": {
   "codemirror_mode": {
    "name": "ipython",
    "version": 3
   },
   "file_extension": ".py",
   "mimetype": "text/x-python",
   "name": "python",
   "nbconvert_exporter": "python",
   "pygments_lexer": "ipython3",
   "version": "3.11.5"
  }
 },
 "nbformat": 4,
 "nbformat_minor": 2
}
