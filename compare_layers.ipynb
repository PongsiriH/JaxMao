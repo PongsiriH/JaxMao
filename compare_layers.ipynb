{
 "cells": [
  {
   "cell_type": "code",
   "execution_count": 1,
   "metadata": {},
   "outputs": [
    {
     "name": "stderr",
     "output_type": "stream",
     "text": [
      "WARNING: All log messages before absl::InitializeLog() is called are written to STDERR\n",
      "I0000 00:00:1698204772.351961    9620 tfrt_cpu_pjrt_client.cc:349] TfrtCpuClient created.\n",
      "2023-10-25 10:32:52.831025: E external/xla/xla/stream_executor/cuda/cuda_driver.cc:276] failed call to cuInit: CUDA_ERROR_NO_DEVICE: no CUDA-capable device is detected\n",
      "2023-10-25 10:32:53.215742: E tensorflow/compiler/xla/stream_executor/cuda/cuda_dnn.cc:9342] Unable to register cuDNN factory: Attempting to register factory for plugin cuDNN when one has already been registered\n"
     ]
    },
    {
     "name": "stdout",
     "output_type": "stream",
     "text": [
      "jax.devices() : [CpuDevice(id=0)]\n"
     ]
    },
    {
     "name": "stderr",
     "output_type": "stream",
     "text": [
      "2023-10-25 10:32:53.215868: E tensorflow/compiler/xla/stream_executor/cuda/cuda_fft.cc:609] Unable to register cuFFT factory: Attempting to register factory for plugin cuFFT when one has already been registered\n",
      "2023-10-25 10:32:53.215982: E tensorflow/compiler/xla/stream_executor/cuda/cuda_blas.cc:1518] Unable to register cuBLAS factory: Attempting to register factory for plugin cuBLAS when one has already been registered\n",
      "2023-10-25 10:32:54.727382: W tensorflow/compiler/tf2tensorrt/utils/py_utils.cc:38] TF-TRT Warning: Could not find TensorRT\n"
     ]
    },
    {
     "name": "stdout",
     "output_type": "stream",
     "text": [
      "tf.config.list_physical_devices():  [PhysicalDevice(name='/physical_device:CPU:0', device_type='CPU')]\n"
     ]
    },
    {
     "name": "stderr",
     "output_type": "stream",
     "text": [
      "2023-10-25 10:32:56.117599: E tensorflow/compiler/xla/stream_executor/cuda/cuda_driver.cc:268] failed call to cuInit: CUDA_ERROR_NO_DEVICE: no CUDA-capable device is detected\n"
     ]
    }
   ],
   "source": [
    "import sys\n",
    "sys.path.append('/home/jaxmao/jaxmao_branches/JaxMao/')\n",
    "sys.path.append('/home/jaxmao/jaxmao_branches/JaxMao/jaxmao')\n",
    "\n",
    "import os\n",
    "os.environ[\"JAX_PLATFORM_NAME\"] = \"cpu\"\n",
    "os.environ['CUDA_VISIBLE_DEVICES'] = '-1'\n",
    "\n",
    "import jax\n",
    "import jax.numpy as jnp\n",
    "import numpy as np\n",
    "\n",
    "import jaxmao\n",
    "from jaxmao.layers import Conv2D, SimpleDense, Dense, BatchNorm, ReLU, Flatten, StableSoftmax, BatchNorm2D, DepthwiseConv2D, Activation\n",
    "from jaxmao.modules import Module\n",
    "from jaxmao.optimizers import GradientDescent\n",
    "from jaxmao.losses import CategoricalCrossEntropy\n",
    "from jaxmao.metrics import Accuracy, Precision, Recall\n",
    "\n",
    "print('jax.devices() :', jax.devices())\n",
    "\n",
    "import tensorflow as tf\n",
    "from tensorflow import keras\n",
    "from tensorflow.keras import Sequential\n",
    "print('tf.config.list_physical_devices(): ', tf.config.list_physical_devices())\n",
    "\n",
    "seed = 42\n",
    "key = jax.random.PRNGKey(seed)\n",
    "\n",
    "tf.keras.backend.set_floatx('float32')"
   ]
  },
  {
   "cell_type": "code",
   "execution_count": 2,
   "metadata": {},
   "outputs": [],
   "source": [
    "def close_enough(A, B, eps=1e-10):\n",
    "    return np.less_equal(np.abs(A - B), eps)"
   ]
  },
  {
   "cell_type": "markdown",
   "metadata": {},
   "source": [
    "# SimpleDense"
   ]
  },
  {
   "cell_type": "code",
   "execution_count": 3,
   "metadata": {},
   "outputs": [
    {
     "name": "stdout",
     "output_type": "stream",
     "text": [
      "1/1 [==============================] - 0s 125ms/step\n",
      "[[ True  True  True  True]\n",
      " [ True  True  True  True]\n",
      " [ True  True  True  True]\n",
      " [ True  True  True  True]\n",
      " [ True  True  True  True]\n",
      " [ True  True  True  True]\n",
      " [ True  True  True  True]\n",
      " [ True  True  True  True]]\n"
     ]
    }
   ],
   "source": [
    "# generate data\n",
    "sample_data = np.random.normal(0, 1, (8, 16))\n",
    "\n",
    "# JaxMao\n",
    "jaxmao_dense = jaxmao.layers.SimpleDense(16, 4, 'linear')\n",
    "jaxmao_dense.init_params(key)\n",
    "jaxmao_predicted = jaxmao_dense(sample_data)\n",
    "\n",
    "# TensorFlow\n",
    "tf_dense = keras.layers.Dense(4)\n",
    "tf_dense.build(input_shape=(16, ))\n",
    "tf_dense.set_weights([jaxmao_dense.params['weights'], jaxmao_dense.params['biases']])\n",
    "tf_dense = Sequential([tf_dense])\n",
    "tf_predicted = tf_dense.predict(sample_data)\n",
    "\n",
    "print(close_enough(tf_predicted, jaxmao_predicted))"
   ]
  },
  {
   "cell_type": "markdown",
   "metadata": {},
   "source": [
    "# Softmax\n",
    "different implementation of softmax"
   ]
  },
  {
   "cell_type": "code",
   "execution_count": 4,
   "metadata": {},
   "outputs": [
    {
     "name": "stdout",
     "output_type": "stream",
     "text": [
      "1/1 [==============================] - 0s 66ms/step\n",
      "[[ True  True  True False]\n",
      " [ True  True  True  True]\n",
      " [ True  True  True  True]\n",
      " [ True  True  True  True]\n",
      " [ True  True  True  True]\n",
      " [ True  True  True  True]\n",
      " [ True  True  True  True]\n",
      " [ True  True  True  True]]\n"
     ]
    }
   ],
   "source": [
    "# generate data\n",
    "sample_data = np.random.normal(0, 1, (8, 16))\n",
    "\n",
    "# JaxMao\n",
    "jaxmao_dense = jaxmao.layers.SimpleDense(16, 4, 'softmax')\n",
    "jaxmao_dense.init_params(key)\n",
    "jaxmao_predicted = jaxmao_dense(sample_data)\n",
    "\n",
    "# TensorFlow\n",
    "tf_dense = keras.layers.Dense(4, activation='softmax')\n",
    "tf_dense.build(input_shape=(16, ))\n",
    "tf_dense.set_weights([jaxmao_dense.params['weights'], jaxmao_dense.params['biases']])\n",
    "tf_dense = Sequential([tf_dense])\n",
    "tf_predicted = tf_dense.predict(sample_data)\n",
    "\n",
    "print(close_enough(tf_predicted, jaxmao_predicted, 1e-7)) "
   ]
  },
  {
   "cell_type": "markdown",
   "metadata": {},
   "source": [
    "# relu"
   ]
  },
  {
   "cell_type": "code",
   "execution_count": 5,
   "metadata": {},
   "outputs": [
    {
     "name": "stdout",
     "output_type": "stream",
     "text": [
      "1/1 [==============================] - 0s 73ms/step\n",
      "[[ True  True  True  True]\n",
      " [ True  True  True  True]\n",
      " [ True  True  True  True]\n",
      " [ True  True  True  True]\n",
      " [ True  True  True  True]\n",
      " [ True  True  True  True]\n",
      " [ True  True  True  True]\n",
      " [ True  True  True  True]]\n"
     ]
    }
   ],
   "source": [
    "# generate data\n",
    "sample_data = np.random.normal(0, 1, (8, 16))\n",
    "\n",
    "# JaxMao\n",
    "jaxmao_dense = jaxmao.layers.SimpleDense(16, 4, 'relu')\n",
    "jaxmao_dense.init_params(key)\n",
    "jaxmao_predicted = jaxmao_dense(sample_data)\n",
    "\n",
    "# TensorFlow\n",
    "tf_dense = keras.layers.Dense(4, activation='relu')\n",
    "tf_dense.build(input_shape=(16, ))\n",
    "tf_dense.set_weights([jaxmao_dense.params['weights'], jaxmao_dense.params['biases']])\n",
    "tf_sequential = Sequential([tf_dense])\n",
    "tf_predicted = tf_sequential.predict(sample_data)\n",
    "\n",
    "print(close_enough(tf_predicted, jaxmao_predicted))"
   ]
  },
  {
   "cell_type": "markdown",
   "metadata": {},
   "source": [
    "# BatchNorm (inference)\n",
    "only consistently tolerate up to 1e-6.\n",
    "not sure why"
   ]
  },
  {
   "cell_type": "code",
   "execution_count": 6,
   "metadata": {},
   "outputs": [
    {
     "name": "stdout",
     "output_type": "stream",
     "text": [
      "[[ True  True  True  True  True  True  True  True  True  True  True  True\n",
      "   True  True  True  True]\n",
      " [ True  True  True  True  True  True  True  True  True  True  True  True\n",
      "   True  True  True  True]\n",
      " [ True  True  True  True  True  True  True  True  True  True  True  True\n",
      "   True  True  True  True]\n",
      " [ True  True  True  True  True  True  True  True  True  True  True  True\n",
      "   True  True  True  True]\n",
      " [ True  True  True  True  True  True  True  True  True  True  True  True\n",
      "   True  True  True  True]\n",
      " [ True  True  True  True  True  True  True  True  True  True  True  True\n",
      "   True  True  True  True]\n",
      " [ True  True  True  True  True  True  True  True  True  True  True  True\n",
      "   True  True  True  True]\n",
      " [ True  True  True  True  True  True  True  True  True  True  True  True\n",
      "   True  True  True  True]]\n"
     ]
    }
   ],
   "source": [
    "# Generate random 1D data\n",
    "sample_data = np.random.normal(0, 1, (8, 16))  # shape (batch_size, features)\n",
    "\n",
    "# JaxMao BatchNorm1D\n",
    "jaxmao_batchnorm = jaxmao.layers.BatchNorm(16, eps=1e-10)\n",
    "jaxmao_batchnorm.init_params(key)\n",
    "jaxmao_batchnorm.switch_mode('inference')\n",
    "jaxmao_batchnorm_output = jaxmao_batchnorm(sample_data)\n",
    "\n",
    "# TensorFlow BatchNormalization\n",
    "tf_batchnorm = keras.layers.BatchNormalization(axis=-1, epsilon=1e-10)\n",
    "tf_batchnorm.build(input_shape=(None, 16))\n",
    "tf_batchnorm.set_weights([\n",
    "    jaxmao_batchnorm.params['gamma'], \n",
    "    jaxmao_batchnorm.params['beta'], \n",
    "    jaxmao_batchnorm.state['running_mean'], \n",
    "    jaxmao_batchnorm.state['running_var']\n",
    "])\n",
    "tf_batchnorm_output = tf_batchnorm(sample_data, training=False).numpy()\n",
    "\n",
    "# Compare\n",
    "print(close_enough(jaxmao_batchnorm_output, tf_batchnorm_output, 1e-6))"
   ]
  },
  {
   "cell_type": "markdown",
   "metadata": {},
   "source": [
    "# batchnorm (training)\n",
    "same with inference. only tolerate up to 1e-6"
   ]
  },
  {
   "cell_type": "code",
   "execution_count": 7,
   "metadata": {},
   "outputs": [
    {
     "name": "stdout",
     "output_type": "stream",
     "text": [
      "[[ True  True  True  True  True  True  True  True  True  True  True  True\n",
      "   True  True  True  True]\n",
      " [ True  True  True  True  True  True  True  True  True  True  True  True\n",
      "   True  True  True  True]\n",
      " [ True  True  True  True  True  True  True  True  True  True  True  True\n",
      "   True  True  True  True]\n",
      " [ True  True  True  True  True  True  True  True  True  True  True  True\n",
      "   True  True  True  True]\n",
      " [ True  True  True  True  True  True  True  True  True  True  True  True\n",
      "   True  True  True  True]\n",
      " [ True  True  True  True  True  True  True  True  True  True  True  True\n",
      "   True  True  True  True]\n",
      " [ True  True  True  True  True  True  True  True  True  True  True  True\n",
      "   True  True  True  True]\n",
      " [ True  True  True  True  True  True  True  True  True  True  True  True\n",
      "   True  True  True  True]]\n"
     ]
    }
   ],
   "source": [
    "# Generate random 1D data\n",
    "sample_data = np.random.normal(0, 1, (8, 16))  # shape (batch_size, features)\n",
    "\n",
    "# JaxMao BatchNorm1D\n",
    "jaxmao_batchnorm = jaxmao.layers.BatchNorm(16, eps=1e-8)\n",
    "jaxmao_batchnorm.init_params(key)\n",
    "jaxmao_batchnorm.switch_mode('train')\n",
    "jaxmao_batchnorm_output, new_state = jaxmao_batchnorm.pure_forward(jaxmao_batchnorm.params, sample_data, jaxmao_batchnorm.state)\n",
    "jaxmao_batchnorm.update_state(new_state)\n",
    "\n",
    "# TensorFlow BatchNormalization\n",
    "tf_batchnorm = keras.layers.BatchNormalization(axis=-1, epsilon=1e-8)\n",
    "tf_batchnorm.build(input_shape=(None, 16))\n",
    "tf_batchnorm.set_weights([\n",
    "    jaxmao_batchnorm.params['gamma'], \n",
    "    jaxmao_batchnorm.params['beta'], \n",
    "    jaxmao_batchnorm.state['running_mean'], \n",
    "    jaxmao_batchnorm.state['running_var']\n",
    "])\n",
    "tf_batchnorm_output = tf_batchnorm(sample_data, training=True).numpy()\n",
    "\n",
    "# Compare\n",
    "print(close_enough(jaxmao_batchnorm_output, tf_batchnorm_output, 1e-6))"
   ]
  },
  {
   "cell_type": "markdown",
   "metadata": {},
   "source": [
    "# dense relu bn"
   ]
  },
  {
   "cell_type": "code",
   "execution_count": 8,
   "metadata": {},
   "outputs": [
    {
     "name": "stdout",
     "output_type": "stream",
     "text": [
      "before bn \n",
      " tf.Tensor(\n",
      "[[ True  True  True  True]\n",
      " [ True  True  True  True]\n",
      " [ True  True  True  True]\n",
      " [ True  True  True  True]\n",
      " [ True  True  True  True]\n",
      " [ True  True  True  True]\n",
      " [ True  True  True  True]\n",
      " [ True  True  True  True]], shape=(8, 4), dtype=bool)\n",
      "\n",
      "after bn \n",
      " [[False False False False]\n",
      " [False  True False False]\n",
      " [False False False False]\n",
      " [False False False False]\n",
      " [False False False False]\n",
      " [ True False False False]\n",
      " [ True False False  True]\n",
      " [False  True False False]]\n"
     ]
    }
   ],
   "source": [
    "# generate data\n",
    "batch_size = 8\n",
    "channels = 5\n",
    "\n",
    "sample_data = np.zeros((batch_size, channels))\n",
    "\n",
    "for c in range(channels):\n",
    "    mean = np.random.randint(-np.random.randint(-12, 2), np.random.randint(42, 52)) \n",
    "    std_dev = np.random.uniform(-2, 421) \n",
    "    sample_data[ :, c] = np.random.normal(mean, std_dev, (batch_size, ))\n",
    "\n",
    "# JaxMao\n",
    "jaxmao_dense = jaxmao.layers.SimpleDense(5, 4, 'relu', use_bias=False)\n",
    "jaxmao_bn = jaxmao.layers.BatchNorm1D(4, eps=1e-5)\n",
    "jaxmao_dense.init_params(key)\n",
    "jaxmao_bn.init_params(key)\n",
    "jaxmao_bn.switch_mode('inference')\n",
    "\n",
    "z1 = jaxmao_dense(sample_data)\n",
    "jaxmao_predicted = jaxmao_bn(jaxmao_predicted)\n",
    "\n",
    "# TensorFlow\n",
    "tf_dense = keras.layers.Dense(4, activation='relu', use_bias=False)\n",
    "tf_bn = keras.layers.BatchNormalization(epsilon=1e-5)\n",
    "tf_dense.build(input_shape=(None, 5))\n",
    "tf_dense.set_weights([jaxmao_dense.params['weights']])\n",
    "\n",
    "z2 = tf_dense(sample_data)\n",
    "tf_predicted = tf_bn(tf_dense(sample_data), training=False)\n",
    "\n",
    "print('before bn \\n', z1 == z2)\n",
    "print('\\nafter bn \\n', close_enough(tf_predicted, jaxmao_predicted, 1e-3))"
   ]
  },
  {
   "cell_type": "code",
   "execution_count": 9,
   "metadata": {},
   "outputs": [
    {
     "data": {
      "text/plain": [
       "<tf.Tensor: shape=(8, 4), dtype=float32, numpy=\n",
       "array([[-6.34217041e+02, -3.18026825e+02, -2.34139893e+02,\n",
       "        -4.09005646e+02],\n",
       "       [ 9.21496898e-02,  0.00000000e+00,  3.17345262e-01,\n",
       "         4.82978433e-01],\n",
       "       [-3.64783669e+01, -3.43307281e+02, -4.95402954e+02,\n",
       "        -1.84353363e+02],\n",
       "       [-6.28931885e+01, -1.67183990e+02, -2.94820129e+02,\n",
       "        -2.42266769e+02],\n",
       "       [-1.14608635e+02, -5.58348267e+02, -7.35198914e+02,\n",
       "        -2.98086975e+02],\n",
       "       [ 0.00000000e+00,  1.66977584e+00,  2.33594584e+00,\n",
       "         9.31834988e-03],\n",
       "       [ 0.00000000e+00, -1.12925819e+02, -1.41895538e+02,\n",
       "         0.00000000e+00],\n",
       "       [ 1.12850010e+00,  0.00000000e+00,  5.32927692e-01,\n",
       "         1.89094424e-01]], dtype=float32)>"
      ]
     },
     "execution_count": 9,
     "metadata": {},
     "output_type": "execute_result"
    }
   ],
   "source": [
    "jaxmao_predicted - tf_predicted"
   ]
  },
  {
   "cell_type": "markdown",
   "metadata": {},
   "source": [
    "##### alternative in jaxmao"
   ]
  },
  {
   "cell_type": "code",
   "execution_count": 10,
   "metadata": {},
   "outputs": [
    {
     "name": "stdout",
     "output_type": "stream",
     "text": [
      "1/1 [==============================] - 0s 160ms/step\n",
      "[[ True  True  True  True]\n",
      " [ True  True  True  True]\n",
      " [ True  True  True  True]\n",
      " [ True  True  True  True]\n",
      " [ True  True  True  True]\n",
      " [ True  True  True  True]\n",
      " [ True  True  True  True]\n",
      " [ True  True  True  True]]\n"
     ]
    }
   ],
   "source": [
    "# JaxMao\n",
    "jaxmao_dense = jaxmao.layers.Dense(5, 4, 'softmax', batch_norm=True)\n",
    "jaxmao_dense.init_params(key)\n",
    "jaxmao_dense.switch_mode('inference')\n",
    "jaxmao_predicted, new_state = jaxmao_dense.pure_forward(jaxmao_dense.params, \n",
    "                                                        sample_data, \n",
    "                                                        jaxmao_dense.state)\n",
    "\n",
    "# TensorFlow\n",
    "tf_dense = keras.layers.Dense(4, use_bias=False)\n",
    "tf_bn = keras.layers.BatchNormalization()\n",
    "tf_dense.build(input_shape=(5, ))\n",
    "tf_dense.set_weights([jaxmao_dense.params['simple_dense']['weights']])\n",
    "tf_sequential = Sequential([tf_dense, tf_bn, keras.layers.Activation('softmax')])\n",
    "tf_predicted = tf_sequential.predict(sample_data)\n",
    "\n",
    "print(close_enough(tf_predicted, jaxmao_predicted, 1e-3))"
   ]
  },
  {
   "cell_type": "markdown",
   "metadata": {},
   "source": [
    "#### training mode"
   ]
  },
  {
   "cell_type": "code",
   "execution_count": 11,
   "metadata": {},
   "outputs": [
    {
     "name": "stdout",
     "output_type": "stream",
     "text": [
      "[[ True  True  True  True]\n",
      " [ True  True  True  True]\n",
      " [ True  True  True  True]\n",
      " [ True  True  True  True]\n",
      " [ True  True  True  True]\n",
      " [ True  True  True  True]\n",
      " [ True  True  True  True]\n",
      " [ True  True  True  True]]\n"
     ]
    }
   ],
   "source": [
    "# JaxMao\n",
    "jaxmao_dense = jaxmao.layers.Dense(5, 4, 'linear', batch_norm=True)\n",
    "jaxmao_dense.init_params(key)\n",
    "jaxmao_dense.switch_mode('train')\n",
    "\n",
    "# TensorFlow\n",
    "tf_dense = keras.layers.Dense(4, use_bias=False)\n",
    "tf_bn = keras.layers.BatchNormalization()\n",
    "tf_dense.build(input_shape=(5, ))\n",
    "tf_dense.set_weights([jaxmao_dense.params['simple_dense']['weights']])\n",
    "\n",
    "for _ in range(10):\n",
    "    jaxmao_predicted, new_state = jaxmao_dense.pure_forward(jaxmao_dense.params, \n",
    "                                                        sample_data, \n",
    "                                                        jaxmao_dense.state)\n",
    "    jaxmao_dense.update_state(new_state)\n",
    "    tf_z = tf_dense(sample_data)\n",
    "    tf_predicted = tf_bn(tf_z, training=True)\n",
    "\n",
    "print(close_enough(tf_predicted, jaxmao_predicted, 1e-6))"
   ]
  },
  {
   "cell_type": "markdown",
   "metadata": {},
   "source": [
    "# convolution\n",
    "also only consistent at eps=1e-6"
   ]
  },
  {
   "cell_type": "code",
   "execution_count": 12,
   "metadata": {},
   "outputs": [
    {
     "name": "stdout",
     "output_type": "stream",
     "text": [
      "True\n"
     ]
    }
   ],
   "source": [
    "# generate data\n",
    "sample_data = np.random.normal(0, 1, (8, 16, 16, 5))\n",
    "\n",
    "# JaxMao\n",
    "jaxmao_conv = jaxmao.layers.SimpleConv2D(5, 4, (3, 3), activation='relu', padding='SAME')\n",
    "jaxmao_conv.init_params(key)\n",
    "jaxmao_predicted = jaxmao_conv(sample_data)\n",
    "\n",
    "# TensorFlow\n",
    "tf_conv = keras.layers.Conv2D(4, (3,3), activation='relu', padding='same')\n",
    "tf_conv.build(input_shape=(16, 16, 5))\n",
    "tf_conv.set_weights([jaxmao_conv.params['weights'], jaxmao_conv.params['biases']])\n",
    "tf_predicted = tf_conv(sample_data).numpy()\n",
    "\n",
    "print(close_enough(tf_predicted, jaxmao_predicted, 1e-6).all())"
   ]
  },
  {
   "cell_type": "markdown",
   "metadata": {},
   "source": [
    "# BatchNorm2d"
   ]
  },
  {
   "cell_type": "code",
   "execution_count": 13,
   "metadata": {},
   "outputs": [
    {
     "name": "stdout",
     "output_type": "stream",
     "text": [
      "True\n"
     ]
    }
   ],
   "source": [
    "# generate data, if use random.normal mean and var wouldn't be tested.\n",
    "# Initialize shape parameters\n",
    "batch_size = 8\n",
    "height = 16\n",
    "width = 16\n",
    "channels = 5\n",
    "\n",
    "# Initialize empty array\n",
    "sample_image = np.zeros((batch_size, height, width, channels))\n",
    "\n",
    "# Populate each channel with different mean and std dev\n",
    "for c in range(channels):\n",
    "    mean = np.random.randint(-np.random.randint(-12, 2), np.random.randint(42, 52)) \n",
    "    std_dev = np.random.uniform(-2, 421) \n",
    "    sample_image[:, :, :, c] = np.random.normal(mean, std_dev, (batch_size, height, width))\n",
    "\n",
    "# JaxMao BatchNorm2D\n",
    "jaxmao_batchnorm2d = jaxmao.layers.BatchNorm2D(channels, eps=1e-10, momentum=0.99)\n",
    "jaxmao_batchnorm2d.init_params(key)\n",
    "jaxmao_batchnorm2d.switch_mode('inference')\n",
    "jaxmao_batchnorm2d_output = jaxmao_batchnorm2d(sample_image)\n",
    "\n",
    "# TensorFlow BatchNormalization (2D)\n",
    "tf_batchnorm2d = keras.layers.BatchNormalization(epsilon=1e-10)\n",
    "tf_batchnorm2d.build(input_shape=(None, height, width, channels))\n",
    "tf_batchnorm2d.set_weights([\n",
    "    jaxmao_batchnorm2d.params['gamma'], \n",
    "    jaxmao_batchnorm2d.params['beta'], \n",
    "    jaxmao_batchnorm2d.state['running_mean'], \n",
    "    jaxmao_batchnorm2d.state['running_var']\n",
    "])\n",
    "tf_batchnorm2d_output = tf_batchnorm2d(sample_image, training=False).numpy()\n",
    "\n",
    "# Compare\n",
    "print(close_enough(jaxmao_batchnorm2d_output, tf_batchnorm2d_output, 1e-10).all())"
   ]
  },
  {
   "cell_type": "code",
   "execution_count": 14,
   "metadata": {},
   "outputs": [
    {
     "name": "stdout",
     "output_type": "stream",
     "text": [
      "[[[[ True  True  True  True  True  True]\n",
      "   [ True  True  True  True  True  True]\n",
      "   [ True  True  True  True  True  True]\n",
      "   [ True  True  True  True  True  True]\n",
      "   [ True  True  True  True  True  True]\n",
      "   [ True  True  True  True  True  True]\n",
      "   [ True  True  True  True  True  True]\n",
      "   [ True  True  True  True  True  True]]\n",
      "\n",
      "  [[ True  True  True  True  True  True]\n",
      "   [ True  True  True  True  True  True]\n",
      "   [ True  True  True  True  True  True]\n",
      "   [ True  True  True  True  True  True]\n",
      "   [ True  True  True  True  True  True]\n",
      "   [ True  True  True  True  True  True]\n",
      "   [ True  True  True  True  True  True]\n",
      "   [ True  True  True  True  True  True]]\n",
      "\n",
      "  [[ True  True  True  True  True  True]\n",
      "   [ True  True  True  True  True  True]\n",
      "   [ True  True  True  True  True  True]\n",
      "   [ True  True  True  True  True  True]\n",
      "   [ True  True  True  True  True  True]\n",
      "   [ True  True  True  True  True  True]\n",
      "   [ True  True  True  True  True  True]\n",
      "   [ True  True  True  True  True  True]]\n",
      "\n",
      "  [[ True  True  True  True  True  True]\n",
      "   [ True  True  True  True  True  True]\n",
      "   [ True  True  True  True  True  True]\n",
      "   [ True  True  True  True  True  True]\n",
      "   [ True  True  True  True  True  True]\n",
      "   [ True  True  True  True  True  True]\n",
      "   [ True  True  True  True  True  True]\n",
      "   [ True  True  True  True  True  True]]\n",
      "\n",
      "  [[ True  True  True  True  True  True]\n",
      "   [ True  True  True  True  True  True]\n",
      "   [ True  True  True  True  True  True]\n",
      "   [ True  True  True  True  True  True]\n",
      "   [ True  True  True  True  True  True]\n",
      "   [ True  True  True  True  True  True]\n",
      "   [ True  True  True  True  True  True]\n",
      "   [ True  True  True  True  True  True]]\n",
      "\n",
      "  [[ True  True  True  True  True  True]\n",
      "   [ True  True  True  True  True  True]\n",
      "   [ True  True  True  True  True  True]\n",
      "   [ True  True  True  True  True  True]\n",
      "   [ True  True  True  True  True  True]\n",
      "   [ True  True  True  True  True  True]\n",
      "   [ True  True  True  True  True  True]\n",
      "   [ True  True  True  True  True  True]]\n",
      "\n",
      "  [[ True  True  True  True  True  True]\n",
      "   [ True  True  True  True  True  True]\n",
      "   [ True  True  True  True  True  True]\n",
      "   [ True  True  True  True  True  True]\n",
      "   [ True  True  True  True  True  True]\n",
      "   [ True  True  True  True  True  True]\n",
      "   [ True  True  True  True  True  True]\n",
      "   [ True  True  True  True  True  True]]\n",
      "\n",
      "  [[ True  True  True  True  True  True]\n",
      "   [ True  True  True  True  True  True]\n",
      "   [ True  True  True  True  True  True]\n",
      "   [ True  True  True  True  True  True]\n",
      "   [ True  True  True  True  True  True]\n",
      "   [ True  True  True  True  True  True]\n",
      "   [ True  True  True  True  True  True]\n",
      "   [ True  True  True  True  True  True]]]]\n"
     ]
    }
   ],
   "source": [
    "# Generate random 2D data (image)\n",
    "sample_image = np.random.normal(0, 1, (1, 8, 8, 6))  # shape (batch_size, height, width, channels)\n",
    "\n",
    "# JaxMao BatchNorm2D\n",
    "jaxmao_batchnorm2d = jaxmao.layers.BatchNorm2D(6)\n",
    "jaxmao_batchnorm2d.init_params(key)\n",
    "jaxmao_batchnorm2d.switch_mode('train')\n",
    "jaxmao_batchnorm2d_output, state = jaxmao_batchnorm2d.pure_forward(jaxmao_batchnorm2d.params, sample_image, jaxmao_batchnorm2d.state)\n",
    "\n",
    "# TensorFlow BatchNormalization (2D)\n",
    "tf_batchnorm2d = keras.layers.BatchNormalization()\n",
    "tf_batchnorm2d.build(input_shape=(None, 8, 8, 6))\n",
    "tf_batchnorm2d.set_weights([\n",
    "    jaxmao_batchnorm2d.params['gamma'], \n",
    "    jaxmao_batchnorm2d.params['beta'], \n",
    "    jaxmao_batchnorm2d.state['running_mean'], \n",
    "    jaxmao_batchnorm2d.state['running_var']\n",
    "])\n",
    "tf_batchnorm2d_output = tf_batchnorm2d(sample_image, training=True).numpy()\n",
    "\n",
    "# Compare\n",
    "print(close_enough(jaxmao_batchnorm2d_output, tf_batchnorm2d_output, 1e-6))"
   ]
  },
  {
   "cell_type": "markdown",
   "metadata": {},
   "source": [
    "# convolution bn activation\n",
    "class `jaxmao.layers.Conv2D` do conv-bn-activation, cannot change epsilon so can only compare at 1e-3 "
   ]
  },
  {
   "cell_type": "code",
   "execution_count": 15,
   "metadata": {},
   "outputs": [
    {
     "name": "stdout",
     "output_type": "stream",
     "text": [
      "True\n"
     ]
    }
   ],
   "source": [
    "# generate data\n",
    "# Initialize shape parameters\n",
    "batch_size = 8\n",
    "height = 16\n",
    "width = 16\n",
    "channels = 5\n",
    "\n",
    "# Initialize empty array\n",
    "sample_data = np.zeros((batch_size, height, width, channels))\n",
    "\n",
    "# Populate each channel with different mean and std dev\n",
    "for c in range(channels):\n",
    "    mean = np.random.randint(-np.random.randint(-12, 2), np.random.randint(42, 52),) \n",
    "    std_dev = np.random.uniform(-2, 421) \n",
    "    sample_data[:, :, :, c] = np.random.normal(mean, std_dev, (batch_size, height, width))\n",
    "\n",
    "\n",
    "# JaxMao\n",
    "jaxmao_conv = jaxmao.layers.Conv2D(5, 4, (3, 3), activation='sigmoid', padding='SAME', \n",
    "                                   batch_norm=True, use_bias=False)\n",
    "jaxmao_conv.init_params(key)\n",
    "jaxmao_conv.switch_mode('inference')\n",
    "jaxmao_predicted = jaxmao_conv(sample_data)\n",
    "\n",
    "\n",
    "# TensorFlow\n",
    "tf_conv = keras.layers.Conv2D(4, (3,3), padding='same', use_bias=False, activation='linear')\n",
    "tf_bn = keras.layers.BatchNormalization(epsilon=1e-3) # just realize that we can do this.\n",
    "tf_conv.build(input_shape=(16, 16, 5))\n",
    "tf_conv.set_weights([jaxmao_conv.params['simple_conv2d']['weights']])\n",
    "\n",
    "z = tf_conv(sample_data)\n",
    "z = tf_bn(z, training=False)\n",
    "tf_predicted = keras.layers.Activation('sigmoid')(z)\n",
    "\n",
    "print(close_enough(tf_predicted, jaxmao_predicted, 1e-3).all())"
   ]
  },
  {
   "cell_type": "markdown",
   "metadata": {},
   "source": [
    "# other layers ... "
   ]
  },
  {
   "cell_type": "markdown",
   "metadata": {},
   "source": [
    "# MaxPooling2d"
   ]
  },
  {
   "cell_type": "code",
   "execution_count": 16,
   "metadata": {},
   "outputs": [
    {
     "name": "stdout",
     "output_type": "stream",
     "text": [
      "True\n"
     ]
    }
   ],
   "source": [
    "sample_image = np.random.normal(0, 1, (5, 8, 8, 3)) \n",
    "\n",
    "# JaxMao\n",
    "jaxmao_maxpool = jaxmao.layers.MaxPooling2D(kernel_size=(2, 2), strides=(2, 2), padding='SAME')\n",
    "jaxmao_maxpool.init_params(key)\n",
    "jaxmao_pooled = jaxmao_maxpool(sample_image)\n",
    "\n",
    "# TensorFlow\n",
    "tf_maxpool = keras.layers.MaxPooling2D(pool_size=(2, 2), strides=(2, 2), padding='same')\n",
    "tf_pooled = tf_maxpool(sample_image).numpy() \n",
    "\n",
    "# Compare\n",
    "print(close_enough(jaxmao_pooled, tf_pooled).all())"
   ]
  },
  {
   "cell_type": "markdown",
   "metadata": {},
   "source": [
    "# AveragePooling2d"
   ]
  },
  {
   "cell_type": "code",
   "execution_count": 17,
   "metadata": {},
   "outputs": [
    {
     "name": "stdout",
     "output_type": "stream",
     "text": [
      "True\n"
     ]
    }
   ],
   "source": [
    "# Generate random image data\n",
    "sample_image = np.random.normal(0, 1, (44, 8, 8, 3))  # shape (batch_size, height, width, channels)\n",
    "\n",
    "# JaxMao AveragePooling2D\n",
    "jaxmao_avgpool = jaxmao.layers.AveragePooling2D(kernel_size=(2, 2), strides=(2, 2), padding='SAME')\n",
    "jaxmao_avgpool.init_params(key)\n",
    "jaxmao_avg_pooled = jaxmao_avgpool(sample_image)\n",
    "\n",
    "# TensorFlow AveragePooling2D\n",
    "tf_avgpool = keras.layers.AveragePooling2D(pool_size=(2, 2), strides=(2, 2), padding='same')\n",
    "tf_avg_pooled = tf_avgpool(sample_image).numpy()\n",
    "\n",
    "# Compare\n",
    "print(close_enough(jaxmao_avg_pooled, tf_avg_pooled).all())"
   ]
  },
  {
   "cell_type": "markdown",
   "metadata": {},
   "source": [
    "# GlobalAveragePooling2d\n",
    "not sure why this do not tolerate 1e-10."
   ]
  },
  {
   "cell_type": "code",
   "execution_count": 18,
   "metadata": {},
   "outputs": [
    {
     "name": "stdout",
     "output_type": "stream",
     "text": [
      "[[False False False]\n",
      " [ True False False]\n",
      " [False False  True]\n",
      " [False False False]\n",
      " [False False False]\n",
      " [False False False]\n",
      " [False False False]\n",
      " [False False False]\n",
      " [False False  True]\n",
      " [False False False]\n",
      " [False  True False]\n",
      " [False False False]\n",
      " [False False False]\n",
      " [False False False]\n",
      " [ True False False]\n",
      " [False False False]\n",
      " [False False False]\n",
      " [False False False]\n",
      " [False False False]\n",
      " [False False False]\n",
      " [False False False]\n",
      " [ True False False]\n",
      " [False False False]\n",
      " [False  True False]\n",
      " [False False False]\n",
      " [False False False]\n",
      " [False False False]\n",
      " [False False False]\n",
      " [False False False]\n",
      " [False False False]\n",
      " [False False False]\n",
      " [False False  True]\n",
      " [False False False]\n",
      " [False False False]\n",
      " [False False False]\n",
      " [False False False]\n",
      " [False False False]\n",
      " [False False False]\n",
      " [False False False]\n",
      " [False False False]\n",
      " [False False False]\n",
      " [False False False]\n",
      " [False False False]\n",
      " [False False False]]\n"
     ]
    }
   ],
   "source": [
    "# Generate random image data\n",
    "sample_image = np.random.normal(0, 1, (44, 42, 8, 3))  # shape (batch_size, height, width, channels)\n",
    "\n",
    "# JaxMao GlobalAveragePooling2D\n",
    "jaxmao_global_avgpool = jaxmao.layers.GlobalAveragePooling2D()\n",
    "jaxmao_global_avgpool.init_params(key)\n",
    "jaxmao_global_avg_pooled = jaxmao_global_avgpool(sample_image)\n",
    "\n",
    "# TensorFlow GlobalAveragePooling2D\n",
    "tf_global_avgpool = keras.layers.GlobalAveragePooling2D()\n",
    "tf_global_avg_pooled = tf_global_avgpool(sample_image).numpy()\n",
    "\n",
    "# Compare\n",
    "print(close_enough(jaxmao_global_avg_pooled, tf_global_avg_pooled, 1e-10))"
   ]
  },
  {
   "cell_type": "markdown",
   "metadata": {},
   "source": [
    "it does tolerate 1e-7"
   ]
  },
  {
   "cell_type": "code",
   "execution_count": 19,
   "metadata": {},
   "outputs": [
    {
     "name": "stdout",
     "output_type": "stream",
     "text": [
      "[[ True  True  True]\n",
      " [ True  True  True]\n",
      " [ True  True  True]\n",
      " [ True  True  True]\n",
      " [ True  True  True]\n",
      " [ True  True  True]\n",
      " [ True  True  True]\n",
      " [ True  True  True]\n",
      " [ True  True  True]\n",
      " [ True  True  True]\n",
      " [ True  True  True]\n",
      " [ True  True  True]\n",
      " [ True  True  True]\n",
      " [ True  True  True]\n",
      " [ True  True  True]\n",
      " [ True  True  True]\n",
      " [ True  True  True]\n",
      " [ True  True  True]\n",
      " [ True  True  True]\n",
      " [ True  True  True]\n",
      " [ True  True  True]\n",
      " [ True  True  True]\n",
      " [ True  True  True]\n",
      " [ True  True  True]\n",
      " [ True  True  True]\n",
      " [ True  True  True]\n",
      " [ True  True  True]\n",
      " [ True  True  True]\n",
      " [ True  True  True]\n",
      " [ True  True  True]\n",
      " [ True  True  True]\n",
      " [ True  True  True]\n",
      " [ True  True  True]\n",
      " [ True  True  True]\n",
      " [ True  True  True]\n",
      " [ True  True  True]\n",
      " [ True  True  True]\n",
      " [ True  True  True]\n",
      " [ True  True  True]\n",
      " [ True  True  True]\n",
      " [ True  True  True]\n",
      " [ True  True  True]\n",
      " [ True  True  True]\n",
      " [ True  True  True]]\n"
     ]
    }
   ],
   "source": [
    "print(close_enough(jaxmao_global_avg_pooled, tf_global_avg_pooled, 1e-7))"
   ]
  },
  {
   "cell_type": "markdown",
   "metadata": {},
   "source": [
    "# GlobalMaxPooling2d\n",
    "same implementation, change from `jnp.mean` to `jnp.max`"
   ]
  },
  {
   "cell_type": "code",
   "execution_count": 20,
   "metadata": {},
   "outputs": [
    {
     "name": "stdout",
     "output_type": "stream",
     "text": [
      "True\n"
     ]
    }
   ],
   "source": [
    "# Generate random image data\n",
    "sample_image = np.random.normal(0, 1, (421, 42, 8, 3))  # shape (batch_size, height, width, channels)\n",
    "\n",
    "# JaxMao GlobalAveragePooling2D\n",
    "jaxmao_global_maxpool = jaxmao.layers.GlobalMaxPooling2D()\n",
    "jaxmao_global_maxpool.init_params(key)  # If initialization is required\n",
    "jaxmao_global_avg_pooled = jaxmao_global_maxpool(sample_image)\n",
    "\n",
    "# TensorFlow GlobalAveragePooling2D\n",
    "tf_global_maxpool = keras.layers.GlobalMaxPooling2D()\n",
    "tf_global_avg_pooled = tf_global_maxpool(sample_image).numpy()\n",
    "\n",
    "# Compare\n",
    "print(close_enough(jaxmao_global_avg_pooled, tf_global_avg_pooled).all())"
   ]
  },
  {
   "cell_type": "markdown",
   "metadata": {},
   "source": [
    "# DepthwiseConv2d"
   ]
  },
  {
   "cell_type": "code",
   "execution_count": 27,
   "metadata": {},
   "outputs": [
    {
     "name": "stdout",
     "output_type": "stream",
     "text": [
      "True\n"
     ]
    }
   ],
   "source": [
    "# Generate random image data\n",
    "sample_image = np.random.normal(0, 1, (5, 8, 8, 42))  # shape (batch_size, height, width, channels)\n",
    "\n",
    "# JaxMao DepthwiseConv2D\n",
    "jaxmao_depthwise_conv = jaxmao.layers.DepthwiseConv2D(42, kernel_size=(3, 3), strides=(1, 1), padding='SAME')\n",
    "jaxmao_depthwise_conv.init_params(key)\n",
    "jaxmao_depthwise_conv_output = jaxmao_depthwise_conv(sample_image)\n",
    "\n",
    "# TensorFlow DepthwiseConv2D\n",
    "tf_depthwise_conv = keras.layers.DepthwiseConv2D(kernel_size=(3, 3), strides=(1, 1), padding='same', activation='relu')\n",
    "tf_depthwise_conv.build(input_shape=(None, 8, 8, 42))\n",
    "tf_depthwise_conv.set_weights([jaxmao_depthwise_conv.params['weights'].reshape(3,3,42,1), jaxmao_depthwise_conv.params['biases']])\n",
    "tf_depthwise_conv_output = tf_depthwise_conv(sample_image).numpy()\n",
    "\n",
    "# Compare\n",
    "print(close_enough(jaxmao_depthwise_conv_output, tf_depthwise_conv_output, 1e-6).all())"
   ]
  },
  {
   "cell_type": "markdown",
   "metadata": {},
   "source": [
    "# Cross entropy"
   ]
  },
  {
   "cell_type": "code",
   "execution_count": 28,
   "metadata": {},
   "outputs": [
    {
     "name": "stdout",
     "output_type": "stream",
     "text": [
      "True\n"
     ]
    },
    {
     "data": {
      "text/plain": [
       "(Array(0.93529034, dtype=float32), 0.93529034)"
      ]
     },
     "execution_count": 28,
     "metadata": {},
     "output_type": "execute_result"
    }
   ],
   "source": [
    "# Generate sample data\n",
    "y_true = np.array([0, 1, 2, 2, 1])  # True labels\n",
    "y_true = jax.nn.one_hot(y_true, num_classes=3).astype('float32')\n",
    "y_pred = np.array([\n",
    "    [0.1, 0.2, 0.7],  # Predicted probabilities\n",
    "    [0.5, 0.4, 0.1],\n",
    "    [0.02, 0.01, 0.97],\n",
    "    [0.1, 0.1, 0.8],\n",
    "    [0.6, 0.3, 0.1]\n",
    "]).astype('float32')\n",
    "\n",
    "# JaxMao CrossEntropy\n",
    "jaxmao_cross_entropy = CategoricalCrossEntropy(reduce_fn='mean_over_batch_size')\n",
    "jaxmao_loss = jaxmao_cross_entropy.calculate_loss(y_pred, y_true)\n",
    "\n",
    "# TensorFlow CrossEntropy\n",
    "tf_cross_entropy = keras.losses.CategoricalCrossentropy()\n",
    "tf_loss = tf_cross_entropy(y_true, y_pred).numpy()\n",
    "\n",
    "# Compare\n",
    "print(close_enough(jaxmao_loss, tf_loss))\n",
    "jaxmao_loss, tf_loss"
   ]
  },
  {
   "cell_type": "code",
   "execution_count": 29,
   "metadata": {},
   "outputs": [
    {
     "name": "stdout",
     "output_type": "stream",
     "text": [
      "True\n"
     ]
    },
    {
     "data": {
      "text/plain": [
       "(Array(4.6764517, dtype=float32), 4.6764517)"
      ]
     },
     "execution_count": 29,
     "metadata": {},
     "output_type": "execute_result"
    }
   ],
   "source": [
    "# Generate sample data\n",
    "y_true = np.array([0, 1, 2, 2, 1])  # True labels\n",
    "y_true = jax.nn.one_hot(y_true, num_classes=3).astype('float32')\n",
    "y_pred = np.array([\n",
    "    [0.1, 0.2, 0.7],  # Predicted probabilities\n",
    "    [0.5, 0.4, 0.1],\n",
    "    [0.02, 0.01, 0.97],\n",
    "    [0.1, 0.1, 0.8],\n",
    "    [0.6, 0.3, 0.1]\n",
    "]).astype('float32')\n",
    "\n",
    "# JaxMao CrossEntropy\n",
    "jaxmao_cross_entropy = CategoricalCrossEntropy(reduce_fn=jnp.sum)\n",
    "jaxmao_loss = jaxmao_cross_entropy.calculate_loss(y_pred, y_true)\n",
    "\n",
    "# TensorFlow CrossEntropy\n",
    "tf_cross_entropy = keras.losses.CategoricalCrossentropy(reduction='sum')\n",
    "tf_loss = tf_cross_entropy(y_true, y_pred).numpy()\n",
    "\n",
    "# Compare\n",
    "print(close_enough(jaxmao_loss, tf_loss))\n",
    "jaxmao_loss, tf_loss"
   ]
  }
 ],
 "metadata": {
  "kernelspec": {
   "display_name": "jaxlab",
   "language": "python",
   "name": "python3"
  },
  "language_info": {
   "codemirror_mode": {
    "name": "ipython",
    "version": 3
   },
   "file_extension": ".py",
   "mimetype": "text/x-python",
   "name": "python",
   "nbconvert_exporter": "python",
   "pygments_lexer": "ipython3",
   "version": "3.11.5"
  }
 },
 "nbformat": 4,
 "nbformat_minor": 2
}
