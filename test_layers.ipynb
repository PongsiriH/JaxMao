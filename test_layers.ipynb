{
 "cells": [
  {
   "cell_type": "code",
   "execution_count": 1,
   "metadata": {},
   "outputs": [],
   "source": [
    "import os\n",
    "os.environ[\"JAX_PLATFORM_NAME\"] = \"cpu\"\n",
    "\n",
    "import jax\n",
    "import jax.numpy as jnp\n",
    "import numpy as np\n",
    "from jaxmao.layers import Conv2D, Dense, BatchNorm, ReLU, Flatten, StableSoftmax, BatchNorm2D, DepthwiseConv2D, Activation\n",
    "from jaxmao.modules import Module\n",
    "from jaxmao.optimizers import GradientDescent\n",
    "from jaxmao.losses import CategoricalCrossEntropy\n",
    "from jaxmao.metrics import Accuracy, Precision, Recall"
   ]
  },
  {
   "cell_type": "code",
   "execution_count": 2,
   "metadata": {},
   "outputs": [
    {
     "name": "stderr",
     "output_type": "stream",
     "text": [
      "WARNING: All log messages before absl::InitializeLog() is called are written to STDERR\n",
      "I0000 00:00:1697821211.521425  144504 tfrt_cpu_pjrt_client.cc:349] TfrtCpuClient created.\n"
     ]
    },
    {
     "data": {
      "text/plain": [
       "[CpuDevice(id=0)]"
      ]
     },
     "execution_count": 2,
     "metadata": {},
     "output_type": "execute_result"
    }
   ],
   "source": [
    "jax.devices()"
   ]
  },
  {
   "cell_type": "markdown",
   "metadata": {},
   "source": [
    "# Dense"
   ]
  },
  {
   "cell_type": "code",
   "execution_count": 3,
   "metadata": {},
   "outputs": [],
   "source": [
    "# Define the input shape and number of output neurons\n",
    "input_shape = (4,)  # Input shape (number of input features)\n",
    "output_neurons = 3  # Number of output neurons\n",
    "\n",
    "# Initialize custom weights and bias\n",
    "custom_weights = np.array([\n",
    "    [0.1, 0.2, 0.3],\n",
    "    [0.4, 0.5, 0.6],\n",
    "    [0.7, 0.8, 0.9],\n",
    "    [1.0, 1.1, 1.2]\n",
    "])\n",
    "custom_bias = np.array([0.01, 0.02, 0.03])"
   ]
  },
  {
   "cell_type": "code",
   "execution_count": 4,
   "metadata": {},
   "outputs": [],
   "source": [
    "dense = Dense(4, 3, use_bias=False)\n",
    "dense.init_params(key=jax.random.PRNGKey(0))\n",
    "# dense.params = dict()\n",
    "# dense.params['weights'] = custom_weights\n",
    "# dense.params['biases'] = custom_bias\n",
    "\n",
    "bn = BatchNorm(3, momentum=0.5, axis_mean=0)\n",
    "bn.init_params(None)\n",
    "bn.set_inference_mode()"
   ]
  },
  {
   "cell_type": "code",
   "execution_count": 5,
   "metadata": {},
   "outputs": [
    {
     "data": {
      "text/plain": [
       "<jaxmao.layers.ReLU at 0x7f58b03d4550>"
      ]
     },
     "execution_count": 5,
     "metadata": {},
     "output_type": "execute_result"
    }
   ],
   "source": [
    "Activation(act='relu')"
   ]
  },
  {
   "cell_type": "code",
   "execution_count": null,
   "metadata": {},
   "outputs": [],
   "source": []
  },
  {
   "cell_type": "code",
   "execution_count": 6,
   "metadata": {},
   "outputs": [
    {
     "data": {
      "text/plain": [
       "{'dense/simple_dense': {'weights': Array([[-1.8649967 ,  0.27245682,  0.23650852],\n",
       "         [-0.5385112 ,  0.25521564, -0.8271961 ],\n",
       "         [ 0.1533223 ,  0.36550814,  0.7068316 ],\n",
       "         [-0.79391825,  1.3884199 ,  0.07156017]], dtype=float32),\n",
       "  'biases': Array([0., 0., 0.], dtype=float32)},\n",
       " 'dense/batch_norm': {'gamma': Array([1., 1., 1.], dtype=float32),\n",
       "  'beta': Array([0., 0., 0.], dtype=float32)}}"
      ]
     },
     "execution_count": 6,
     "metadata": {},
     "output_type": "execute_result"
    }
   ],
   "source": [
    "dense.params"
   ]
  },
  {
   "cell_type": "code",
   "execution_count": 7,
   "metadata": {},
   "outputs": [
    {
     "data": {
      "text/plain": [
       "(8, 3)"
      ]
     },
     "execution_count": 7,
     "metadata": {},
     "output_type": "execute_result"
    }
   ],
   "source": [
    "sample_input = np.arange(8*4).reshape(8, 4)  # Shape will be (1, 4)\n",
    "output, _ = dense(dense.params, sample_input)\n",
    "output.shape"
   ]
  },
  {
   "cell_type": "markdown",
   "metadata": {},
   "source": [
    "## Dense, bn"
   ]
  },
  {
   "cell_type": "code",
   "execution_count": 8,
   "metadata": {},
   "outputs": [
    {
     "data": {
      "text/plain": [
       "Array([[1.526762  , 0.        , 0.        ],\n",
       "       [1.0905442 , 0.        , 0.        ],\n",
       "       [0.6543265 , 0.        , 0.        ],\n",
       "       [0.21810873, 0.        , 0.        ],\n",
       "       [0.        , 0.21810892, 0.21810862],\n",
       "       [0.        , 0.6543268 , 0.65432507],\n",
       "       [0.        , 1.0905443 , 1.090543  ],\n",
       "       [0.        , 1.5267621 , 1.5267589 ]], dtype=float32)"
      ]
     },
     "execution_count": 8,
     "metadata": {},
     "output_type": "execute_result"
    }
   ],
   "source": [
    "bn.eps = np.float32(1e-3) # this is what Keras use. I use 1e-5\n",
    "\n",
    "output2, _ = bn(bn.params, output)\n",
    "output2"
   ]
  },
  {
   "cell_type": "code",
   "execution_count": 9,
   "metadata": {},
   "outputs": [
    {
     "data": {
      "text/plain": [
       "({'gamma': Array([1., 1., 1.], dtype=float32),\n",
       "  'beta': Array([0., 0., 0.], dtype=float32)},\n",
       " {'running_mean': Array([0., 0., 0.], dtype=float32),\n",
       "  'running_var': Array([1., 1., 1.], dtype=float32),\n",
       "  'momentum': 0.5,\n",
       "  'training': False})"
      ]
     },
     "execution_count": 9,
     "metadata": {},
     "output_type": "execute_result"
    }
   ],
   "source": [
    "bn.params, bn.state"
   ]
  },
  {
   "cell_type": "code",
   "execution_count": 10,
   "metadata": {},
   "outputs": [
    {
     "data": {
      "text/plain": [
       "Array([[0, 0, 5]], dtype=int32)"
      ]
     },
     "execution_count": 10,
     "metadata": {},
     "output_type": "execute_result"
    }
   ],
   "source": [
    "output3 = ReLU()(np.array([[-5, 0, 5]]))\n",
    "output3"
   ]
  },
  {
   "cell_type": "markdown",
   "metadata": {},
   "source": [
    "# Conv2D"
   ]
  },
  {
   "cell_type": "code",
   "execution_count": 11,
   "metadata": {},
   "outputs": [],
   "source": [
    "sample_input = np.arange(25).reshape(1, 5, 5, 1).astype('float32')"
   ]
  },
  {
   "cell_type": "markdown",
   "metadata": {},
   "source": [
    "#### valid padding"
   ]
  },
  {
   "cell_type": "code",
   "execution_count": 12,
   "metadata": {},
   "outputs": [],
   "source": [
    "custom_kernel = np.array([[[[0.1]], [[0.2]], [[0.3]]],\n",
    "                          [[[0.4]], [[0.5]], [[0.6]]],\n",
    "                          [[[0.7]], [[0.8]], [[0.9]]]])\n",
    "\n",
    "custom_bias = np.array([0.01])\n",
    "\n",
    "conv = Conv2D(1, 1, (3,3), 1, padding='VALID')\n",
    "conv.params = dict(weights=custom_kernel, biases=custom_bias)\n",
    "# conv.params"
   ]
  },
  {
   "cell_type": "code",
   "execution_count": 13,
   "metadata": {},
   "outputs": [
    {
     "data": {
      "text/plain": [
       "((1, 3, 3, 1),\n",
       " Array([36.609997, 41.109997, 45.609997, 59.109997, 63.609997, 68.11    ,\n",
       "        81.61001 , 86.10999 , 90.61    ], dtype=float32))"
      ]
     },
     "execution_count": 13,
     "metadata": {},
     "output_type": "execute_result"
    }
   ],
   "source": [
    "conv_output, state = conv(conv.params, sample_input)\n",
    "conv_output.shape, conv_output.ravel()"
   ]
  },
  {
   "cell_type": "markdown",
   "metadata": {},
   "source": [
    "#### same padding"
   ]
  },
  {
   "cell_type": "code",
   "execution_count": 14,
   "metadata": {},
   "outputs": [],
   "source": [
    "custom_kernel = np.array([[[[0.1]], [[0.2]], [[0.3]]],\n",
    "                          [[[0.4]], [[0.5]], [[0.6]]],\n",
    "                          [[[0.7]], [[0.8]], [[0.9]]]])\n",
    "\n",
    "custom_bias = np.array([0.01])\n",
    "\n",
    "conv = Conv2D(1, 1, (3,3), 1, padding='SAME')\n",
    "conv.params = dict(weights=custom_kernel, biases=custom_bias)\n",
    "# conv.params"
   ]
  },
  {
   "cell_type": "code",
   "execution_count": 15,
   "metadata": {},
   "outputs": [
    {
     "data": {
      "text/plain": [
       "((1, 5, 5, 1),\n",
       " Array([10.01    , 16.31    , 20.21    , 24.109999, 16.01    , 24.31    ,\n",
       "        36.609997, 41.109997, 45.609997, 29.11    , 40.81    , 59.109997,\n",
       "        63.609997, 68.11    , 42.609997, 57.31    , 81.61001 , 86.10999 ,\n",
       "        90.61    , 56.110004, 30.410002, 41.51    , 43.609997, 45.71    ,\n",
       "        26.81    ], dtype=float32))"
      ]
     },
     "execution_count": 15,
     "metadata": {},
     "output_type": "execute_result"
    }
   ],
   "source": [
    "conv_output, state = conv(conv.params, sample_input)\n",
    "conv_output.shape, conv_output.ravel()"
   ]
  },
  {
   "cell_type": "markdown",
   "metadata": {},
   "source": [
    "# Conv2D, bn"
   ]
  },
  {
   "cell_type": "code",
   "execution_count": 16,
   "metadata": {},
   "outputs": [],
   "source": [
    "sample_input = np.arange(25).reshape(1, 5, 5, 1).astype('float32')"
   ]
  },
  {
   "cell_type": "markdown",
   "metadata": {},
   "source": [
    "#### valid padding"
   ]
  },
  {
   "cell_type": "code",
   "execution_count": 17,
   "metadata": {},
   "outputs": [],
   "source": [
    "custom_kernel = np.array([[[[0.1]], [[0.2]], [[0.3]]],\n",
    "                          [[[0.4]], [[0.5]], [[0.6]]],\n",
    "                          [[[0.7]], [[0.8]], [[0.9]]]])\n",
    "\n",
    "custom_bias = np.array([0.01])\n",
    "\n",
    "conv = Conv2D(1, 1, (3,3), 1, padding='VALID')\n",
    "conv.params = dict(weights=custom_kernel, biases=custom_bias)\n",
    "# conv.params"
   ]
  },
  {
   "cell_type": "code",
   "execution_count": 18,
   "metadata": {},
   "outputs": [
    {
     "data": {
      "text/plain": [
       "((1, 3, 3, 1),\n",
       " Array([36.609997, 41.109997, 45.609997, 59.109997, 63.609997, 68.11    ,\n",
       "        81.61001 , 86.10999 , 90.61    ], dtype=float32))"
      ]
     },
     "execution_count": 18,
     "metadata": {},
     "output_type": "execute_result"
    }
   ],
   "source": [
    "conv_output, state = conv(conv.params, sample_input)\n",
    "conv_output.shape, conv_output.ravel()"
   ]
  },
  {
   "cell_type": "code",
   "execution_count": 19,
   "metadata": {},
   "outputs": [],
   "source": [
    "convbn = BatchNorm(1, axis_mean=(0, 1, 2))\n",
    "convbn.init_params()\n",
    "convbn.set_inference_mode()\n",
    "\n",
    "convbn.eps = np.float32(1e-3)"
   ]
  },
  {
   "cell_type": "code",
   "execution_count": 20,
   "metadata": {},
   "outputs": [
    {
     "data": {
      "text/plain": [
       "((1, 3, 3, 1),\n",
       " Array([36.591705, 41.08946 , 45.58721 , 59.080467, 63.578217, 68.07597 ,\n",
       "        81.56924 , 86.06697 , 90.564735], dtype=float32))"
      ]
     },
     "execution_count": 20,
     "metadata": {},
     "output_type": "execute_result"
    }
   ],
   "source": [
    "bn_out, state = convbn(convbn.params, conv_output)\n",
    "bn_out.shape, bn_out.ravel()"
   ]
  },
  {
   "cell_type": "markdown",
   "metadata": {},
   "source": [
    "#### same padding"
   ]
  },
  {
   "cell_type": "code",
   "execution_count": 21,
   "metadata": {},
   "outputs": [],
   "source": [
    "custom_kernel = np.array([[[[0.1]], [[0.2]], [[0.3]]],\n",
    "                          [[[0.4]], [[0.5]], [[0.6]]],\n",
    "                          [[[0.7]], [[0.8]], [[0.9]]]])\n",
    "\n",
    "custom_bias = np.array([0.01])\n",
    "\n",
    "conv = Conv2D(1, 1, (3,3), 1, padding='SAME')\n",
    "conv.params = dict(weights=custom_kernel, biases=custom_bias)\n",
    "# conv.params"
   ]
  },
  {
   "cell_type": "code",
   "execution_count": 22,
   "metadata": {},
   "outputs": [
    {
     "data": {
      "text/plain": [
       "((1, 5, 5, 1),\n",
       " Array([10.01    , 16.31    , 20.21    , 24.109999, 16.01    , 24.31    ,\n",
       "        36.609997, 41.109997, 45.609997, 29.11    , 40.81    , 59.109997,\n",
       "        63.609997, 68.11    , 42.609997, 57.31    , 81.61001 , 86.10999 ,\n",
       "        90.61    , 56.110004, 30.410002, 41.51    , 43.609997, 45.71    ,\n",
       "        26.81    ], dtype=float32))"
      ]
     },
     "execution_count": 22,
     "metadata": {},
     "output_type": "execute_result"
    }
   ],
   "source": [
    "conv_output, state = conv(conv.params, sample_input)\n",
    "conv_output.shape, conv_output.ravel()"
   ]
  },
  {
   "cell_type": "code",
   "execution_count": 23,
   "metadata": {},
   "outputs": [],
   "source": [
    "convbn = BatchNorm(1, axis_mean=(0, 1, 2))\n",
    "convbn.init_params()\n",
    "convbn.set_inference_mode()\n",
    "\n",
    "convbn.eps = np.float32(1e-3)"
   ]
  },
  {
   "cell_type": "code",
   "execution_count": 24,
   "metadata": {},
   "outputs": [
    {
     "data": {
      "text/plain": [
       "((1, 5, 5, 1),\n",
       " Array([10.004999, 16.301851, 20.199902, 24.097954, 16.002   , 24.297853,\n",
       "        36.591705, 41.08946 , 45.58721 , 29.095457, 40.78961 , 59.080467,\n",
       "        63.578217, 68.07597 , 42.58871 , 57.28137 , 81.56924 , 86.06697 ,\n",
       "        90.564735, 56.081974, 30.39481 , 41.48926 , 43.58821 , 45.687164,\n",
       "        26.796606], dtype=float32))"
      ]
     },
     "execution_count": 24,
     "metadata": {},
     "output_type": "execute_result"
    }
   ],
   "source": [
    "bn_out, state = convbn(convbn.params, conv_output)\n",
    "bn_out.shape, bn_out.ravel()"
   ]
  },
  {
   "cell_type": "code",
   "execution_count": 25,
   "metadata": {},
   "outputs": [],
   "source": [
    "convbn = BatchNorm(1, axis_mean=(0, 1, 2))\n",
    "convbn.init_params()\n",
    "convbn.set_inference_mode()\n",
    "\n",
    "convbn2d = BatchNorm2D(1)\n",
    "convbn2d.init_params()\n",
    "convbn2d.set_inference_mode()"
   ]
  },
  {
   "cell_type": "code",
   "execution_count": 26,
   "metadata": {},
   "outputs": [
    {
     "data": {
      "text/plain": [
       "Array([ True,  True,  True,  True,  True,  True,  True,  True,  True,\n",
       "        True,  True,  True,  True,  True,  True,  True,  True,  True,\n",
       "        True,  True,  True,  True,  True,  True,  True], dtype=bool)"
      ]
     },
     "execution_count": 26,
     "metadata": {},
     "output_type": "execute_result"
    }
   ],
   "source": [
    "convbn(convbn.params, bn_out)[0].ravel() == convbn2d(convbn2d.params, bn_out)[0].ravel()"
   ]
  },
  {
   "cell_type": "markdown",
   "metadata": {},
   "source": [
    "# Depthwise conv2d"
   ]
  },
  {
   "cell_type": "code",
   "execution_count": 27,
   "metadata": {},
   "outputs": [],
   "source": [
    "sample_input = np.arange(50).reshape(1, 5, 5, 2).astype('float32')\n",
    "\n",
    "custom_depthwise_kernel = jnp.array([[[[0.1, 0.2]], [[0.3, 0.4]], [[0.5, 0.6]]],\n",
    "                                    [[[0.7, 0.8]], [[0.9, 1.0]], [[1.1, 1.2]]],\n",
    "                                    [[[1.3, 1.4]], [[1.5, 1.6]], [[1.7, 1.8]]]]).reshape(3, 3, 1, 2)\n",
    "\n",
    "custom_bias = jnp.array([0.01, 0.02])\n",
    "\n",
    "dwconv = DepthwiseConv2D(2, 1, (3, 3), 1, 'relu', padding='VALID')\n",
    "dwconv.init_params(key=jax.random.PRNGKey(1))\n",
    "# dwconv.params = dict()\n",
    "# dwconv.params['weights'] = custom_depthwise_kernel\n",
    "# dwconv.params['biases'] = custom_bias"
   ]
  },
  {
   "cell_type": "code",
   "execution_count": 28,
   "metadata": {},
   "outputs": [
    {
     "data": {
      "text/plain": [
       "(3, 3, 1, 2)"
      ]
     },
     "execution_count": 28,
     "metadata": {},
     "output_type": "execute_result"
    }
   ],
   "source": [
    "dwconv.params['weights'].shape"
   ]
  },
  {
   "cell_type": "code",
   "execution_count": 29,
   "metadata": {},
   "outputs": [
    {
     "data": {
      "text/plain": [
       "((1, 3, 3, 2),\n",
       " Array([[[[0., 0.],\n",
       "          [0., 0.],\n",
       "          [0., 0.]],\n",
       " \n",
       "         [[0., 0.],\n",
       "          [0., 0.],\n",
       "          [0., 0.]],\n",
       " \n",
       "         [[0., 0.],\n",
       "          [0., 0.],\n",
       "          [0., 0.]]]], dtype=float32))"
      ]
     },
     "execution_count": 29,
     "metadata": {},
     "output_type": "execute_result"
    }
   ],
   "source": [
    "output, s = dwconv(dwconv.params, sample_input)\n",
    "output.shape, output"
   ]
  },
  {
   "cell_type": "markdown",
   "metadata": {},
   "source": [
    "# sublayers"
   ]
  },
  {
   "cell_type": "code",
   "execution_count": 30,
   "metadata": {},
   "outputs": [],
   "source": [
    "import jax\n",
    "import numpy as np\n",
    "from jaxmao.layers import Layer, Dense\n",
    "\n",
    "class TwoDense(Layer):\n",
    "    def __init__(self, in_channels, out_channels):\n",
    "        super().__init__()\n",
    "        self.layers = {\n",
    "            'dense1': Dense(4, 4, activation=None, use_bias=False),\n",
    "            'dense2': Dense(4, 5, activation=None, use_bias=False)\n",
    "        }\n",
    "    \n",
    "    def forward(self, params, x, state=None):\n",
    "        x, state = self.apply(params, x, 'dense1', state)\n",
    "        x, state = self.apply(params, x, 'dense2', state)\n",
    "        return x\n",
    "dw_sep = TwoDense(4, 5)\n",
    "dw_sep.init_params(key=jax.random.PRNGKey(0))"
   ]
  },
  {
   "cell_type": "code",
   "execution_count": 31,
   "metadata": {},
   "outputs": [
    {
     "data": {
      "text/plain": [
       "Array([[-1.7300946e+00,  1.6384195e+00,  1.8752322e+00, -1.7356913e+00,\n",
       "        -7.2044253e-01],\n",
       "       [ 6.1868316e-01, -1.1059952e+00, -5.1548386e-01,  4.7545135e-01,\n",
       "        -1.3730115e+00],\n",
       "       [ 1.2308455e+00, -9.6424913e-01, -4.2155027e-01,  1.3255204e+00,\n",
       "         1.7722866e-01],\n",
       "       [ 1.6596594e-01,  2.9860577e-02, -1.0167825e+00, -2.3425558e-04,\n",
       "         3.5464722e-01],\n",
       "       [-2.8539994e-01,  4.0196428e-01,  7.8584462e-02, -6.5046392e-02,\n",
       "         1.5615780e+00]], dtype=float32)"
      ]
     },
     "execution_count": 31,
     "metadata": {},
     "output_type": "execute_result"
    }
   ],
   "source": [
    "sample = np.random.normal(-2, 1, (5, 4))\n",
    "dw_sep.forward(dw_sep.params, sample, dw_sep.state)"
   ]
  },
  {
   "cell_type": "code",
   "execution_count": 32,
   "metadata": {},
   "outputs": [
    {
     "name": "stdout",
     "output_type": "stream",
     "text": [
      "layer                output shape         #'s params           #'s states          \n",
      "dense1               (5, 4)               0                    0                   \n",
      "dense2               (5, 5)               0                    0                   \n",
      "\n"
     ]
    }
   ],
   "source": [
    "print(dw_sep.summary)"
   ]
  },
  {
   "cell_type": "markdown",
   "metadata": {},
   "source": [
    "# depthwise separable conv2d"
   ]
  },
  {
   "cell_type": "code",
   "execution_count": 33,
   "metadata": {},
   "outputs": [],
   "source": [
    "import jax\n",
    "import numpy as np\n",
    "from jaxmao.layers import Layer, Dense, Conv2D, DepthwiseConv2D\n",
    "from jaxmao.initializers import *\n",
    "\n",
    "class DepthwiseSeparableConv2D(Layer):\n",
    "    def __init__(\n",
    "            self,\n",
    "            in_channels,\n",
    "            out_channels,\n",
    "            depth_multiplier=1,\n",
    "            activation='relu',\n",
    "            padding='SAME',\n",
    "            strides=(1, 1),\n",
    "            dilation=(1, 1),\n",
    "            use_bias=True,\n",
    "            weights_initializer=HeNormal(),\n",
    "            bias_initializer=HeNormal(),\n",
    "            dtype=jnp.float32\n",
    "                 ):\n",
    "        super().__init__()\n",
    "        self.layers = {\n",
    "            'depthwise' : DepthwiseConv2D(\n",
    "                                in_channels, depth_multiplier, \n",
    "                                kernel_size=(3, 3), strides=strides, \n",
    "                                activation=activation, padding=padding,\n",
    "                                dilation=dilation, use_bias=use_bias,\n",
    "                                weights_initializer=weights_initializer,\n",
    "                                bias_initializer=bias_initializer,\n",
    "                                dtype=dtype\n",
    "                                          ),\n",
    "            'pointwise' : Conv2D(\n",
    "                            in_channels, out_channels, \n",
    "                            kernel_size=(1, 1), strides=(1, 1),\n",
    "                            activation=activation,\n",
    "                            dilation=dilation, use_bias=use_bias,\n",
    "                            weights_initializer=weights_initializer,\n",
    "                            bias_initializer=bias_initializer,\n",
    "                            dtype=dtype\n",
    "                                 )\n",
    "        }\n",
    "    \n",
    "    def forward(self, params, x, state=None):\n",
    "        x, state = self.apply(params, x, 'depthwise', state)\n",
    "        x, state = self.apply(params, x, 'pointwise', state)\n",
    "        return x, state"
   ]
  },
  {
   "cell_type": "code",
   "execution_count": 34,
   "metadata": {},
   "outputs": [],
   "source": [
    "sample = np.random.normal(0, 1, (5, 12, 12, 5))\n",
    "\n",
    "dwsep = DepthwiseSeparableConv2D(5, 7)\n",
    "dwsep.init_params(key=jax.random.PRNGKey(4))"
   ]
  },
  {
   "cell_type": "code",
   "execution_count": 35,
   "metadata": {},
   "outputs": [
    {
     "data": {
      "text/plain": [
       "(5, 12, 12, 7)"
      ]
     },
     "execution_count": 35,
     "metadata": {},
     "output_type": "execute_result"
    }
   ],
   "source": [
    "x, s = dwsep.forward(dwsep.params, sample, dwsep.state)\n",
    "x.shape"
   ]
  }
 ],
 "metadata": {
  "kernelspec": {
   "display_name": "jaxlab",
   "language": "python",
   "name": "python3"
  },
  "language_info": {
   "codemirror_mode": {
    "name": "ipython",
    "version": 3
   },
   "file_extension": ".py",
   "mimetype": "text/x-python",
   "name": "python",
   "nbconvert_exporter": "python",
   "pygments_lexer": "ipython3",
   "version": "3.11.5"
  }
 },
 "nbformat": 4,
 "nbformat_minor": 2
}
