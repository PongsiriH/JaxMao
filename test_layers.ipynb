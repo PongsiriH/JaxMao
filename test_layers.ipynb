{
 "cells": [
  {
   "cell_type": "code",
   "execution_count": 1,
   "metadata": {},
   "outputs": [],
   "source": [
    "import os\n",
    "os.environ[\"JAX_PLATFORM_NAME\"] = \"cpu\"\n",
    "\n",
    "import jax\n",
    "import jax.numpy as jnp\n",
    "import numpy as np\n",
    "from jaxmao.layers import Conv2D, Dense, BatchNorm, ReLU, Flatten, StableSoftmax, BatchNorm2D, DepthwiseConv2D\n",
    "from jaxmao.modules import Module\n",
    "from jaxmao.optimizers import GradientDescent\n",
    "from jaxmao.losses import CategoricalCrossEntropy\n",
    "from jaxmao.metrics import Accuracy, Precision, Recall"
   ]
  },
  {
   "cell_type": "code",
   "execution_count": 2,
   "metadata": {},
   "outputs": [
    {
     "name": "stderr",
     "output_type": "stream",
     "text": [
      "WARNING: All log messages before absl::InitializeLog() is called are written to STDERR\n",
      "I0000 00:00:1697817978.975058  118380 tfrt_cpu_pjrt_client.cc:349] TfrtCpuClient created.\n"
     ]
    },
    {
     "data": {
      "text/plain": [
       "[CpuDevice(id=0)]"
      ]
     },
     "execution_count": 2,
     "metadata": {},
     "output_type": "execute_result"
    }
   ],
   "source": [
    "jax.devices()"
   ]
  },
  {
   "cell_type": "code",
   "execution_count": 3,
   "metadata": {},
   "outputs": [],
   "source": [
    "import jax.numpy as jnp\n",
    "from jax import jit\n",
    "import numpy as np\n",
    "\n",
    "def my_jax_nn(input_data, weights, bias):\n",
    "    output = jnp.dot(input_data, weights) + bias\n",
    "    return output\n",
    "\n",
    "# JIT compile for better performance\n",
    "my_jax_nn = jit(my_jax_nn)"
   ]
  },
  {
   "cell_type": "code",
   "execution_count": 4,
   "metadata": {},
   "outputs": [
    {
     "data": {
      "text/plain": [
       "Array([[  4.8100004,   5.42     ,   6.03     ],\n",
       "       [ 13.610001 ,  15.82     ,  18.03     ],\n",
       "       [ 22.41     ,  26.220001 ,  30.03     ],\n",
       "       [ 31.210001 ,  36.62     ,  42.03     ],\n",
       "       [ 40.01     ,  47.02     ,  54.03     ],\n",
       "       [ 48.81     ,  57.420002 ,  66.03     ],\n",
       "       [ 57.609997 ,  67.82     ,  78.03     ],\n",
       "       [ 66.409996 ,  78.22     ,  90.03     ],\n",
       "       [ 75.21     ,  88.62     , 102.03     ],\n",
       "       [ 84.01     ,  99.02     , 114.03     ],\n",
       "       [ 92.810005 , 109.420006 , 126.03     ],\n",
       "       [101.61     , 119.82     , 138.03     ],\n",
       "       [110.409996 , 130.22     , 150.03     ],\n",
       "       [119.21     , 140.62001  , 162.03     ],\n",
       "       [128.01     , 151.02     , 174.03     ],\n",
       "       [136.81     , 161.42001  , 186.03     ],\n",
       "       [145.61     , 171.82     , 198.03     ],\n",
       "       [154.40999  , 182.22     , 210.03     ],\n",
       "       [163.20999  , 192.62001  , 222.03     ],\n",
       "       [172.01     , 203.02     , 234.03     ]], dtype=float32)"
      ]
     },
     "execution_count": 4,
     "metadata": {},
     "output_type": "execute_result"
    }
   ],
   "source": [
    "# Your custom weights and bias\n",
    "custom_weights = np.array([\n",
    "    [0.1, 0.2, 0.3],\n",
    "    [0.4, 0.5, 0.6],\n",
    "    [0.7, 0.8, 0.9],\n",
    "    [1.0, 1.1, 1.2]\n",
    "], dtype='float32')\n",
    "custom_bias = np.array([0.01, 0.02, 0.03], dtype='float32')\n",
    "\n",
    "# Your sample input\n",
    "sample_input = np.arange(20*4).reshape(20, 4).astype('float32')\n",
    "\n",
    "# Run the JAX function\n",
    "jax_output = my_jax_nn(sample_input, custom_weights, custom_bias)\n",
    "jax_output"
   ]
  },
  {
   "cell_type": "markdown",
   "metadata": {},
   "source": [
    "# Dense"
   ]
  },
  {
   "cell_type": "code",
   "execution_count": 5,
   "metadata": {},
   "outputs": [],
   "source": [
    "# Define the input shape and number of output neurons\n",
    "input_shape = (4,)  # Input shape (number of input features)\n",
    "output_neurons = 3  # Number of output neurons\n",
    "\n",
    "# Initialize custom weights and bias\n",
    "custom_weights = np.array([\n",
    "    [0.1, 0.2, 0.3],\n",
    "    [0.4, 0.5, 0.6],\n",
    "    [0.7, 0.8, 0.9],\n",
    "    [1.0, 1.1, 1.2]\n",
    "])\n",
    "custom_bias = np.array([0.01, 0.02, 0.03])"
   ]
  },
  {
   "cell_type": "code",
   "execution_count": 6,
   "metadata": {},
   "outputs": [],
   "source": [
    "dense = Dense(4, 3)\n",
    "dense.params = dict()\n",
    "dense.params['weights'] = custom_weights\n",
    "dense.params['biases'] = custom_bias\n",
    "\n",
    "bn = BatchNorm(3, momentum=0.5, axis_mean=0)\n",
    "bn.init_params(None)\n",
    "bn.set_inference_mode()"
   ]
  },
  {
   "cell_type": "code",
   "execution_count": 7,
   "metadata": {},
   "outputs": [
    {
     "data": {
      "text/plain": [
       "Array([[ 4.8100004,  5.42     ,  6.03     ],\n",
       "       [13.610001 , 15.82     , 18.03     ],\n",
       "       [22.41     , 26.220001 , 30.03     ],\n",
       "       [31.210001 , 36.62     , 42.03     ],\n",
       "       [40.01     , 47.02     , 54.03     ],\n",
       "       [48.81     , 57.420002 , 66.03     ],\n",
       "       [57.609997 , 67.82     , 78.03     ],\n",
       "       [66.409996 , 78.22     , 90.03     ]], dtype=float32)"
      ]
     },
     "execution_count": 7,
     "metadata": {},
     "output_type": "execute_result"
    }
   ],
   "source": [
    "sample_input = np.arange(8*4).reshape(8, 4)  # Shape will be (1, 4)\n",
    "output, _ = dense(dense.params, sample_input)\n",
    "output"
   ]
  },
  {
   "cell_type": "markdown",
   "metadata": {},
   "source": [
    "## Dense, bn"
   ]
  },
  {
   "cell_type": "code",
   "execution_count": 8,
   "metadata": {},
   "outputs": [
    {
     "data": {
      "text/plain": [
       "Array([[ 4.807597 ,  5.417292 ,  6.0269876],\n",
       "       [13.603201 , 15.812096 , 18.020992 ],\n",
       "       [22.398804 , 26.206902 , 30.014997 ],\n",
       "       [31.194408 , 36.601704 , 42.009003 ],\n",
       "       [39.99001  , 46.99651  , 54.003006 ],\n",
       "       [48.785618 , 57.391315 , 65.99701  ],\n",
       "       [57.581215 , 67.78612  , 77.99101  ],\n",
       "       [66.376816 , 78.18092  , 89.98502  ]], dtype=float32)"
      ]
     },
     "execution_count": 8,
     "metadata": {},
     "output_type": "execute_result"
    }
   ],
   "source": [
    "bn.eps = np.float32(1e-3) # this is what Keras use. I use 1e-5\n",
    "\n",
    "output2, _ = bn(bn.params, output)\n",
    "output2"
   ]
  },
  {
   "cell_type": "code",
   "execution_count": 9,
   "metadata": {},
   "outputs": [
    {
     "data": {
      "text/plain": [
       "({'gamma': Array([1., 1., 1.], dtype=float32),\n",
       "  'beta': Array([0., 0., 0.], dtype=float32)},\n",
       " {'running_mean': Array([0., 0., 0.], dtype=float32),\n",
       "  'running_var': Array([1., 1., 1.], dtype=float32),\n",
       "  'momentum': 0.5,\n",
       "  'training': False})"
      ]
     },
     "execution_count": 9,
     "metadata": {},
     "output_type": "execute_result"
    }
   ],
   "source": [
    "bn.params, bn.state"
   ]
  },
  {
   "cell_type": "code",
   "execution_count": 10,
   "metadata": {},
   "outputs": [
    {
     "data": {
      "text/plain": [
       "Array([[0, 0, 5]], dtype=int32)"
      ]
     },
     "execution_count": 10,
     "metadata": {},
     "output_type": "execute_result"
    }
   ],
   "source": [
    "output3 = ReLU()(np.array([[-5, 0, 5]]))\n",
    "output3"
   ]
  },
  {
   "cell_type": "markdown",
   "metadata": {},
   "source": [
    "# Conv2D"
   ]
  },
  {
   "cell_type": "code",
   "execution_count": 11,
   "metadata": {},
   "outputs": [],
   "source": [
    "sample_input = np.arange(25).reshape(1, 5, 5, 1).astype('float32')"
   ]
  },
  {
   "cell_type": "markdown",
   "metadata": {},
   "source": [
    "#### valid padding"
   ]
  },
  {
   "cell_type": "code",
   "execution_count": 12,
   "metadata": {},
   "outputs": [],
   "source": [
    "custom_kernel = np.array([[[[0.1]], [[0.2]], [[0.3]]],\n",
    "                          [[[0.4]], [[0.5]], [[0.6]]],\n",
    "                          [[[0.7]], [[0.8]], [[0.9]]]])\n",
    "\n",
    "custom_bias = np.array([0.01])\n",
    "\n",
    "conv = Conv2D(1, 1, (3,3), 1, padding='VALID')\n",
    "conv.params = dict(weights=custom_kernel, biases=custom_bias)\n",
    "# conv.params"
   ]
  },
  {
   "cell_type": "code",
   "execution_count": 13,
   "metadata": {},
   "outputs": [
    {
     "data": {
      "text/plain": [
       "((1, 3, 3, 1),\n",
       " Array([36.609997, 41.109997, 45.609997, 59.109997, 63.609997, 68.11    ,\n",
       "        81.61001 , 86.10999 , 90.61    ], dtype=float32))"
      ]
     },
     "execution_count": 13,
     "metadata": {},
     "output_type": "execute_result"
    }
   ],
   "source": [
    "conv_output, state = conv(conv.params, sample_input)\n",
    "conv_output.shape, conv_output.ravel()"
   ]
  },
  {
   "cell_type": "markdown",
   "metadata": {},
   "source": [
    "#### same padding"
   ]
  },
  {
   "cell_type": "code",
   "execution_count": 14,
   "metadata": {},
   "outputs": [],
   "source": [
    "custom_kernel = np.array([[[[0.1]], [[0.2]], [[0.3]]],\n",
    "                          [[[0.4]], [[0.5]], [[0.6]]],\n",
    "                          [[[0.7]], [[0.8]], [[0.9]]]])\n",
    "\n",
    "custom_bias = np.array([0.01])\n",
    "\n",
    "conv = Conv2D(1, 1, (3,3), 1, padding='SAME')\n",
    "conv.params = dict(weights=custom_kernel, biases=custom_bias)\n",
    "# conv.params"
   ]
  },
  {
   "cell_type": "code",
   "execution_count": 15,
   "metadata": {},
   "outputs": [
    {
     "data": {
      "text/plain": [
       "((1, 5, 5, 1),\n",
       " Array([10.01    , 16.31    , 20.21    , 24.109999, 16.01    , 24.31    ,\n",
       "        36.609997, 41.109997, 45.609997, 29.11    , 40.81    , 59.109997,\n",
       "        63.609997, 68.11    , 42.609997, 57.31    , 81.61001 , 86.10999 ,\n",
       "        90.61    , 56.110004, 30.410002, 41.51    , 43.609997, 45.71    ,\n",
       "        26.81    ], dtype=float32))"
      ]
     },
     "execution_count": 15,
     "metadata": {},
     "output_type": "execute_result"
    }
   ],
   "source": [
    "conv_output, state = conv(conv.params, sample_input)\n",
    "conv_output.shape, conv_output.ravel()"
   ]
  },
  {
   "cell_type": "markdown",
   "metadata": {},
   "source": [
    "# Conv2D, bn"
   ]
  },
  {
   "cell_type": "code",
   "execution_count": 16,
   "metadata": {},
   "outputs": [],
   "source": [
    "sample_input = np.arange(25).reshape(1, 5, 5, 1).astype('float32')"
   ]
  },
  {
   "cell_type": "markdown",
   "metadata": {},
   "source": [
    "#### valid padding"
   ]
  },
  {
   "cell_type": "code",
   "execution_count": 17,
   "metadata": {},
   "outputs": [],
   "source": [
    "custom_kernel = np.array([[[[0.1]], [[0.2]], [[0.3]]],\n",
    "                          [[[0.4]], [[0.5]], [[0.6]]],\n",
    "                          [[[0.7]], [[0.8]], [[0.9]]]])\n",
    "\n",
    "custom_bias = np.array([0.01])\n",
    "\n",
    "conv = Conv2D(1, 1, (3,3), 1, padding='VALID')\n",
    "conv.params = dict(weights=custom_kernel, biases=custom_bias)\n",
    "# conv.params"
   ]
  },
  {
   "cell_type": "code",
   "execution_count": 18,
   "metadata": {},
   "outputs": [
    {
     "data": {
      "text/plain": [
       "((1, 3, 3, 1),\n",
       " Array([36.609997, 41.109997, 45.609997, 59.109997, 63.609997, 68.11    ,\n",
       "        81.61001 , 86.10999 , 90.61    ], dtype=float32))"
      ]
     },
     "execution_count": 18,
     "metadata": {},
     "output_type": "execute_result"
    }
   ],
   "source": [
    "conv_output, state = conv(conv.params, sample_input)\n",
    "conv_output.shape, conv_output.ravel()"
   ]
  },
  {
   "cell_type": "code",
   "execution_count": 19,
   "metadata": {},
   "outputs": [],
   "source": [
    "convbn = BatchNorm(1, axis_mean=(0, 1, 2))\n",
    "convbn.init_params()\n",
    "convbn.set_inference_mode()\n",
    "\n",
    "convbn.eps = np.float32(1e-3)"
   ]
  },
  {
   "cell_type": "code",
   "execution_count": 20,
   "metadata": {},
   "outputs": [
    {
     "data": {
      "text/plain": [
       "((1, 3, 3, 1),\n",
       " Array([36.591705, 41.08946 , 45.58721 , 59.080467, 63.578217, 68.07597 ,\n",
       "        81.56924 , 86.06697 , 90.564735], dtype=float32))"
      ]
     },
     "execution_count": 20,
     "metadata": {},
     "output_type": "execute_result"
    }
   ],
   "source": [
    "bn_out, state = convbn(convbn.params, conv_output)\n",
    "bn_out.shape, bn_out.ravel()"
   ]
  },
  {
   "cell_type": "markdown",
   "metadata": {},
   "source": [
    "#### same padding"
   ]
  },
  {
   "cell_type": "code",
   "execution_count": 21,
   "metadata": {},
   "outputs": [],
   "source": [
    "custom_kernel = np.array([[[[0.1]], [[0.2]], [[0.3]]],\n",
    "                          [[[0.4]], [[0.5]], [[0.6]]],\n",
    "                          [[[0.7]], [[0.8]], [[0.9]]]])\n",
    "\n",
    "custom_bias = np.array([0.01])\n",
    "\n",
    "conv = Conv2D(1, 1, (3,3), 1, padding='SAME')\n",
    "conv.params = dict(weights=custom_kernel, biases=custom_bias)\n",
    "# conv.params"
   ]
  },
  {
   "cell_type": "code",
   "execution_count": 22,
   "metadata": {},
   "outputs": [
    {
     "data": {
      "text/plain": [
       "((1, 5, 5, 1),\n",
       " Array([10.01    , 16.31    , 20.21    , 24.109999, 16.01    , 24.31    ,\n",
       "        36.609997, 41.109997, 45.609997, 29.11    , 40.81    , 59.109997,\n",
       "        63.609997, 68.11    , 42.609997, 57.31    , 81.61001 , 86.10999 ,\n",
       "        90.61    , 56.110004, 30.410002, 41.51    , 43.609997, 45.71    ,\n",
       "        26.81    ], dtype=float32))"
      ]
     },
     "execution_count": 22,
     "metadata": {},
     "output_type": "execute_result"
    }
   ],
   "source": [
    "conv_output, state = conv(conv.params, sample_input)\n",
    "conv_output.shape, conv_output.ravel()"
   ]
  },
  {
   "cell_type": "code",
   "execution_count": 23,
   "metadata": {},
   "outputs": [],
   "source": [
    "convbn = BatchNorm(1, axis_mean=(0, 1, 2))\n",
    "convbn.init_params()\n",
    "convbn.set_inference_mode()\n",
    "\n",
    "convbn.eps = np.float32(1e-3)"
   ]
  },
  {
   "cell_type": "code",
   "execution_count": 24,
   "metadata": {},
   "outputs": [
    {
     "data": {
      "text/plain": [
       "((1, 5, 5, 1),\n",
       " Array([10.004999, 16.301851, 20.199902, 24.097954, 16.002   , 24.297853,\n",
       "        36.591705, 41.08946 , 45.58721 , 29.095457, 40.78961 , 59.080467,\n",
       "        63.578217, 68.07597 , 42.58871 , 57.28137 , 81.56924 , 86.06697 ,\n",
       "        90.564735, 56.081974, 30.39481 , 41.48926 , 43.58821 , 45.687164,\n",
       "        26.796606], dtype=float32))"
      ]
     },
     "execution_count": 24,
     "metadata": {},
     "output_type": "execute_result"
    }
   ],
   "source": [
    "bn_out, state = convbn(convbn.params, conv_output)\n",
    "bn_out.shape, bn_out.ravel()"
   ]
  },
  {
   "cell_type": "code",
   "execution_count": 25,
   "metadata": {},
   "outputs": [],
   "source": [
    "convbn = BatchNorm(1, axis_mean=(0, 1, 2))\n",
    "convbn.init_params()\n",
    "convbn.set_inference_mode()\n",
    "\n",
    "convbn2d = BatchNorm2D(1)\n",
    "convbn2d.init_params()\n",
    "convbn2d.set_inference_mode()"
   ]
  },
  {
   "cell_type": "code",
   "execution_count": 26,
   "metadata": {},
   "outputs": [
    {
     "data": {
      "text/plain": [
       "Array([ True,  True,  True,  True,  True,  True,  True,  True,  True,\n",
       "        True,  True,  True,  True,  True,  True,  True,  True,  True,\n",
       "        True,  True,  True,  True,  True,  True,  True], dtype=bool)"
      ]
     },
     "execution_count": 26,
     "metadata": {},
     "output_type": "execute_result"
    }
   ],
   "source": [
    "convbn(convbn.params, bn_out)[0].ravel() == convbn2d(convbn2d.params, bn_out)[0].ravel()"
   ]
  },
  {
   "cell_type": "markdown",
   "metadata": {},
   "source": [
    "# Depthwise conv2d"
   ]
  },
  {
   "cell_type": "code",
   "execution_count": 79,
   "metadata": {},
   "outputs": [],
   "source": [
    "sample_input = np.arange(50).reshape(1, 5, 5, 2).astype('float32')\n",
    "\n",
    "custom_depthwise_kernel = jnp.array([[[[0.1, 0.2]], [[0.3, 0.4]], [[0.5, 0.6]]],\n",
    "                                    [[[0.7, 0.8]], [[0.9, 1.0]], [[1.1, 1.2]]],\n",
    "                                    [[[1.3, 1.4]], [[1.5, 1.6]], [[1.7, 1.8]]]]).reshape(3, 3, 1, 2)\n",
    "\n",
    "custom_bias = jnp.array([0.01, 0.02])\n",
    "\n",
    "dwconv = DepthwiseConv2D(2, 1, (3, 3), 1, 'relu', padding='VALID')\n",
    "dwconv.init_params(key=jax.random.PRNGKey(1))\n",
    "# dwconv.params = dict()\n",
    "# dwconv.params['weights'] = custom_depthwise_kernel\n",
    "# dwconv.params['biases'] = custom_bias"
   ]
  },
  {
   "cell_type": "code",
   "execution_count": 80,
   "metadata": {},
   "outputs": [
    {
     "data": {
      "text/plain": [
       "(3, 3, 1, 2)"
      ]
     },
     "execution_count": 80,
     "metadata": {},
     "output_type": "execute_result"
    }
   ],
   "source": [
    "dwconv.params['weights'].shape"
   ]
  },
  {
   "cell_type": "code",
   "execution_count": 81,
   "metadata": {},
   "outputs": [
    {
     "data": {
      "text/plain": [
       "((1, 3, 3, 2),\n",
       " Array([[[[31.62529 , 27.67883 ],\n",
       "          [31.967676, 32.388893],\n",
       "          [32.310062, 37.098957]],\n",
       " \n",
       "         [[33.33722 , 51.22915 ],\n",
       "          [33.679604, 55.939217],\n",
       "          [34.02198 , 60.649284]],\n",
       " \n",
       "         [[35.04914 , 74.77947 ],\n",
       "          [35.391525, 79.48954 ],\n",
       "          [35.733913, 84.19961 ]]]], dtype=float32))"
      ]
     },
     "execution_count": 81,
     "metadata": {},
     "output_type": "execute_result"
    }
   ],
   "source": [
    "output, s = dwconv(dwconv.params, sample_input)\n",
    "output.shape, output"
   ]
  },
  {
   "cell_type": "markdown",
   "metadata": {},
   "source": [
    "# sublayers"
   ]
  },
  {
   "cell_type": "code",
   "execution_count": 82,
   "metadata": {},
   "outputs": [],
   "source": [
    "import jax\n",
    "import numpy as np\n",
    "from jaxmao.layers import Layer, Dense\n",
    "\n",
    "class TwoDense(Layer):\n",
    "    def __init__(self, in_channels, out_channels):\n",
    "        super().__init__()\n",
    "        self.layers = {\n",
    "            'dense1': Dense(4, 4, activation=None, use_bias=False),\n",
    "            'dense2': Dense(4, 5, activation=None, use_bias=False)\n",
    "        }\n",
    "    \n",
    "    def forward(self, params, x, state=None):\n",
    "        x, state = self.apply(params, x, 'dense1', state)\n",
    "        x, state = self.apply(params, x, 'dense2', state)\n",
    "        return x\n",
    "dw_sep = TwoDense(4, 5)\n",
    "dw_sep.init_params(key=jax.random.PRNGKey(0))"
   ]
  },
  {
   "cell_type": "code",
   "execution_count": 83,
   "metadata": {},
   "outputs": [
    {
     "data": {
      "text/plain": [
       "<jaxmao.layers.Linear at 0x7f2c51725650>"
      ]
     },
     "execution_count": 83,
     "metadata": {},
     "output_type": "execute_result"
    }
   ],
   "source": [
    "dw_sep.layers['dense1'].activation"
   ]
  },
  {
   "cell_type": "code",
   "execution_count": 84,
   "metadata": {},
   "outputs": [
    {
     "data": {
      "text/plain": [
       "{'dense1': {'weights': Array([[ 0.222334  , -0.5509084 ,  0.18274157,  0.33478668],\n",
       "         [-1.4232535 ,  0.15614432,  0.72407204,  0.73889905],\n",
       "         [-0.07506051,  1.5381824 , -0.7009841 , -0.551843  ],\n",
       "         [ 0.19835554,  0.05200171,  0.08526177,  0.5655228 ]],      dtype=float32)},\n",
       " 'dense2': {'weights': Array([[ 0.92753756, -1.3217152 , -1.1210729 , -0.6640803 , -0.3569061 ],\n",
       "         [-1.3121504 , -1.6131067 ,  1.0063031 ,  0.5350468 , -0.4035093 ],\n",
       "         [-1.0435044 , -0.57557756,  0.46654668,  0.6476337 ,  0.2598184 ],\n",
       "         [-0.37320292, -0.16586637,  0.32066888, -1.3481379 , -0.07582019]],      dtype=float32)}}"
      ]
     },
     "execution_count": 84,
     "metadata": {},
     "output_type": "execute_result"
    }
   ],
   "source": [
    "dw_sep.params"
   ]
  },
  {
   "cell_type": "code",
   "execution_count": 85,
   "metadata": {},
   "outputs": [
    {
     "data": {
      "text/plain": [
       "Array([[ 11.063606  ,   2.9078488 , -10.019278  ,  -2.7214916 ,\n",
       "          0.49901664],\n",
       "       [ 10.39292   ,   4.6138706 ,  -9.544006  ,  -3.522541  ,\n",
       "          1.3076421 ],\n",
       "       [  2.7269378 ,   4.02012   ,  -2.1544874 ,   1.8654947 ,\n",
       "          1.2582066 ],\n",
       "       [ 10.754398  ,   0.7795911 ,  -9.53331   ,  -0.3341658 ,\n",
       "         -0.44027317],\n",
       "       [  6.844033  ,   4.1617756 ,  -5.90447   ,   0.6955593 ,\n",
       "          1.0799253 ]], dtype=float32)"
      ]
     },
     "execution_count": 85,
     "metadata": {},
     "output_type": "execute_result"
    }
   ],
   "source": [
    "sample = np.random.normal(-2, 1, (5, 4))\n",
    "dw_sep.forward(dw_sep.params, sample, dw_sep.state)"
   ]
  },
  {
   "cell_type": "code",
   "execution_count": 86,
   "metadata": {},
   "outputs": [
    {
     "name": "stdout",
     "output_type": "stream",
     "text": [
      "layer                output shape         #'s params           #'s states          \n",
      "dense1               (5, 4)               16                   0                   \n",
      "dense2               (5, 5)               20                   0                   \n",
      "\n"
     ]
    }
   ],
   "source": [
    "print(dw_sep.summary)"
   ]
  },
  {
   "cell_type": "markdown",
   "metadata": {},
   "source": [
    "# depthwise separable conv2d"
   ]
  },
  {
   "cell_type": "code",
   "execution_count": 87,
   "metadata": {},
   "outputs": [],
   "source": [
    "import jax\n",
    "import numpy as np\n",
    "from jaxmao.layers import Layer, Dense, Conv2D, DepthwiseConv2D\n",
    "from jaxmao.initializers import *\n",
    "\n",
    "class DepthwiseSeparableConv2D(Layer):\n",
    "    def __init__(\n",
    "            self,\n",
    "            in_channels,\n",
    "            out_channels,\n",
    "            depth_multiplier=1,\n",
    "            activation='relu',\n",
    "            padding='SAME',\n",
    "            strides=(1, 1),\n",
    "            dilation=(1, 1),\n",
    "            use_bias=True,\n",
    "            weights_initializer=HeNormal(),\n",
    "            bias_initializer=HeNormal(),\n",
    "            dtype=jnp.float32\n",
    "                 ):\n",
    "        super().__init__()\n",
    "        self.layers = {\n",
    "            'depthwise' : DepthwiseConv2D(\n",
    "                                in_channels, depth_multiplier, \n",
    "                                kernel_size=(3, 3), strides=strides, \n",
    "                                activation=activation, padding=padding,\n",
    "                                dilation=dilation, use_bias=use_bias,\n",
    "                                weights_initializer=weights_initializer,\n",
    "                                bias_initializer=bias_initializer,\n",
    "                                dtype=dtype\n",
    "                                          ),\n",
    "            'pointwise' : Conv2D(\n",
    "                            in_channels, out_channels, \n",
    "                            kernel_size=(1, 1), strides=(1, 1),\n",
    "                            activation=activation,\n",
    "                            dilation=dilation, use_bias=use_bias,\n",
    "                            weights_initializer=weights_initializer,\n",
    "                            bias_initializer=bias_initializer,\n",
    "                            dtype=dtype\n",
    "                                 )\n",
    "        }\n",
    "    \n",
    "    def forward(self, params, x, state=None):\n",
    "        x, state = self.apply(params, x, 'depthwise', state)\n",
    "        x, state = self.apply(params, x, 'pointwise', state)\n",
    "        return x, state"
   ]
  },
  {
   "cell_type": "code",
   "execution_count": 88,
   "metadata": {},
   "outputs": [],
   "source": [
    "sample = np.random.normal(0, 1, (5, 12, 12, 5))\n",
    "\n",
    "dwsep = DepthwiseSeparableConv2D(5, 7)\n",
    "dwsep.init_params(key=jax.random.PRNGKey(4))"
   ]
  },
  {
   "cell_type": "code",
   "execution_count": 90,
   "metadata": {},
   "outputs": [
    {
     "data": {
      "text/plain": [
       "(5, 12, 12, 7)"
      ]
     },
     "execution_count": 90,
     "metadata": {},
     "output_type": "execute_result"
    }
   ],
   "source": [
    "x, s = dwsep.forward(dwsep.params, sample, dwsep.state)\n",
    "x.shape"
   ]
  }
 ],
 "metadata": {
  "kernelspec": {
   "display_name": "jaxlab",
   "language": "python",
   "name": "python3"
  },
  "language_info": {
   "codemirror_mode": {
    "name": "ipython",
    "version": 3
   },
   "file_extension": ".py",
   "mimetype": "text/x-python",
   "name": "python",
   "nbconvert_exporter": "python",
   "pygments_lexer": "ipython3",
   "version": "3.11.5"
  }
 },
 "nbformat": 4,
 "nbformat_minor": 2
}
