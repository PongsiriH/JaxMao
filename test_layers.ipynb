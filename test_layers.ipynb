{
 "cells": [
  {
   "cell_type": "code",
   "execution_count": 1,
   "metadata": {},
   "outputs": [],
   "source": [
    "import os\n",
    "os.environ[\"JAX_PLATFORM_NAME\"] = \"cpu\"\n",
    "os.environ['CUDA_VISIBLE_DEVICES'] = '-1'"
   ]
  },
  {
   "cell_type": "code",
   "execution_count": 10,
   "metadata": {},
   "outputs": [
    {
     "name": "stdout",
     "output_type": "stream",
     "text": [
      "jax.devices() : [CpuDevice(id=0)]\n",
      "tf.config.list_physical_devices():  [PhysicalDevice(name='/physical_device:CPU:0', device_type='CPU')]\n"
     ]
    }
   ],
   "source": [
    "import jax\n",
    "import jax.numpy as jnp\n",
    "import numpy as np\n",
    "from jaxmao.layers import Conv2D, SimpleDense, Dense, BatchNorm, ReLU, Flatten, StableSoftmax, BatchNorm2D, DepthwiseConv2D, Activation\n",
    "from jaxmao.modules import Module\n",
    "from jaxmao.optimizers import GradientDescent\n",
    "from jaxmao.losses import CategoricalCrossEntropy\n",
    "from jaxmao.metrics import Accuracy, Precision, Recall\n",
    "\n",
    "print('jax.devices() :', jax.devices())\n",
    "\n",
    "import tensorflow as tf\n",
    "print('tf.config.list_physical_devices(): ', tf.config.list_physical_devices())"
   ]
  },
  {
   "cell_type": "markdown",
   "metadata": {},
   "source": [
    "# Dense"
   ]
  },
  {
   "cell_type": "code",
   "execution_count": 3,
   "metadata": {},
   "outputs": [],
   "source": [
    "# Define the input shape and number of output neurons\n",
    "input_shape = (4,)  # Input shape (number of input features)\n",
    "output_neurons = 3  # Number of output neurons\n",
    "\n",
    "# Initialize custom weights and bias\n",
    "custom_weights = np.array([\n",
    "    [0.1, 0.2, 0.3],\n",
    "    [0.4, 0.5, 0.6],\n",
    "    [0.7, 0.8, 0.9],\n",
    "    [1.0, 1.1, 1.2]\n",
    "])\n",
    "custom_bias = np.array([0.01, 0.02, 0.03])"
   ]
  },
  {
   "cell_type": "code",
   "execution_count": 4,
   "metadata": {},
   "outputs": [],
   "source": [
    "dense = SimpleDense(4, 3, use_bias=False)\n",
    "dense.init_params(key=jax.random.PRNGKey(0))\n",
    "# dense.params = dict()\n",
    "# dense.params['weights'] = custom_weights\n",
    "# dense.params['biases'] = custom_bias\n",
    "\n",
    "bn = BatchNorm(3, momentum=0.5, axis_mean=0)\n",
    "bn.init_params(None)\n",
    "bn.set_inference_mode()\n"
   ]
  },
  {
   "cell_type": "code",
   "execution_count": 5,
   "metadata": {},
   "outputs": [
    {
     "data": {
      "text/plain": [
       "(8, 3)"
      ]
     },
     "execution_count": 5,
     "metadata": {},
     "output_type": "execute_result"
    }
   ],
   "source": [
    "sample_input = np.arange(8*4).reshape(8, 4)  # Shape will be (1, 4)\n",
    "output, _ = dense(dense.params, sample_input)\n",
    "output.shape"
   ]
  },
  {
   "cell_type": "markdown",
   "metadata": {},
   "source": [
    "## Dense, bn"
   ]
  },
  {
   "cell_type": "code",
   "execution_count": 6,
   "metadata": {},
   "outputs": [
    {
     "data": {
      "text/plain": [
       "Array([[0.        , 0.        , 0.70880806],\n",
       "       [0.        , 0.        , 0.        ],\n",
       "       [0.        , 0.        , 0.        ],\n",
       "       [0.        , 0.        , 0.        ],\n",
       "       [0.        , 0.        , 0.        ],\n",
       "       [0.        , 0.        , 0.        ],\n",
       "       [0.        , 0.        , 0.        ],\n",
       "       [0.        , 0.        , 0.        ]], dtype=float32)"
      ]
     },
     "execution_count": 6,
     "metadata": {},
     "output_type": "execute_result"
    }
   ],
   "source": [
    "bn.eps = np.float32(1e-3) # this is what Keras use. I use 1e-5\n",
    "\n",
    "output2, _ = bn(bn.params, output)\n",
    "output2"
   ]
  },
  {
   "cell_type": "code",
   "execution_count": 7,
   "metadata": {},
   "outputs": [
    {
     "data": {
      "text/plain": [
       "({'gamma': Array([1., 1., 1.], dtype=float32),\n",
       "  'beta': Array([0., 0., 0.], dtype=float32)},\n",
       " {'running_mean': Array([0., 0., 0.], dtype=float32),\n",
       "  'running_var': Array([1., 1., 1.], dtype=float32),\n",
       "  'momentum': 0.5,\n",
       "  'training': False})"
      ]
     },
     "execution_count": 7,
     "metadata": {},
     "output_type": "execute_result"
    }
   ],
   "source": [
    "bn.params, bn.state"
   ]
  },
  {
   "cell_type": "code",
   "execution_count": 8,
   "metadata": {},
   "outputs": [
    {
     "data": {
      "text/plain": [
       "Array([[0, 0, 5]], dtype=int32)"
      ]
     },
     "execution_count": 8,
     "metadata": {},
     "output_type": "execute_result"
    }
   ],
   "source": [
    "output3 = ReLU()(np.array([[-5, 0, 5]]))\n",
    "output3"
   ]
  },
  {
   "cell_type": "markdown",
   "metadata": {},
   "source": [
    "# Conv2D"
   ]
  },
  {
   "cell_type": "code",
   "execution_count": 38,
   "metadata": {},
   "outputs": [],
   "source": [
    "sample_input = np.arange(25).reshape(1, 5, 5, 1).astype('float32')"
   ]
  },
  {
   "cell_type": "markdown",
   "metadata": {},
   "source": [
    "#### valid padding"
   ]
  },
  {
   "cell_type": "code",
   "execution_count": 42,
   "metadata": {},
   "outputs": [],
   "source": [
    "custom_kernel = np.array([[[[0.1]], [[0.2]], [[0.3]]],\n",
    "                          [[[0.4]], [[0.5]], [[0.6]]],\n",
    "                          [[[0.7]], [[0.8]], [[0.9]]]])\n",
    "\n",
    "custom_bias = np.array([0.01])\n",
    "\n",
    "conv = Conv2D(1, 1, (3,3), 1, padding='VALID', batch_norm=False)\n",
    "conv.params = dict(weights=custom_kernel, biases=custom_bias)\n",
    "# conv.params"
   ]
  },
  {
   "cell_type": "code",
   "execution_count": 43,
   "metadata": {},
   "outputs": [
    {
     "data": {
      "text/plain": [
       "((1, 3, 3, 1),\n",
       " Array([36.609997, 41.109997, 45.609997, 59.109997, 63.609997, 68.11    ,\n",
       "        81.61001 , 86.10999 , 90.61    ], dtype=float32))"
      ]
     },
     "execution_count": 43,
     "metadata": {},
     "output_type": "execute_result"
    }
   ],
   "source": [
    "conv_output, state = conv(conv.params, sample_input)\n",
    "conv_output.shape, conv_output.ravel()"
   ]
  },
  {
   "cell_type": "markdown",
   "metadata": {},
   "source": [
    "#### same padding"
   ]
  },
  {
   "cell_type": "code",
   "execution_count": 13,
   "metadata": {},
   "outputs": [],
   "source": [
    "custom_kernel = np.array([[[[0.1]], [[0.2]], [[0.3]]],\n",
    "                          [[[0.4]], [[0.5]], [[0.6]]],\n",
    "                          [[[0.7]], [[0.8]], [[0.9]]]])\n",
    "\n",
    "custom_bias = np.array([0.01])\n",
    "\n",
    "conv = Conv2D(1, 1, (3,3), 1, padding='SAME')\n",
    "conv.params = dict(weights=custom_kernel, biases=custom_bias)\n",
    "# conv.params"
   ]
  },
  {
   "cell_type": "code",
   "execution_count": 14,
   "metadata": {},
   "outputs": [
    {
     "data": {
      "text/plain": [
       "((1, 5, 5, 1),\n",
       " Array([10.01    , 16.31    , 20.21    , 24.109999, 16.01    , 24.31    ,\n",
       "        36.609997, 41.109997, 45.609997, 29.11    , 40.81    , 59.109997,\n",
       "        63.609997, 68.11    , 42.609997, 57.31    , 81.61001 , 86.10999 ,\n",
       "        90.61    , 56.110004, 30.410002, 41.51    , 43.609997, 45.71    ,\n",
       "        26.81    ], dtype=float32))"
      ]
     },
     "execution_count": 14,
     "metadata": {},
     "output_type": "execute_result"
    }
   ],
   "source": [
    "conv_output, state = conv(conv.params, sample_input)\n",
    "conv_output.shape, conv_output.ravel()"
   ]
  },
  {
   "cell_type": "markdown",
   "metadata": {},
   "source": [
    "# Conv2D, bn"
   ]
  },
  {
   "cell_type": "code",
   "execution_count": 15,
   "metadata": {},
   "outputs": [],
   "source": [
    "sample_input = np.arange(25).reshape(1, 5, 5, 1).astype('float32')"
   ]
  },
  {
   "cell_type": "markdown",
   "metadata": {},
   "source": [
    "#### valid padding"
   ]
  },
  {
   "cell_type": "code",
   "execution_count": 16,
   "metadata": {},
   "outputs": [],
   "source": [
    "custom_kernel = np.array([[[[0.1]], [[0.2]], [[0.3]]],\n",
    "                          [[[0.4]], [[0.5]], [[0.6]]],\n",
    "                          [[[0.7]], [[0.8]], [[0.9]]]])\n",
    "\n",
    "custom_bias = np.array([0.01])\n",
    "\n",
    "conv = Conv2D(1, 1, (3,3), 1, padding='VALID')\n",
    "conv.params = dict(weights=custom_kernel, biases=custom_bias)\n",
    "# conv.params"
   ]
  },
  {
   "cell_type": "code",
   "execution_count": 17,
   "metadata": {},
   "outputs": [
    {
     "data": {
      "text/plain": [
       "((1, 3, 3, 1),\n",
       " Array([36.609997, 41.109997, 45.609997, 59.109997, 63.609997, 68.11    ,\n",
       "        81.61001 , 86.10999 , 90.61    ], dtype=float32))"
      ]
     },
     "execution_count": 17,
     "metadata": {},
     "output_type": "execute_result"
    }
   ],
   "source": [
    "conv_output, state = conv(conv.params, sample_input)\n",
    "conv_output.shape, conv_output.ravel()"
   ]
  },
  {
   "cell_type": "code",
   "execution_count": 18,
   "metadata": {},
   "outputs": [],
   "source": [
    "convbn = BatchNorm(1, axis_mean=(0, 1, 2))\n",
    "convbn.init_params()\n",
    "convbn.set_inference_mode()\n",
    "\n",
    "convbn.eps = np.float32(1e-3)"
   ]
  },
  {
   "cell_type": "code",
   "execution_count": 19,
   "metadata": {},
   "outputs": [
    {
     "data": {
      "text/plain": [
       "((1, 3, 3, 1),\n",
       " Array([36.591705, 41.08946 , 45.58721 , 59.080467, 63.578217, 68.07597 ,\n",
       "        81.56924 , 86.06697 , 90.564735], dtype=float32))"
      ]
     },
     "execution_count": 19,
     "metadata": {},
     "output_type": "execute_result"
    }
   ],
   "source": [
    "bn_out, state = convbn(convbn.params, conv_output)\n",
    "bn_out.shape, bn_out.ravel()"
   ]
  },
  {
   "cell_type": "markdown",
   "metadata": {},
   "source": [
    "#### same padding"
   ]
  },
  {
   "cell_type": "code",
   "execution_count": 20,
   "metadata": {},
   "outputs": [],
   "source": [
    "custom_kernel = np.array([[[[0.1]], [[0.2]], [[0.3]]],\n",
    "                          [[[0.4]], [[0.5]], [[0.6]]],\n",
    "                          [[[0.7]], [[0.8]], [[0.9]]]])\n",
    "\n",
    "custom_bias = np.array([0.01])\n",
    "\n",
    "conv = Conv2D(1, 1, (3,3), 1, padding='SAME')\n",
    "conv.params = dict(weights=custom_kernel, biases=custom_bias)\n",
    "# conv.params"
   ]
  },
  {
   "cell_type": "code",
   "execution_count": 21,
   "metadata": {},
   "outputs": [
    {
     "data": {
      "text/plain": [
       "((1, 5, 5, 1),\n",
       " Array([10.01    , 16.31    , 20.21    , 24.109999, 16.01    , 24.31    ,\n",
       "        36.609997, 41.109997, 45.609997, 29.11    , 40.81    , 59.109997,\n",
       "        63.609997, 68.11    , 42.609997, 57.31    , 81.61001 , 86.10999 ,\n",
       "        90.61    , 56.110004, 30.410002, 41.51    , 43.609997, 45.71    ,\n",
       "        26.81    ], dtype=float32))"
      ]
     },
     "execution_count": 21,
     "metadata": {},
     "output_type": "execute_result"
    }
   ],
   "source": [
    "conv_output, state = conv(conv.params, sample_input)\n",
    "conv_output.shape, conv_output.ravel()"
   ]
  },
  {
   "cell_type": "code",
   "execution_count": 22,
   "metadata": {},
   "outputs": [],
   "source": [
    "convbn = BatchNorm(1, axis_mean=(0, 1, 2))\n",
    "convbn.init_params()\n",
    "convbn.set_inference_mode()\n",
    "\n",
    "convbn.eps = np.float32(1e-3)"
   ]
  },
  {
   "cell_type": "code",
   "execution_count": 23,
   "metadata": {},
   "outputs": [
    {
     "data": {
      "text/plain": [
       "((1, 5, 5, 1),\n",
       " Array([10.004999, 16.301851, 20.199902, 24.097954, 16.002   , 24.297853,\n",
       "        36.591705, 41.08946 , 45.58721 , 29.095457, 40.78961 , 59.080467,\n",
       "        63.578217, 68.07597 , 42.58871 , 57.28137 , 81.56924 , 86.06697 ,\n",
       "        90.564735, 56.081974, 30.39481 , 41.48926 , 43.58821 , 45.687164,\n",
       "        26.796606], dtype=float32))"
      ]
     },
     "execution_count": 23,
     "metadata": {},
     "output_type": "execute_result"
    }
   ],
   "source": [
    "bn_out, state = convbn(convbn.params, conv_output)\n",
    "bn_out.shape, bn_out.ravel()"
   ]
  },
  {
   "cell_type": "code",
   "execution_count": 24,
   "metadata": {},
   "outputs": [],
   "source": [
    "convbn = BatchNorm(1, axis_mean=(0, 1, 2))\n",
    "convbn.init_params()\n",
    "convbn.set_inference_mode()\n",
    "\n",
    "convbn2d = BatchNorm2D(1)\n",
    "convbn2d.init_params()\n",
    "convbn2d.set_inference_mode()"
   ]
  },
  {
   "cell_type": "code",
   "execution_count": 25,
   "metadata": {},
   "outputs": [
    {
     "data": {
      "text/plain": [
       "Array([ True,  True,  True,  True,  True,  True,  True,  True,  True,\n",
       "        True,  True,  True,  True,  True,  True,  True,  True,  True,\n",
       "        True,  True,  True,  True,  True,  True,  True], dtype=bool)"
      ]
     },
     "execution_count": 25,
     "metadata": {},
     "output_type": "execute_result"
    }
   ],
   "source": [
    "convbn(convbn.params, bn_out)[0].ravel() == convbn2d(convbn2d.params, bn_out)[0].ravel()"
   ]
  },
  {
   "cell_type": "markdown",
   "metadata": {},
   "source": [
    "# Depthwise conv2d"
   ]
  },
  {
   "cell_type": "code",
   "execution_count": 26,
   "metadata": {},
   "outputs": [],
   "source": [
    "sample_input = np.arange(50).reshape(1, 5, 5, 2).astype('float32')\n",
    "\n",
    "custom_depthwise_kernel = jnp.array([[[[0.1, 0.2]], [[0.3, 0.4]], [[0.5, 0.6]]],\n",
    "                                    [[[0.7, 0.8]], [[0.9, 1.0]], [[1.1, 1.2]]],\n",
    "                                    [[[1.3, 1.4]], [[1.5, 1.6]], [[1.7, 1.8]]]]).reshape(3, 3, 1, 2)\n",
    "\n",
    "custom_bias = jnp.array([0.01, 0.02])\n",
    "\n",
    "dwconv = DepthwiseConv2D(2, 1, (3, 3), 1, 'relu', padding='VALID')\n",
    "dwconv.init_params(key=jax.random.PRNGKey(1))\n",
    "dwconv.params = dict()\n",
    "dwconv.params['weights'] = custom_depthwise_kernel\n",
    "dwconv.params['biases'] = custom_bias"
   ]
  },
  {
   "cell_type": "code",
   "execution_count": 27,
   "metadata": {},
   "outputs": [
    {
     "data": {
      "text/plain": [
       "(3, 3, 1, 2)"
      ]
     },
     "execution_count": 27,
     "metadata": {},
     "output_type": "execute_result"
    }
   ],
   "source": [
    "dwconv.params['weights'].shape"
   ]
  },
  {
   "cell_type": "code",
   "execution_count": 28,
   "metadata": {},
   "outputs": [
    {
     "data": {
      "text/plain": [
       "((1, 3, 3, 2),\n",
       " Array([[[[135.61   , 155.42   ],\n",
       "          [151.81   , 173.42   ],\n",
       "          [168.01   , 191.42   ]],\n",
       " \n",
       "         [[216.61   , 245.42   ],\n",
       "          [232.81   , 263.41998],\n",
       "          [249.01   , 281.42   ]],\n",
       " \n",
       "         [[297.61   , 335.41998],\n",
       "          [313.81003, 353.41998],\n",
       "          [330.01   , 371.42   ]]]], dtype=float32))"
      ]
     },
     "execution_count": 28,
     "metadata": {},
     "output_type": "execute_result"
    }
   ],
   "source": [
    "output, s = dwconv(dwconv.params, sample_input)\n",
    "output.shape, output"
   ]
  },
  {
   "cell_type": "markdown",
   "metadata": {},
   "source": [
    "# sublayers"
   ]
  },
  {
   "cell_type": "code",
   "execution_count": 29,
   "metadata": {},
   "outputs": [],
   "source": [
    "import jax\n",
    "import numpy as np\n",
    "from jaxmao.layers import Layer, Dense\n",
    "\n",
    "class TwoDense(Layer):\n",
    "    def __init__(self, in_channels, out_channels):\n",
    "        super().__init__()\n",
    "        self.layers = {\n",
    "            'dense1': Dense(4, 4, activation=None, use_bias=False),\n",
    "            'dense2': Dense(4, 5, activation=None, use_bias=False)\n",
    "        }\n",
    "    \n",
    "    def forward(self, params, x, state=None):\n",
    "        x, state = self.apply(params, x, 'dense1', state)\n",
    "        x, state = self.apply(params, x, 'dense2', state)\n",
    "        return x\n",
    "dw_sep = TwoDense(4, 5)\n",
    "dw_sep.init_params(key=jax.random.PRNGKey(0))\n",
    "dw_sep.set_inference_mode()\n",
    "dw_sep.set_training_mode()"
   ]
  },
  {
   "cell_type": "code",
   "execution_count": 30,
   "metadata": {},
   "outputs": [
    {
     "data": {
      "text/plain": [
       "Array([[-5.005852  ,  2.9989111 ,  6.408935  , -2.4594626 , -0.9159826 ],\n",
       "       [-0.3220476 ,  4.025765  ,  5.8815145 , -0.08278608,  0.47821122],\n",
       "       [-4.0098877 ,  0.2605685 ,  4.0933294 , -2.0196974 , -2.928052  ],\n",
       "       [-4.5613813 ,  3.0746803 ,  6.318892  , -2.298581  , -1.1305283 ],\n",
       "       [-4.8671975 ,  5.292586  ,  6.9901257 , -2.7495313 , -0.35684916]],      dtype=float32)"
      ]
     },
     "execution_count": 30,
     "metadata": {},
     "output_type": "execute_result"
    }
   ],
   "source": [
    "sample = np.random.normal(-2, 1, (5, 4))\n",
    "dw_sep.forward(dw_sep.params, sample, dw_sep.state)"
   ]
  },
  {
   "cell_type": "code",
   "execution_count": 31,
   "metadata": {},
   "outputs": [
    {
     "name": "stdout",
     "output_type": "stream",
     "text": [
      "layer                output shape         #'s params           #'s states          \n",
      "dense1               (5, 4)               20                   0                   \n",
      "dense2               (5, 5)               25                   0                   \n",
      "\n"
     ]
    }
   ],
   "source": [
    "print(dw_sep.summary)"
   ]
  },
  {
   "cell_type": "code",
   "execution_count": 32,
   "metadata": {},
   "outputs": [
    {
     "data": {
      "text/plain": [
       "{}"
      ]
     },
     "execution_count": 32,
     "metadata": {},
     "output_type": "execute_result"
    }
   ],
   "source": [
    "dw_sep.layers['dense1'].shapes"
   ]
  },
  {
   "cell_type": "code",
   "execution_count": 33,
   "metadata": {},
   "outputs": [
    {
     "ename": "KeyError",
     "evalue": "'dense/batch_norm'",
     "output_type": "error",
     "traceback": [
      "\u001b[0;31m---------------------------------------------------------------------------\u001b[0m",
      "\u001b[0;31mKeyError\u001b[0m                                  Traceback (most recent call last)",
      "\u001b[1;32m/home/jaxmao/jaxmao_branches/JaxMao/test_layers.ipynb Cell 43\u001b[0m line \u001b[0;36m1\n\u001b[0;32m----> <a href='vscode-notebook-cell://wsl%2Bubuntu-22.04/home/jaxmao/jaxmao_branches/JaxMao/test_layers.ipynb#X65sdnNjb2RlLXJlbW90ZQ%3D%3D?line=0'>1</a>\u001b[0m dw_sep\u001b[39m.\u001b[39;49mlayers[\u001b[39m'\u001b[39;49m\u001b[39mdense1\u001b[39;49m\u001b[39m'\u001b[39;49m]\u001b[39m.\u001b[39;49mlayers[\u001b[39m'\u001b[39;49m\u001b[39mdense/batch_norm\u001b[39;49m\u001b[39m'\u001b[39;49m]\u001b[39m.\u001b[39mshapes\n",
      "\u001b[0;31mKeyError\u001b[0m: 'dense/batch_norm'"
     ]
    }
   ],
   "source": [
    "dw_sep.layers['dense1'].layers['dense/batch_norm'].shapes"
   ]
  },
  {
   "cell_type": "code",
   "execution_count": null,
   "metadata": {},
   "outputs": [
    {
     "data": {
      "text/plain": [
       "{'weights': (4, 4), 'biases': (4,)}"
      ]
     },
     "execution_count": 33,
     "metadata": {},
     "output_type": "execute_result"
    }
   ],
   "source": [
    "dw_sep.layers['dense1'].layers['dense/simple_dense'].shapes"
   ]
  },
  {
   "cell_type": "code",
   "execution_count": null,
   "metadata": {},
   "outputs": [
    {
     "data": {
      "text/plain": [
       "20"
      ]
     },
     "execution_count": 34,
     "metadata": {},
     "output_type": "execute_result"
    }
   ],
   "source": [
    "dw_sep.layers['dense1'].layers['dense/simple_dense'].num_params"
   ]
  },
  {
   "cell_type": "code",
   "execution_count": null,
   "metadata": {},
   "outputs": [
    {
     "data": {
      "text/plain": [
       "{}"
      ]
     },
     "execution_count": 35,
     "metadata": {},
     "output_type": "execute_result"
    }
   ],
   "source": [
    "dw_sep.layers['dense1'].shapes"
   ]
  },
  {
   "cell_type": "markdown",
   "metadata": {},
   "source": [
    "# depthwise separable conv2d"
   ]
  },
  {
   "cell_type": "code",
   "execution_count": null,
   "metadata": {},
   "outputs": [],
   "source": [
    "import jax\n",
    "import numpy as np\n",
    "from jaxmao.layers import Layer, Dense, Conv2D, DepthwiseConv2D\n",
    "from jaxmao.initializers import *\n",
    "\n",
    "class DepthwiseSeparableConv2D(Layer):\n",
    "    def __init__(\n",
    "            self,\n",
    "            in_channels,\n",
    "            out_channels,\n",
    "            depth_multiplier=1,\n",
    "            activation='relu',\n",
    "            padding='SAME',\n",
    "            strides=(1, 1),\n",
    "            dilation=(1, 1),\n",
    "            use_bias=True,\n",
    "            weights_initializer=HeNormal(),\n",
    "            bias_initializer=HeNormal(),\n",
    "            dtype=jnp.float32\n",
    "                 ):\n",
    "        super().__init__()\n",
    "        self.layers = {\n",
    "            'depthwise' : DepthwiseConv2D(\n",
    "                                in_channels, depth_multiplier, \n",
    "                                kernel_size=(3, 3), strides=strides, \n",
    "                                activation=activation, padding=padding,\n",
    "                                dilation=dilation, use_bias=use_bias,\n",
    "                                weights_initializer=weights_initializer,\n",
    "                                bias_initializer=bias_initializer,\n",
    "                                dtype=dtype\n",
    "                                          ),\n",
    "            'pointwise' : Conv2D(\n",
    "                            in_channels, out_channels, \n",
    "                            kernel_size=(1, 1), strides=(1, 1),\n",
    "                            activation=activation,\n",
    "                            dilation=dilation, use_bias=use_bias,\n",
    "                            weights_initializer=weights_initializer,\n",
    "                            bias_initializer=bias_initializer,\n",
    "                            dtype=dtype\n",
    "                                 )\n",
    "        }\n",
    "    \n",
    "    def forward(self, params, x, state=None):\n",
    "        x, state = self.apply(params, x, 'depthwise', state)\n",
    "        x, state = self.apply(params, x, 'pointwise', state)\n",
    "        return x, state"
   ]
  },
  {
   "cell_type": "code",
   "execution_count": null,
   "metadata": {},
   "outputs": [],
   "source": [
    "sample = np.random.normal(0, 1, (5, 12, 12, 5))\n",
    "\n",
    "dwsep = DepthwiseSeparableConv2D(5, 7)\n",
    "dwsep.init_params(key=jax.random.PRNGKey(4))"
   ]
  },
  {
   "cell_type": "code",
   "execution_count": null,
   "metadata": {},
   "outputs": [
    {
     "data": {
      "text/plain": [
       "(5, 12, 12, 7)"
      ]
     },
     "execution_count": 38,
     "metadata": {},
     "output_type": "execute_result"
    }
   ],
   "source": [
    "x, s = dwsep.forward(dwsep.params, sample, dwsep.state)\n",
    "x.shape"
   ]
  },
  {
   "cell_type": "markdown",
   "metadata": {},
   "source": [
    "# dropout"
   ]
  },
  {
   "cell_type": "code",
   "execution_count": null,
   "metadata": {},
   "outputs": [],
   "source": [
    "from jaxmao.layers import Dropout\n",
    "\n",
    "dropout = Dropout(jax.random.PRNGKey(0), 0.5)\n",
    "dropout.forward = jax.vmap(dropout.forward, in_axes=(None, 0, None))\n",
    "\n",
    "dropout.set_inference_mode()\n",
    "dropout.set_training_mode()"
   ]
  },
  {
   "cell_type": "code",
   "execution_count": null,
   "metadata": {},
   "outputs": [],
   "source": [
    "sample_input = np.array([[0.1, 0.2, 0.3, 0.4, 0.5]])\n",
    "out, s = dropout(dropout.params, sample_input)"
   ]
  },
  {
   "cell_type": "code",
   "execution_count": null,
   "metadata": {},
   "outputs": [
    {
     "data": {
      "text/plain": [
       "array([[0.1, 0.2, 0.3, 0.4, 0.5]])"
      ]
     },
     "execution_count": 41,
     "metadata": {},
     "output_type": "execute_result"
    }
   ],
   "source": [
    "sample_input"
   ]
  },
  {
   "cell_type": "code",
   "execution_count": null,
   "metadata": {},
   "outputs": [
    {
     "data": {
      "text/plain": [
       "Array([[0.2, 0.4, 0. , 0. , 1. ]], dtype=float32)"
      ]
     },
     "execution_count": 42,
     "metadata": {},
     "output_type": "execute_result"
    }
   ],
   "source": [
    "out"
   ]
  },
  {
   "cell_type": "markdown",
   "metadata": {},
   "source": [
    "# pooling"
   ]
  },
  {
   "cell_type": "code",
   "execution_count": null,
   "metadata": {},
   "outputs": [
    {
     "ename": "NameError",
     "evalue": "name 'reduce_max' is not defined",
     "output_type": "error",
     "traceback": [
      "\u001b[0;31m---------------------------------------------------------------------------\u001b[0m",
      "\u001b[0;31mNameError\u001b[0m                                 Traceback (most recent call last)",
      "\u001b[1;32m/home/jaxmao/jaxmao_branches/JaxMao/test_layers.ipynb Cell 56\u001b[0m line \u001b[0;36m1\n\u001b[1;32m     <a href='vscode-notebook-cell://wsl%2Bubuntu-22.04/home/jaxmao/jaxmao_branches/JaxMao/test_layers.ipynb#Y110sdnNjb2RlLXJlbW90ZQ%3D%3D?line=12'>13</a>\u001b[0m \u001b[39mfrom\u001b[39;00m \u001b[39mjaxmao\u001b[39;00m\u001b[39m.\u001b[39;00m\u001b[39mlayers\u001b[39;00m \u001b[39mimport\u001b[39;00m MaxPooling2D\n\u001b[1;32m     <a href='vscode-notebook-cell://wsl%2Bubuntu-22.04/home/jaxmao/jaxmao_branches/JaxMao/test_layers.ipynb#Y110sdnNjb2RlLXJlbW90ZQ%3D%3D?line=13'>14</a>\u001b[0m max_pool \u001b[39m=\u001b[39m MaxPooling2D()\n\u001b[0;32m---> <a href='vscode-notebook-cell://wsl%2Bubuntu-22.04/home/jaxmao/jaxmao_branches/JaxMao/test_layers.ipynb#Y110sdnNjb2RlLXJlbW90ZQ%3D%3D?line=14'>15</a>\u001b[0m max_pool\u001b[39m.\u001b[39mreducing_fn \u001b[39m=\u001b[39m reduce_max\n\u001b[1;32m     <a href='vscode-notebook-cell://wsl%2Bubuntu-22.04/home/jaxmao/jaxmao_branches/JaxMao/test_layers.ipynb#Y110sdnNjb2RlLXJlbW90ZQ%3D%3D?line=15'>16</a>\u001b[0m out, s \u001b[39m=\u001b[39m max_pool(max_pool\u001b[39m.\u001b[39mparams, sample_input)\n\u001b[1;32m     <a href='vscode-notebook-cell://wsl%2Bubuntu-22.04/home/jaxmao/jaxmao_branches/JaxMao/test_layers.ipynb#Y110sdnNjb2RlLXJlbW90ZQ%3D%3D?line=16'>17</a>\u001b[0m out\n",
      "\u001b[0;31mNameError\u001b[0m: name 'reduce_max' is not defined"
     ]
    }
   ],
   "source": [
    "from jax import vmap\n",
    "import numpy as np\n",
    "\n",
    "sample_input = np.array([[[\n",
    "    [1], [2], [3], [4],\n",
    "    [5], [6], [7], [8],\n",
    "    [9], [10], [11], [12],\n",
    "    [13], [14], [15], [16]\n",
    "]]]).reshape(1, 4, 4, 1).astype('float32')\n",
    "\n",
    "sample_input = np.arange(5*4*4*1).astype('float32').reshape(5, 4, 4, 1)\n",
    "\n",
    "from jaxmao.layers import MaxPooling2D\n",
    "max_pool = MaxPooling2D()\n",
    "max_pool.reducing_fn = reduce_max\n",
    "out, s = max_pool(max_pool.params, sample_input)\n",
    "out"
   ]
  },
  {
   "cell_type": "code",
   "execution_count": null,
   "metadata": {},
   "outputs": [
    {
     "data": {
      "text/plain": [
       "((1, 2, 2, 1),\n",
       " Array([[[[ 3.5],\n",
       "          [ 5.5]],\n",
       " \n",
       "         [[11.5],\n",
       "          [13.5]]]], dtype=float32))"
      ]
     },
     "execution_count": 47,
     "metadata": {},
     "output_type": "execute_result"
    }
   ],
   "source": [
    "import numpy as np\n",
    "sample_input = np.array([[[\n",
    "    [1], [2], [3], [4],\n",
    "    [5], [6], [7], [8],\n",
    "    [9], [10], [11], [12],\n",
    "    [13], [14], [15], [16]\n",
    "]]]).reshape(1, 4, 4, 1).astype('float32')\n",
    "\n",
    "# sample_input = np.arange(5*4*4*1).astype('float32').reshape(5, 4, 4, 1)\n",
    "\n",
    "from jax import vmap, lax\n",
    "from jaxmao.layers import AveragePooling2D, MaxPooling2D\n",
    "import jax.numpy as jnp\n",
    "\n",
    "def rmean(a, b):\n",
    "    return lax.add(a, b)\n",
    "\n",
    "avg_pool = AveragePooling2D()\n",
    "# avg_pool.reducing_fn = lax.add\n",
    "# avg_pool.forward = vmap(avg_pool._pool_forward, in_axes=(None, 0, None))\n",
    "out, s = avg_pool(avg_pool.params, sample_input)\n",
    "out.shape, out"
   ]
  },
  {
   "cell_type": "markdown",
   "metadata": {},
   "source": [
    "# average pooling"
   ]
  },
  {
   "cell_type": "code",
   "execution_count": null,
   "metadata": {},
   "outputs": [
    {
     "data": {
      "text/plain": [
       "((1, 3), Array([[23.5, 24.5, 25.5]], dtype=float32))"
      ]
     },
     "execution_count": 46,
     "metadata": {},
     "output_type": "execute_result"
    }
   ],
   "source": [
    "from jax import vmap\n",
    "import numpy as np\n",
    "sample_input = np.array([[\n",
    "    [[1, 2, 3], [4, 5, 6], [7, 8, 9], [10, 11, 12]],\n",
    "    [[13, 14, 15], [16, 17, 18], [19, 20, 21], [22, 23, 24]],\n",
    "    [[25, 26, 27], [28, 29, 30], [31, 32, 33], [34, 35, 36]],\n",
    "    [[37, 38, 39], [40, 41, 42], [43, 44, 45], [46, 47, 48]]\n",
    "]])\n",
    "\n",
    "from jaxmao.layers import GlobalAveragePooling2D\n",
    "gap = GlobalAveragePooling2D()\n",
    "out, s = gap(gap.params, sample_input)\n",
    "out.shape, out"
   ]
  },
  {
   "cell_type": "code",
   "execution_count": null,
   "metadata": {},
   "outputs": [
    {
     "data": {
      "text/plain": [
       "((1, 3), Array([[46, 47, 48]], dtype=int32))"
      ]
     },
     "execution_count": 47,
     "metadata": {},
     "output_type": "execute_result"
    }
   ],
   "source": [
    "from jax import vmap\n",
    "import numpy as np\n",
    "sample_input = np.array([[\n",
    "    [[1, 2, 3], [4, 5, 6], [7, 8, 9], [10, 11, 12]],\n",
    "    [[13, 14, 15], [16, 17, 18], [19, 20, 21], [22, 23, 24]],\n",
    "    [[25, 26, 27], [28, 29, 30], [31, 32, 33], [34, 35, 36]],\n",
    "    [[37, 38, 39], [40, 41, 42], [43, 44, 45], [46, 47, 48]]\n",
    "]])\n",
    "\n",
    "from jaxmao.layers import GlobalMaxPooling2D\n",
    "gmp = GlobalMaxPooling2D()\n",
    "# gmp.forward = vmap(gmp.forward, in_axes=(None, 0, None))\n",
    "out, s = gmp(gmp.params, sample_input)\n",
    "out.shape, out"
   ]
  }
 ],
 "metadata": {
  "kernelspec": {
   "display_name": "jaxlab",
   "language": "python",
   "name": "python3"
  },
  "language_info": {
   "codemirror_mode": {
    "name": "ipython",
    "version": 3
   },
   "file_extension": ".py",
   "mimetype": "text/x-python",
   "name": "python",
   "nbconvert_exporter": "python",
   "pygments_lexer": "ipython3",
   "version": "3.11.5"
  }
 },
 "nbformat": 4,
 "nbformat_minor": 2
}
