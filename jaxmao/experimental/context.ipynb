{
 "cells": [
  {
   "cell_type": "code",
   "execution_count": 29,
   "metadata": {},
   "outputs": [],
   "source": [
    "import logging\n",
    "import absl.logging\n",
    "absl.logging.get_absl_logger().removeHandler(absl.logging._absl_handler)\n",
    "absl.logging.get_absl_logger().addHandler(logging.NullHandler())\n",
    "absl.logging.set_verbosity('info')  # Set your desired verbosity level\n",
    "\n",
    "import os\n",
    "os.environ['JAX_LOG_COMPILES'] = '1'"
   ]
  },
  {
   "cell_type": "code",
   "execution_count": 30,
   "metadata": {},
   "outputs": [],
   "source": [
    "import numpy as np"
   ]
  },
  {
   "cell_type": "code",
   "execution_count": 31,
   "metadata": {},
   "outputs": [],
   "source": [
    "class Context:\n",
    "    def __init__(self, model, params):\n",
    "        self.model = model\n",
    "        self.params = params\n",
    "        self.old_params = None\n",
    "        \n",
    "    def __enter__(self):\n",
    "        self.old_params = self.model.params\n",
    "        self.model.params = self.params\n",
    "    \n",
    "    def __exit__(self, type, value, traceback):\n",
    "        self.model.params = self.old_params"
   ]
  },
  {
   "cell_type": "code",
   "execution_count": 32,
   "metadata": {},
   "outputs": [],
   "source": [
    "class ElementMult:\n",
    "    def __init__(self):\n",
    "        self.params = dict()\n",
    "    \n",
    "    def _context(self, params):\n",
    "        return Context(self, params)\n",
    "    \n",
    "    def __call__(self, x):\n",
    "        return x * self.params['weights']\n",
    "\n",
    "    def apply(self, params, x):\n",
    "        with self._context(params):\n",
    "            return self.__call__(x)"
   ]
  },
  {
   "cell_type": "code",
   "execution_count": 33,
   "metadata": {},
   "outputs": [
    {
     "data": {
      "text/plain": [
       "(2, 3)"
      ]
     },
     "execution_count": 33,
     "metadata": {},
     "output_type": "execute_result"
    }
   ],
   "source": [
    "model = ElementMult()\n",
    "model.params['weights'] = np.array([[5, 6, 7], [0, 5, 0]])\n",
    "model.params['weights'].shape"
   ]
  },
  {
   "cell_type": "code",
   "execution_count": 34,
   "metadata": {},
   "outputs": [
    {
     "data": {
      "text/plain": [
       "array([[ 5,  6, 14],\n",
       "       [ 0,  5,  0]])"
      ]
     },
     "execution_count": 34,
     "metadata": {},
     "output_type": "execute_result"
    }
   ],
   "source": [
    "sample_input = np.array([1, 1, 2])\n",
    "model(sample_input)"
   ]
  },
  {
   "cell_type": "code",
   "execution_count": 35,
   "metadata": {},
   "outputs": [
    {
     "data": {
      "text/plain": [
       "array([[1, 1, 2],\n",
       "       [0, 5, 0]])"
      ]
     },
     "execution_count": 35,
     "metadata": {},
     "output_type": "execute_result"
    }
   ],
   "source": [
    "new_params = np.array([[1, 1, 1], [0, 5, 0]])\n",
    "new_params_dict = {'weights': new_params}\n",
    "\n",
    "model.apply(new_params_dict, sample_input)"
   ]
  },
  {
   "cell_type": "markdown",
   "metadata": {},
   "source": [
    "# Dense"
   ]
  },
  {
   "cell_type": "code",
   "execution_count": 36,
   "metadata": {},
   "outputs": [],
   "source": [
    "import sys\n",
    "sys.path.append('/home/jaxmao/jaxmao_branches/JaxMao/')\n",
    "sys.path.append('/home/jaxmao/jaxmao_branches/JaxMao/jaxmao')\n",
    "\n",
    "import jax\n",
    "import jax.numpy as jnp\n",
    "import jaxmao\n",
    "from jaxmao.initializers import *\n",
    "from jaxmao.layers import Layer, Activation"
   ]
  },
  {
   "cell_type": "code",
   "execution_count": 37,
   "metadata": {},
   "outputs": [],
   "source": [
    "class SimpleDense:    \n",
    "    def __init__(\n",
    "        self, key,\n",
    "        in_channels, \n",
    "        out_channels,\n",
    "        activation='relu',\n",
    "        weights_initializer=HeNormal(),\n",
    "        bias_initializer=zeros_initializer,\n",
    "        use_bias=True,\n",
    "    ):\n",
    "        self.shapes = dict()\n",
    "        self.initializers = dict()\n",
    "        self.params = dict()\n",
    "        \n",
    "        \n",
    "        self.in_channels = in_channels\n",
    "        self.out_channels = out_channels\n",
    "        self.use_bias = use_bias\n",
    "        self.activation = Activation(activation)\n",
    "\n",
    "        self.shapes.update({'weights' : (in_channels, out_channels)})\n",
    "        self.initializers.update({'weights' : weights_initializer,})\n",
    "        if use_bias:\n",
    "            self.shapes.update({'biases'  : (out_channels, )})\n",
    "            self.initializers.update({'biases': bias_initializer})\n",
    "            self.params['biases'] = self.initializers['biases'](key, self.shapes['biases'])\n",
    "\n",
    "        self.params['weights'] = self.initializers['weights'](key, self.shapes['weights'])\n",
    "    \n",
    "    def __call__(self, x):\n",
    "        return jnp.dot(x, self.params['weights'])"
   ]
  },
  {
   "cell_type": "code",
   "execution_count": 38,
   "metadata": {},
   "outputs": [
    {
     "name": "stdout",
     "output_type": "stream",
     "text": [
      "params:\n",
      " {'weights': Array([[-0.09176069,  1.1012427 , -0.8198022 ,  0.98706996],\n",
      "       [-0.5258742 , -0.90167457, -0.2776343 , -0.1228469 ],\n",
      "       [ 0.3729634 , -0.19016472, -0.36814284,  0.10331149],\n",
      "       [ 0.1593394 ,  0.18784064, -0.3971092 , -0.01390252],\n",
      "       [ 0.36769372, -0.01763257,  1.3538171 , -0.07520011]],      dtype=float32)}\n",
      "output:\n",
      " [[ 0.2823616   0.17961144 -0.5088715   0.8784319 ]\n",
      " [ 0.2823616   0.17961144 -0.5088715   0.8784319 ]\n",
      " [ 0.2823616   0.17961144 -0.5088715   0.8784319 ]\n",
      " [ 0.2823616   0.17961144 -0.5088715   0.8784319 ]\n",
      " [ 0.2823616   0.17961144 -0.5088715   0.8784319 ]\n",
      " [ 0.2823616   0.17961144 -0.5088715   0.8784319 ]\n",
      " [ 0.2823616   0.17961144 -0.5088715   0.8784319 ]\n",
      " [ 0.2823616   0.17961144 -0.5088715   0.8784319 ]\n",
      " [ 0.2823616   0.17961144 -0.5088715   0.8784319 ]\n",
      " [ 0.2823616   0.17961144 -0.5088715   0.8784319 ]\n",
      " [ 0.2823616   0.17961144 -0.5088715   0.8784319 ]\n",
      " [ 0.2823616   0.17961144 -0.5088715   0.8784319 ]\n",
      " [ 0.2823616   0.17961144 -0.5088715   0.8784319 ]\n",
      " [ 0.2823616   0.17961144 -0.5088715   0.8784319 ]\n",
      " [ 0.2823616   0.17961144 -0.5088715   0.8784319 ]\n",
      " [ 0.2823616   0.17961144 -0.5088715   0.8784319 ]]\n"
     ]
    }
   ],
   "source": [
    "key = jax.random.key(42)\n",
    "\n",
    "simple_dense = SimpleDense(key, 5, 4, use_bias=False)\n",
    "print('params:\\n', simple_dense.params)\n",
    "\n",
    "sample_input = np.ones((16, 5))\n",
    "simple_dense.__call__ = jax.jit(simple_dense.__call__)\n",
    "print('output:\\n', simple_dense(sample_input))"
   ]
  },
  {
   "cell_type": "code",
   "execution_count": 39,
   "metadata": {},
   "outputs": [
    {
     "data": {
      "text/plain": [
       "<PjitFunction of <bound method SimpleDense.__call__ of <__main__.SimpleDense object at 0x7f1433f9e590>>>"
      ]
     },
     "execution_count": 39,
     "metadata": {},
     "output_type": "execute_result"
    }
   ],
   "source": [
    "simple_dense.__call__"
   ]
  },
  {
   "cell_type": "code",
   "execution_count": 40,
   "metadata": {},
   "outputs": [
    {
     "name": "stdout",
     "output_type": "stream",
     "text": [
      "<PjitFunction of <bound method SimpleDense.__call__ of <__main__.SimpleDense object at 0x7f1433f9e590>>>\n"
     ]
    }
   ],
   "source": [
    "simple_dense.params = {'weights': jax.random.normal(jax.random.key(0), (5, 4))}\n",
    "\n",
    "print(simple_dense.__call__)"
   ]
  },
  {
   "cell_type": "code",
   "execution_count": 41,
   "metadata": {},
   "outputs": [
    {
     "data": {
      "text/plain": [
       "Array([[ 3.2032537 , -0.81059504,  0.75257564,  1.5382664 ],\n",
       "       [ 3.2032537 , -0.81059504,  0.75257564,  1.5382664 ],\n",
       "       [ 3.2032537 , -0.81059504,  0.75257564,  1.5382664 ],\n",
       "       [ 3.2032537 , -0.81059504,  0.75257564,  1.5382664 ],\n",
       "       [ 3.2032537 , -0.81059504,  0.75257564,  1.5382664 ],\n",
       "       [ 3.2032537 , -0.81059504,  0.75257564,  1.5382664 ],\n",
       "       [ 3.2032537 , -0.81059504,  0.75257564,  1.5382664 ],\n",
       "       [ 3.2032537 , -0.81059504,  0.75257564,  1.5382664 ],\n",
       "       [ 3.2032537 , -0.81059504,  0.75257564,  1.5382664 ],\n",
       "       [ 3.2032537 , -0.81059504,  0.75257564,  1.5382664 ],\n",
       "       [ 3.2032537 , -0.81059504,  0.75257564,  1.5382664 ],\n",
       "       [ 3.2032537 , -0.81059504,  0.75257564,  1.5382664 ],\n",
       "       [ 3.2032537 , -0.81059504,  0.75257564,  1.5382664 ],\n",
       "       [ 3.2032537 , -0.81059504,  0.75257564,  1.5382664 ],\n",
       "       [ 3.2032537 , -0.81059504,  0.75257564,  1.5382664 ],\n",
       "       [ 3.2032537 , -0.81059504,  0.75257564,  1.5382664 ]],      dtype=float32)"
      ]
     },
     "execution_count": 41,
     "metadata": {},
     "output_type": "execute_result"
    }
   ],
   "source": [
    "simple_dense(sample_input)"
   ]
  },
  {
   "cell_type": "code",
   "execution_count": 42,
   "metadata": {},
   "outputs": [
    {
     "data": {
      "text/plain": [
       "<PjitFunction of <bound method SimpleDense.__call__ of <__main__.SimpleDense object at 0x7f1433f9e590>>>"
      ]
     },
     "execution_count": 42,
     "metadata": {},
     "output_type": "execute_result"
    }
   ],
   "source": [
    "simple_dense.__call__"
   ]
  },
  {
   "cell_type": "markdown",
   "metadata": {},
   "source": [
    "### limitation of jit"
   ]
  },
  {
   "cell_type": "markdown",
   "metadata": {},
   "source": [
    "different shapes"
   ]
  },
  {
   "cell_type": "code",
   "execution_count": 43,
   "metadata": {},
   "outputs": [
    {
     "data": {
      "text/plain": [
       "Array([[ 3.203254  , -0.810595  ,  0.75257564,  1.5382662 ],\n",
       "       [ 3.203254  , -0.810595  ,  0.75257564,  1.5382662 ],\n",
       "       [ 3.203254  , -0.810595  ,  0.75257564,  1.5382662 ],\n",
       "       [ 3.203254  , -0.810595  ,  0.75257564,  1.5382662 ],\n",
       "       [ 3.203254  , -0.810595  ,  0.75257564,  1.5382662 ],\n",
       "       [ 3.203254  , -0.810595  ,  0.75257564,  1.5382662 ],\n",
       "       [ 3.203254  , -0.810595  ,  0.75257564,  1.5382662 ],\n",
       "       [ 3.203254  , -0.810595  ,  0.75257564,  1.5382662 ],\n",
       "       [ 3.203254  , -0.810595  ,  0.75257564,  1.5382662 ],\n",
       "       [ 3.203254  , -0.810595  ,  0.75257564,  1.5382662 ],\n",
       "       [ 3.203254  , -0.810595  ,  0.75257564,  1.5382662 ],\n",
       "       [ 3.203254  , -0.810595  ,  0.75257564,  1.5382662 ],\n",
       "       [ 3.203254  , -0.810595  ,  0.75257564,  1.5382662 ],\n",
       "       [ 3.203254  , -0.810595  ,  0.75257564,  1.5382662 ],\n",
       "       [ 3.203254  , -0.810595  ,  0.75257564,  1.5382662 ],\n",
       "       [ 3.203254  , -0.810595  ,  0.75257564,  1.5382662 ],\n",
       "       [ 3.203254  , -0.810595  ,  0.75257564,  1.5382662 ],\n",
       "       [ 3.203254  , -0.810595  ,  0.75257564,  1.5382662 ],\n",
       "       [ 3.203254  , -0.810595  ,  0.75257564,  1.5382662 ],\n",
       "       [ 3.203254  , -0.810595  ,  0.75257564,  1.5382662 ],\n",
       "       [ 3.203254  , -0.810595  ,  0.75257564,  1.5382662 ],\n",
       "       [ 3.203254  , -0.810595  ,  0.75257564,  1.5382662 ],\n",
       "       [ 3.203254  , -0.810595  ,  0.75257564,  1.5382662 ],\n",
       "       [ 3.203254  , -0.810595  ,  0.75257564,  1.5382662 ],\n",
       "       [ 3.203254  , -0.810595  ,  0.75257564,  1.5382662 ],\n",
       "       [ 3.203254  , -0.810595  ,  0.75257564,  1.5382662 ],\n",
       "       [ 3.203254  , -0.810595  ,  0.75257564,  1.5382662 ],\n",
       "       [ 3.203254  , -0.810595  ,  0.75257564,  1.5382662 ],\n",
       "       [ 3.203254  , -0.810595  ,  0.75257564,  1.5382662 ],\n",
       "       [ 3.203254  , -0.810595  ,  0.75257564,  1.5382662 ],\n",
       "       [ 3.203254  , -0.810595  ,  0.75257564,  1.5382662 ],\n",
       "       [ 3.203254  , -0.810595  ,  0.75257564,  1.5382662 ]],      dtype=float32)"
      ]
     },
     "execution_count": 43,
     "metadata": {},
     "output_type": "execute_result"
    }
   ],
   "source": [
    "sample_input2 = np.ones((32, 5))\n",
    "simple_dense(sample_input2)"
   ]
  },
  {
   "cell_type": "markdown",
   "metadata": {},
   "source": [
    "# context manager"
   ]
  },
  {
   "cell_type": "code",
   "execution_count": 44,
   "metadata": {},
   "outputs": [],
   "source": [
    "class Context:\n",
    "    def __init__(self, model, params):\n",
    "        self.model = model\n",
    "        self.params = params\n",
    "        self.old_params = None\n",
    "        \n",
    "    def __enter__(self):\n",
    "        self.old_params = self.model.params\n",
    "        self.model.params = self.params\n",
    "    \n",
    "    def __exit__(self, type, value, traceback):\n",
    "        self.model.params = self.old_params\n",
    "\n",
    "class Module:\n",
    "    def __init__(self):\n",
    "        pass\n",
    "    \n",
    "    def _context(self, params):\n",
    "        return Context(self, params)\n",
    "    \n",
    "    def apply(self, params, x):\n",
    "        with self._context(params):\n",
    "            return self.__call__(x)\n",
    "\n",
    "class ContextDense(Module):    \n",
    "    \"\"\"Dense with Context Mangaer\"\"\"\n",
    "    def __init__(\n",
    "        self, key,\n",
    "        in_channels, \n",
    "        out_channels,\n",
    "        activation='relu',\n",
    "        weights_initializer=HeNormal(),\n",
    "        bias_initializer=zeros_initializer,\n",
    "        use_bias=True,\n",
    "    ):\n",
    "        self.shapes = dict()\n",
    "        self.initializers = dict()\n",
    "        self.params = dict()\n",
    "        \n",
    "        self.in_channels = in_channels\n",
    "        self.out_channels = out_channels\n",
    "        self.use_bias = use_bias\n",
    "        self.activation = Activation(activation)\n",
    "\n",
    "        self.shapes.update({'weights' : (in_channels, out_channels)})\n",
    "        self.initializers.update({'weights' : weights_initializer,})\n",
    "        if use_bias:\n",
    "            self.shapes.update({'biases'  : (out_channels, )})\n",
    "            self.initializers.update({'biases': bias_initializer})\n",
    "            self.params['biases'] = self.initializers['biases'](key, self.shapes['biases'])\n",
    "\n",
    "        self.params['weights'] = self.initializers['weights'](key, self.shapes['weights'])\n",
    "    \n",
    "    def __call__(self, x):\n",
    "        return jnp.dot(x, self.params['weights'])"
   ]
  },
  {
   "cell_type": "code",
   "execution_count": 45,
   "metadata": {},
   "outputs": [
    {
     "name": "stdout",
     "output_type": "stream",
     "text": [
      "params:\n",
      " {'weights': Array([[-0.09176069,  1.1012427 , -0.8198022 ,  0.98706996],\n",
      "       [-0.5258742 , -0.90167457, -0.2776343 , -0.1228469 ],\n",
      "       [ 0.3729634 , -0.19016472, -0.36814284,  0.10331149],\n",
      "       [ 0.1593394 ,  0.18784064, -0.3971092 , -0.01390252],\n",
      "       [ 0.36769372, -0.01763257,  1.3538171 , -0.07520011]],      dtype=float32)}\n"
     ]
    },
    {
     "data": {
      "text/plain": [
       "Array([[ 0.2823616 ,  0.17961144, -0.5088715 ,  0.8784319 ],\n",
       "       [ 0.2823616 ,  0.17961144, -0.5088715 ,  0.8784319 ],\n",
       "       [ 0.2823616 ,  0.17961144, -0.5088715 ,  0.8784319 ],\n",
       "       [ 0.2823616 ,  0.17961144, -0.5088715 ,  0.8784319 ],\n",
       "       [ 0.2823616 ,  0.17961144, -0.5088715 ,  0.8784319 ],\n",
       "       [ 0.2823616 ,  0.17961144, -0.5088715 ,  0.8784319 ],\n",
       "       [ 0.2823616 ,  0.17961144, -0.5088715 ,  0.8784319 ],\n",
       "       [ 0.2823616 ,  0.17961144, -0.5088715 ,  0.8784319 ],\n",
       "       [ 0.2823616 ,  0.17961144, -0.5088715 ,  0.8784319 ],\n",
       "       [ 0.2823616 ,  0.17961144, -0.5088715 ,  0.8784319 ],\n",
       "       [ 0.2823616 ,  0.17961144, -0.5088715 ,  0.8784319 ],\n",
       "       [ 0.2823616 ,  0.17961144, -0.5088715 ,  0.8784319 ],\n",
       "       [ 0.2823616 ,  0.17961144, -0.5088715 ,  0.8784319 ],\n",
       "       [ 0.2823616 ,  0.17961144, -0.5088715 ,  0.8784319 ],\n",
       "       [ 0.2823616 ,  0.17961144, -0.5088715 ,  0.8784319 ],\n",
       "       [ 0.2823616 ,  0.17961144, -0.5088715 ,  0.8784319 ]],      dtype=float32)"
      ]
     },
     "execution_count": 45,
     "metadata": {},
     "output_type": "execute_result"
    }
   ],
   "source": [
    "dense = ContextDense(jax.random.key(42), 5, 4, use_bias=False)\n",
    "print('params:\\n', dense.params)\n",
    "\n",
    "dense(sample_input)"
   ]
  },
  {
   "cell_type": "code",
   "execution_count": 46,
   "metadata": {},
   "outputs": [
    {
     "data": {
      "text/plain": [
       "Array([[-1.8329227, -0.6777953, -1.0361731, -1.9786481],\n",
       "       [-1.8329227, -0.6777953, -1.0361731, -1.9786481],\n",
       "       [-1.8329227, -0.6777953, -1.0361731, -1.9786481],\n",
       "       [-1.8329227, -0.6777953, -1.0361731, -1.9786481],\n",
       "       [-1.8329227, -0.6777953, -1.0361731, -1.9786481],\n",
       "       [-1.8329227, -0.6777953, -1.0361731, -1.9786481],\n",
       "       [-1.8329227, -0.6777953, -1.0361731, -1.9786481],\n",
       "       [-1.8329227, -0.6777953, -1.0361731, -1.9786481],\n",
       "       [-1.8329227, -0.6777953, -1.0361731, -1.9786481],\n",
       "       [-1.8329227, -0.6777953, -1.0361731, -1.9786481],\n",
       "       [-1.8329227, -0.6777953, -1.0361731, -1.9786481],\n",
       "       [-1.8329227, -0.6777953, -1.0361731, -1.9786481],\n",
       "       [-1.8329227, -0.6777953, -1.0361731, -1.9786481],\n",
       "       [-1.8329227, -0.6777953, -1.0361731, -1.9786481],\n",
       "       [-1.8329227, -0.6777953, -1.0361731, -1.9786481],\n",
       "       [-1.8329227, -0.6777953, -1.0361731, -1.9786481]], dtype=float32)"
      ]
     },
     "execution_count": 46,
     "metadata": {},
     "output_type": "execute_result"
    }
   ],
   "source": [
    "new_params_dict = {'weights': jax.random.normal(jax.random.key(22), (5, 4))}\n",
    "dense.apply(new_params_dict, sample_input)"
   ]
  },
  {
   "cell_type": "code",
   "execution_count": 49,
   "metadata": {},
   "outputs": [
    {
     "name": "stderr",
     "output_type": "stream",
     "text": [
      "Finished tracing + transforming <lambda> for pjit in 0.0010955333709716797 sec\n",
      "Finished tracing + transforming fn for pjit in 0.0015070438385009766 sec\n",
      "Finished tracing + transforming fn for pjit in 0.001615285873413086 sec\n",
      "Finished tracing + transforming _uniform for pjit in 0.013531923294067383 sec\n",
      "Finished tracing + transforming _normal_real for pjit in 0.016244173049926758 sec\n",
      "Finished tracing + transforming _normal for pjit in 0.018434524536132812 sec\n",
      "Compiling _normal for with global shapes and types [ShapedArray(key<fry>[])]. Argument mapping: (GSPMDSharding({replicated}),).\n",
      "Finished tracing + transforming ravel for pjit in 0.001171112060546875 sec\n",
      "Finished tracing + transforming threefry_2x32 for pjit in 0.004179477691650391 sec\n",
      "Finished tracing + transforming _threefry_random_bits_original for pjit in 0.006880044937133789 sec\n",
      "Finished jaxpr to MLIR module conversion jit(_normal) in 0.020771503448486328 sec\n",
      "Finished XLA compilation of jit(_normal) in 0.13342642784118652 sec\n",
      "Finished tracing + transforming dot for pjit in 0.0009312629699707031 sec\n",
      "Compiling dot for with global shapes and types [ShapedArray(float32[16,5]), ShapedArray(float32[5,16])]. Argument mapping: (GSPMDSharding({replicated}), GSPMDSharding({replicated})).\n"
     ]
    },
    {
     "name": "stderr",
     "output_type": "stream",
     "text": [
      "Finished jaxpr to MLIR module conversion jit(dot) in 0.002245187759399414 sec\n",
      "Finished XLA compilation of jit(dot) in 0.17280793190002441 sec\n"
     ]
    },
    {
     "data": {
      "text/plain": [
       "Array([[-0.7190635 ,  2.7677035 , -1.1061106 ,  3.614097  ,  3.0745487 ,\n",
       "         2.2379713 ,  2.447216  ,  0.38021234,  5.288913  , -2.5442004 ,\n",
       "        -0.650793  ,  1.577282  ,  2.1357284 , -1.0383855 , -0.44585156,\n",
       "        -0.99454516],\n",
       "       [-0.7190635 ,  2.7677035 , -1.1061106 ,  3.614097  ,  3.0745487 ,\n",
       "         2.2379713 ,  2.447216  ,  0.38021234,  5.288913  , -2.5442004 ,\n",
       "        -0.650793  ,  1.577282  ,  2.1357284 , -1.0383855 , -0.44585156,\n",
       "        -0.99454516],\n",
       "       [-0.7190635 ,  2.7677035 , -1.1061106 ,  3.614097  ,  3.0745487 ,\n",
       "         2.2379713 ,  2.447216  ,  0.38021234,  5.288913  , -2.5442004 ,\n",
       "        -0.650793  ,  1.577282  ,  2.1357284 , -1.0383855 , -0.44585156,\n",
       "        -0.99454516],\n",
       "       [-0.7190635 ,  2.7677035 , -1.1061106 ,  3.614097  ,  3.0745487 ,\n",
       "         2.2379713 ,  2.447216  ,  0.38021234,  5.288913  , -2.5442004 ,\n",
       "        -0.650793  ,  1.577282  ,  2.1357284 , -1.0383855 , -0.44585156,\n",
       "        -0.99454516],\n",
       "       [-0.7190635 ,  2.7677035 , -1.1061106 ,  3.614097  ,  3.0745487 ,\n",
       "         2.2379713 ,  2.447216  ,  0.38021234,  5.288913  , -2.5442004 ,\n",
       "        -0.650793  ,  1.577282  ,  2.1357284 , -1.0383855 , -0.44585156,\n",
       "        -0.99454516],\n",
       "       [-0.7190635 ,  2.7677035 , -1.1061106 ,  3.614097  ,  3.0745487 ,\n",
       "         2.2379713 ,  2.447216  ,  0.38021234,  5.288913  , -2.5442004 ,\n",
       "        -0.650793  ,  1.577282  ,  2.1357284 , -1.0383855 , -0.44585156,\n",
       "        -0.99454516],\n",
       "       [-0.7190635 ,  2.7677035 , -1.1061106 ,  3.614097  ,  3.0745487 ,\n",
       "         2.2379713 ,  2.447216  ,  0.38021234,  5.288913  , -2.5442004 ,\n",
       "        -0.650793  ,  1.577282  ,  2.1357284 , -1.0383855 , -0.44585156,\n",
       "        -0.99454516],\n",
       "       [-0.7190635 ,  2.7677035 , -1.1061106 ,  3.614097  ,  3.0745487 ,\n",
       "         2.2379713 ,  2.447216  ,  0.38021234,  5.288913  , -2.5442004 ,\n",
       "        -0.650793  ,  1.577282  ,  2.1357284 , -1.0383855 , -0.44585156,\n",
       "        -0.99454516],\n",
       "       [-0.7190635 ,  2.7677035 , -1.1061106 ,  3.614097  ,  3.0745487 ,\n",
       "         2.2379713 ,  2.447216  ,  0.38021234,  5.288913  , -2.5442004 ,\n",
       "        -0.650793  ,  1.577282  ,  2.1357284 , -1.0383855 , -0.44585156,\n",
       "        -0.99454516],\n",
       "       [-0.7190635 ,  2.7677035 , -1.1061106 ,  3.614097  ,  3.0745487 ,\n",
       "         2.2379713 ,  2.447216  ,  0.38021234,  5.288913  , -2.5442004 ,\n",
       "        -0.650793  ,  1.577282  ,  2.1357284 , -1.0383855 , -0.44585156,\n",
       "        -0.99454516],\n",
       "       [-0.7190635 ,  2.7677035 , -1.1061106 ,  3.614097  ,  3.0745487 ,\n",
       "         2.2379713 ,  2.447216  ,  0.38021234,  5.288913  , -2.5442004 ,\n",
       "        -0.650793  ,  1.577282  ,  2.1357284 , -1.0383855 , -0.44585156,\n",
       "        -0.99454516],\n",
       "       [-0.7190635 ,  2.7677035 , -1.1061106 ,  3.614097  ,  3.0745487 ,\n",
       "         2.2379713 ,  2.447216  ,  0.38021234,  5.288913  , -2.5442004 ,\n",
       "        -0.650793  ,  1.577282  ,  2.1357284 , -1.0383855 , -0.44585156,\n",
       "        -0.99454516],\n",
       "       [-0.7190635 ,  2.7677035 , -1.1061106 ,  3.614097  ,  3.0745487 ,\n",
       "         2.2379713 ,  2.447216  ,  0.38021234,  5.288913  , -2.5442004 ,\n",
       "        -0.650793  ,  1.577282  ,  2.1357284 , -1.0383855 , -0.44585156,\n",
       "        -0.99454516],\n",
       "       [-0.7190635 ,  2.7677035 , -1.1061106 ,  3.614097  ,  3.0745487 ,\n",
       "         2.2379713 ,  2.447216  ,  0.38021234,  5.288913  , -2.5442004 ,\n",
       "        -0.650793  ,  1.577282  ,  2.1357284 , -1.0383855 , -0.44585156,\n",
       "        -0.99454516],\n",
       "       [-0.7190635 ,  2.7677035 , -1.1061106 ,  3.614097  ,  3.0745487 ,\n",
       "         2.2379713 ,  2.447216  ,  0.38021234,  5.288913  , -2.5442004 ,\n",
       "        -0.650793  ,  1.577282  ,  2.1357284 , -1.0383855 , -0.44585156,\n",
       "        -0.99454516],\n",
       "       [-0.7190635 ,  2.7677035 , -1.1061106 ,  3.614097  ,  3.0745487 ,\n",
       "         2.2379713 ,  2.447216  ,  0.38021234,  5.288913  , -2.5442004 ,\n",
       "        -0.650793  ,  1.577282  ,  2.1357284 , -1.0383855 , -0.44585156,\n",
       "        -0.99454516]], dtype=float32)"
      ]
     },
     "execution_count": 49,
     "metadata": {},
     "output_type": "execute_result"
    }
   ],
   "source": [
    "new_params_dict = {'weights': jax.random.normal(jax.random.key(22), (5, 16))}\n",
    "dense.apply(new_params_dict, sample_input)"
   ]
  }
 ],
 "metadata": {
  "kernelspec": {
   "display_name": "jaxlab",
   "language": "python",
   "name": "python3"
  },
  "language_info": {
   "codemirror_mode": {
    "name": "ipython",
    "version": 3
   },
   "file_extension": ".py",
   "mimetype": "text/x-python",
   "name": "python",
   "nbconvert_exporter": "python",
   "pygments_lexer": "ipython3",
   "version": "3.11.5"
  }
 },
 "nbformat": 4,
 "nbformat_minor": 2
}
