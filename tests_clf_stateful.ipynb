{
 "cells": [
  {
   "cell_type": "code",
   "execution_count": 6,
   "metadata": {},
   "outputs": [],
   "source": [
    "import jax\n",
    "import jax.numpy as jnp\n",
    "import numpy as np\n",
    "from jaxmao.layers import Dense, BatchNorm\n",
    "from jaxmao.modules import Module\n",
    "from jaxmao.optimizers import GradientDescent"
   ]
  },
  {
   "cell_type": "code",
   "execution_count": 4,
   "metadata": {},
   "outputs": [],
   "source": [
    "key = jax.random.PRNGKey(42)"
   ]
  },
  {
   "cell_type": "code",
   "execution_count": 114,
   "metadata": {},
   "outputs": [
    {
     "data": {
      "text/plain": [
       "(40, 10)"
      ]
     },
     "execution_count": 114,
     "metadata": {},
     "output_type": "execute_result"
    }
   ],
   "source": [
    "class ClassifierWithSimplifiedState(Module):\n",
    "    def __init__(self):\n",
    "        super().__init__()\n",
    "        self.add(\"fc1\", Dense(128, 64))\n",
    "        self.add(\"bn1\", BatchNorm(64))\n",
    "        self.add(\"fc2\", Dense(64, 10, activation=jnp.tanh))\n",
    "    \n",
    "    def forward(self, params, x, state):\n",
    "        x, state = self.forward_with_state(params, x, \"fc1\", state)\n",
    "        x, state = self.forward_with_state(params, x, \"bn1\", state)\n",
    "        x, state = self.forward_with_state(params, x, \"fc2\", state)\n",
    "        return x, state\n",
    "\n",
    "# Apply JIT compilation to the forward method\n",
    "model = ClassifierWithSimplifiedState()\n",
    "model.forward = jax.jit(model.forward)\n",
    "model.init_params(key)\n",
    "\n",
    "x = jnp.ones((40, 128)) + np.random.uniform(0, 1, (40, 128))\n",
    "y_true = jnp.zeros((40, 10))\n",
    "\n",
    "y = model(model.params, x)  # State is managed automatically\n",
    "y.shape"
   ]
  },
  {
   "cell_type": "code",
   "execution_count": 115,
   "metadata": {},
   "outputs": [],
   "source": [
    "from sklearn.utils import shuffle\n",
    "\n",
    "def loss_fn(model, params, x, y_true, state):\n",
    "    y_pred, new_state = model.pure_forward(params, x, state)\n",
    "    loss = jnp.mean((y_pred - y_true)**2)\n",
    "    return loss, new_state\n",
    "\n",
    "def training_loop(model, optimizer, x, y, epochs, lr=0.01, batch_size=32):\n",
    "    num_batch = len(x) // batch_size\n",
    "    for i in range(epochs):\n",
    "        losses = 0\n",
    "        x, y = shuffle(x, y)\n",
    "        for n in range(num_batch):\n",
    "            # Compute gradients\n",
    "            loss_grad_fn = jax.value_and_grad(loss_fn, argnums=1, has_aux=True)\n",
    "            (loss, new_state), gradients = loss_grad_fn(model, model.params, \n",
    "                                                          x[n*batch_size:(n+1)*batch_size], \n",
    "                                                          y_true[n*batch_size:(n+1)*batch_size], \n",
    "                                                          model.state)\n",
    "            losses = losses + loss\n",
    "            # Update model parameters\n",
    "            model.params, optim_state = optimizer.step(model.params, gradients, lr=lr)\n",
    "            model.update_state(new_state)\n",
    "            \n",
    "        print(losses / num_batch)"
   ]
  },
  {
   "cell_type": "code",
   "execution_count": 116,
   "metadata": {},
   "outputs": [
    {
     "name": "stdout",
     "output_type": "stream",
     "text": [
      "0.5352564\n",
      "0.4989636\n",
      "0.47177288\n",
      "0.42541075\n",
      "0.38362566\n"
     ]
    }
   ],
   "source": [
    "# Initialize model and optimizer\n",
    "optimizer = GradientDescent()\n",
    "epochs = 5\n",
    "lr = 0.1\n",
    "\n",
    "training_loop(model, optimizer, x, y_true, epochs, lr=lr, batch_size=4)"
   ]
  },
  {
   "cell_type": "code",
   "execution_count": null,
   "metadata": {},
   "outputs": [],
   "source": [
    "model(model.params, x)"
   ]
  }
 ],
 "metadata": {
  "kernelspec": {
   "display_name": "jaxlab",
   "language": "python",
   "name": "python3"
  },
  "language_info": {
   "codemirror_mode": {
    "name": "ipython",
    "version": 3
   },
   "file_extension": ".py",
   "mimetype": "text/x-python",
   "name": "python",
   "nbconvert_exporter": "python",
   "pygments_lexer": "ipython3",
   "version": "3.11.5"
  }
 },
 "nbformat": 4,
 "nbformat_minor": 2
}
