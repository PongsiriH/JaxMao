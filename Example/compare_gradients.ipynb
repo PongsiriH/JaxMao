{
 "cells": [
  {
   "cell_type": "code",
   "execution_count": 2,
   "metadata": {},
   "outputs": [],
   "source": [
    "import os\n",
    "os.environ['JAX_CHECK_TRACER_LEAKS'] = '1'"
   ]
  },
  {
   "cell_type": "code",
   "execution_count": 3,
   "metadata": {},
   "outputs": [
    {
     "name": "stderr",
     "output_type": "stream",
     "text": [
      "2023-10-26 23:36:52.712121: E tensorflow/compiler/xla/stream_executor/cuda/cuda_dnn.cc:9342] Unable to register cuDNN factory: Attempting to register factory for plugin cuDNN when one has already been registered\n",
      "2023-10-26 23:36:52.712219: E tensorflow/compiler/xla/stream_executor/cuda/cuda_fft.cc:609] Unable to register cuFFT factory: Attempting to register factory for plugin cuFFT when one has already been registered\n",
      "2023-10-26 23:36:52.712255: E tensorflow/compiler/xla/stream_executor/cuda/cuda_blas.cc:1518] Unable to register cuBLAS factory: Attempting to register factory for plugin cuBLAS when one has already been registered\n"
     ]
    }
   ],
   "source": [
    "import tensorflow as tf\n",
    "import numpy as np\n",
    "\n",
    "# Initialize dummy data and labels\n",
    "X = np.random.rand(10, 4).astype('float32')  # 10 samples, 4 features\n",
    "y = np.random.randint(0, 2, size=(10, 1)).astype('float32')  # 10 labels, binary classification\n",
    "\n",
    "# Initialize weights and biases to 0.1\n",
    "W = tf.Variable(np.full((4, 1), 0.01), dtype=tf.float32)\n",
    "b = tf.Variable(np.full((1,), 0.01), dtype=tf.float32)\n",
    "\n",
    "# Create a function to compute forward pass and loss\n",
    "def forward_and_loss(X, y, W, b):\n",
    "    z = tf.matmul(X, W) + b\n",
    "    loss = tf.reduce_mean(tf.nn.sigmoid_cross_entropy_with_logits(labels=y, logits=z))\n",
    "    return loss\n",
    "\n",
    "# Create a function to compute gradients\n",
    "def compute_gradients(X, y, W, b):\n",
    "    with tf.GradientTape() as tape:\n",
    "        tape.watch([W, b])\n",
    "        loss = forward_and_loss(X, y, W, b)\n",
    "    gradients = tape.gradient(loss, [W, b])\n",
    "    return loss, gradients\n",
    "\n",
    "# Compute gradients\n",
    "loss, gradients = compute_gradients(X, y, W, b)\n",
    "print('loss', loss)\n",
    "print(\"Gradient with respect to weights:\\n\", gradients[0].numpy())\n",
    "print(\"Gradient with respect to bias:\\n\", gradients[1].numpy())"
   ]
  },
  {
   "cell_type": "code",
   "execution_count": null,
   "metadata": {},
   "outputs": [
    {
     "name": "stdout",
     "output_type": "stream",
     "text": [
      "loss 0.6895835\n",
      "grad weights\n",
      " [[0.]\n",
      " [0.]\n",
      " [0.]\n",
      " [0.]]\n",
      "grad biases\n",
      " [0.]\n"
     ]
    }
   ],
   "source": [
    "import sys\n",
    "sys.path.append('/home/jaxmao/jaxmao_branches/JaxMao/')\n",
    "\n",
    "import jax\n",
    "from jaxmao.modules import Module\n",
    "from jaxmao.layers import Dense\n",
    "from jaxmao.initializers import ConstantInitalzer\n",
    "from jaxmao.losses import BinaryCrossEntropy\n",
    "\n",
    "class DenseSigmoid(Module):\n",
    "    def __init__(self):\n",
    "        super().__init__()\n",
    "        self.dense = Dense(4, 1, \n",
    "              weights_initializer=ConstantInitalzer(value=0.01),\n",
    "              bias_initializer=ConstantInitalzer(value=0.01)\n",
    "              )\n",
    "    def __call__(self, x):\n",
    "        return jax.nn.sigmoid(self.dense(x))\n",
    "\n",
    "dense = DenseSigmoid()\n",
    "dense.init_params(jax.random.key(0))\n",
    "loss_fn = BinaryCrossEntropy()\n",
    "\n",
    "@jax.jit\n",
    "def _loss_fn(params, x, y):\n",
    "    y_pred = dense.apply(params, x)\n",
    "    loss = loss_fn(y_pred, y)\n",
    "    return loss\n",
    "\n",
    "loss_and_grad = jax.value_and_grad(_loss_fn, argnums=0)\n",
    "\n",
    "jm_losses, jm_gradients = loss_and_grad(dense.params, X, y)\n",
    "print('loss', jm_losses)\n",
    "print('grad weights\\n', jm_gradients['dense']['weights'])\n",
    "print('grad biases\\n', jm_gradients['dense']['biases'])"
   ]
  },
  {
   "cell_type": "markdown",
   "metadata": {},
   "source": [
    "#### different in gradients\n",
    "very small"
   ]
  },
  {
   "cell_type": "code",
   "execution_count": null,
   "metadata": {},
   "outputs": [
    {
     "data": {
      "text/plain": [
       "<tf.Tensor: shape=(), dtype=float32, numpy=5.9604645e-08>"
      ]
     },
     "execution_count": 27,
     "metadata": {},
     "output_type": "execute_result"
    }
   ],
   "source": [
    "jm_losses - loss"
   ]
  },
  {
   "cell_type": "code",
   "execution_count": null,
   "metadata": {},
   "outputs": [
    {
     "data": {
      "text/plain": [
       "Array([[0.05428455],\n",
       "       [0.01591844],\n",
       "       [0.16974564],\n",
       "       [0.0120199 ]], dtype=float32)"
      ]
     },
     "execution_count": 28,
     "metadata": {},
     "output_type": "execute_result"
    }
   ],
   "source": [
    "jm_gradients['dense']['weights'] - gradients[0].numpy()"
   ]
  },
  {
   "cell_type": "code",
   "execution_count": null,
   "metadata": {},
   "outputs": [
    {
     "data": {
      "text/plain": [
       "Array([0.09245726], dtype=float32)"
      ]
     },
     "execution_count": 29,
     "metadata": {},
     "output_type": "execute_result"
    }
   ],
   "source": [
    "jm_gradients['dense']['biases'] - gradients[1].numpy()"
   ]
  },
  {
   "cell_type": "markdown",
   "metadata": {},
   "source": [
    "## Two layers dense"
   ]
  },
  {
   "cell_type": "code",
   "execution_count": null,
   "metadata": {},
   "outputs": [],
   "source": [
    "import numpy as np\n",
    "\n",
    "# Initialize dummy data and labels\n",
    "X = np.random.rand(10, 4).astype(np.float32)  # 10 samples, 4 features\n",
    "y = np.random.randint(0, 2, size=(10, 1)).astype(np.float32)  # 10 labels, binary classification"
   ]
  },
  {
   "cell_type": "code",
   "execution_count": 2,
   "metadata": {},
   "outputs": [
    {
     "name": "stderr",
     "output_type": "stream",
     "text": [
      "2023-10-27 01:44:53.974138: E tensorflow/compiler/xla/stream_executor/cuda/cuda_dnn.cc:9342] Unable to register cuDNN factory: Attempting to register factory for plugin cuDNN when one has already been registered\n",
      "2023-10-27 01:44:53.974268: E tensorflow/compiler/xla/stream_executor/cuda/cuda_fft.cc:609] Unable to register cuFFT factory: Attempting to register factory for plugin cuFFT when one has already been registered\n",
      "2023-10-27 01:44:53.974544: E tensorflow/compiler/xla/stream_executor/cuda/cuda_blas.cc:1518] Unable to register cuBLAS factory: Attempting to register factory for plugin cuBLAS when one has already been registered\n",
      "2023-10-27 01:44:55.471149: W tensorflow/compiler/tf2tensorrt/utils/py_utils.cc:38] TF-TRT Warning: Could not find TensorRT\n"
     ]
    },
    {
     "name": "stdout",
     "output_type": "stream",
     "text": [
      "loss tf.Tensor(1.7022848, shape=(), dtype=float32)\n",
      "Layer 1 gradients:\n",
      "[[0.0087981  0.0087981  0.0087981  0.0087981  0.0087981 ]\n",
      " [0.00357569 0.00357569 0.00357569 0.00357569 0.00357569]\n",
      " [0.01256735 0.01256735 0.01256735 0.01256735 0.01256735]\n",
      " [0.00408317 0.00408317 0.00408317 0.00408317 0.00408317]]\n",
      "Layer 2 gradients:\n",
      "[0.01849792 0.01849792 0.01849792 0.01849792 0.01849792]\n",
      "Layer 3 gradients:\n",
      "[[0.2767474]\n",
      " [0.2767474]\n",
      " [0.2767474]\n",
      " [0.2767474]\n",
      " [0.2767474]]\n",
      "Layer 4 gradients:\n",
      "[0.29675758]\n"
     ]
    },
    {
     "name": "stderr",
     "output_type": "stream",
     "text": [
      "2023-10-27 01:44:57.250108: W tensorflow/core/common_runtime/gpu/gpu_device.cc:2211] Cannot dlopen some GPU libraries. Please make sure the missing libraries mentioned above are installed properly if you would like to use GPU. Follow the guide at https://www.tensorflow.org/install/gpu for how to download and setup the required libraries for your platform.\n",
      "Skipping registering GPU devices...\n"
     ]
    }
   ],
   "source": [
    "import tensorflow as tf\n",
    "\n",
    "# Create a two-layer model\n",
    "model = tf.keras.Sequential([\n",
    "    tf.keras.layers.Dense(5, activation='sigmoid', kernel_initializer='ones', bias_initializer='ones'),\n",
    "    tf.keras.layers.Dense(1, activation='sigmoid', kernel_initializer='ones', bias_initializer='ones')\n",
    "])\n",
    "\n",
    "# Initialize model weights\n",
    "model(X)  # Forward pass to initialize weights\n",
    "\n",
    "# Compute gradients using TensorFlow\n",
    "with tf.GradientTape() as tape:\n",
    "    tape.watch(model.trainable_variables)\n",
    "    predictions = model(X)\n",
    "    loss = tf.keras.losses.BinaryCrossentropy()(y, predictions)\n",
    "    \n",
    "tf_gradients = tape.gradient(loss, model.trainable_variables)\n",
    "\n",
    "print('loss', loss)\n",
    "# Display gradients\n",
    "for i, grad in enumerate(tf_gradients):\n",
    "    print(f\"Layer {i + 1} gradients:\\n{grad.numpy()}\")"
   ]
  },
  {
   "cell_type": "code",
   "execution_count": 1,
   "metadata": {},
   "outputs": [
    {
     "name": "stderr",
     "output_type": "stream",
     "text": [
      "WARNING: All log messages before absl::InitializeLog() is called are written to STDERR\n",
      "I0000 00:00:1698345879.425312  231857 tfrt_cpu_pjrt_client.cc:349] TfrtCpuClient created.\n"
     ]
    },
    {
     "name": "stdout",
     "output_type": "stream",
     "text": [
      "loss 1.7022867\n"
     ]
    },
    {
     "data": {
      "text/plain": [
       "(Array(1.7022867, dtype=float32),\n",
       " FrozenDict({'dense1': FrozenDict({'biases': Array([0.01849792, 0.01849792, 0.01849792, 0.01849792, 0.01849792],      dtype=float32), 'weights': Array([[0.0087981 , 0.0087981 , 0.0087981 , 0.0087981 , 0.0087981 ],\n",
       "        [0.00357569, 0.00357569, 0.00357569, 0.00357569, 0.00357569],\n",
       "        [0.01256735, 0.01256735, 0.01256735, 0.01256735, 0.01256735],\n",
       "        [0.00408317, 0.00408317, 0.00408317, 0.00408317, 0.00408317]],      dtype=float32)}), 'dense2': FrozenDict({'biases': Array([0.29675755], dtype=float32), 'weights': Array([[0.2767474],\n",
       "        [0.2767474],\n",
       "        [0.2767474],\n",
       "        [0.2767474],\n",
       "        [0.2767474]], dtype=float32)})}))"
      ]
     },
     "execution_count": 1,
     "metadata": {},
     "output_type": "execute_result"
    }
   ],
   "source": [
    "import os\n",
    "# os.environ['JAX_TRACEBACK_FILTERING'] = 'off'\n",
    "os.environ['JAX_CHECK_TRACER_LEAKS'] = 'on'\n",
    "\n",
    "import numpy as np\n",
    "\n",
    "# Initialize dummy data and labels\n",
    "X = np.random.rand(10, 4).astype(np.float32)  # 10 samples, 4 features\n",
    "y = np.random.randint(0, 2, size=(10, 1)).astype(np.float32)  # 10 labels, binary classification\n",
    "\n",
    "import sys\n",
    "sys.path.append('/home/jaxmao/jaxmao_branches/JaxMao/')\n",
    "\n",
    "import jax\n",
    "from jaxmao.modules import Module\n",
    "from jaxmao.layers import Dense\n",
    "from jaxmao.initializers import ones_initializer\n",
    "from jaxmao.losses import BinaryCrossEntropy\n",
    "\n",
    "class TwoLayers(Module):\n",
    "    def __init__(self):\n",
    "        super().__init__()\n",
    "        self.dense1 = Dense(4, 5, \n",
    "                weights_initializer=ones_initializer,\n",
    "                bias_initializer=ones_initializer\n",
    "              )\n",
    "        self.dense2 = Dense(5, 1,\n",
    "                weights_initializer=ones_initializer,\n",
    "                bias_initializer=ones_initializer\n",
    "            )\n",
    "    def __call__(self, x):\n",
    "        return jax.nn.sigmoid(self.dense2(jax.nn.sigmoid(self.dense1(x))))\n",
    "\n",
    "dense = TwoLayers()\n",
    "dense.init_params(jax.random.key(0))\n",
    "loss_fn = BinaryCrossEntropy()\n",
    "\n",
    "# @jax.jit\n",
    "def _loss_fn(params, x, y):\n",
    "    return loss_fn(dense.apply(params, x), y)\n",
    "\n",
    "loss_and_grad = jax.value_and_grad(_loss_fn, argnums=0)\n",
    "\n",
    "jax.tree_util.tree_map(lambda x: x+5, dense.params)\n",
    "losses2, grads = loss_and_grad(dense.params, X, y)\n",
    "print('loss', losses2)\n",
    "\n",
    "losses2, grads"
   ]
  },
  {
   "cell_type": "code",
   "execution_count": 3,
   "metadata": {},
   "outputs": [
    {
     "data": {
      "text/plain": [
       "<tf.Tensor: shape=(5,), dtype=float32, numpy=\n",
       "array([1.8626451e-09, 1.8626451e-09, 1.8626451e-09, 1.8626451e-09,\n",
       "       1.8626451e-09], dtype=float32)>"
      ]
     },
     "execution_count": 3,
     "metadata": {},
     "output_type": "execute_result"
    }
   ],
   "source": [
    "grads['dense1']['biases'] - tf_gradients[1]"
   ]
  },
  {
   "cell_type": "code",
   "execution_count": 4,
   "metadata": {},
   "outputs": [
    {
     "data": {
      "text/plain": [
       "<tf.Tensor: shape=(5, 1), dtype=float32, numpy=\n",
       "array([[0.],\n",
       "       [0.],\n",
       "       [0.],\n",
       "       [0.],\n",
       "       [0.]], dtype=float32)>"
      ]
     },
     "execution_count": 4,
     "metadata": {},
     "output_type": "execute_result"
    }
   ],
   "source": [
    "grads['dense2']['weights'] - tf_gradients[2]"
   ]
  },
  {
   "cell_type": "code",
   "execution_count": null,
   "metadata": {},
   "outputs": [
    {
     "data": {
      "text/plain": [
       "<tf.Tensor: shape=(1,), dtype=float32, numpy=array([-5.9604645e-08], dtype=float32)>"
      ]
     },
     "execution_count": 10,
     "metadata": {},
     "output_type": "execute_result"
    }
   ],
   "source": [
    "grads['dense2']['biases'] - tf_gradients[3]"
   ]
  },
  {
   "cell_type": "markdown",
   "metadata": {},
   "source": [
    "# approximate $3x$"
   ]
  },
  {
   "cell_type": "code",
   "execution_count": null,
   "metadata": {},
   "outputs": [
    {
     "name": "stdout",
     "output_type": "stream",
     "text": [
      "loss 0.32810944\n",
      "loss 0.32810944\n"
     ]
    },
    {
     "data": {
      "text/plain": [
       "[<matplotlib.lines.Line2D at 0x7f5c805d5050>]"
      ]
     },
     "execution_count": 36,
     "metadata": {},
     "output_type": "execute_result"
    },
    {
     "data": {
      "image/png": "[encoded data removed]",
      "text/plain": [
       "<Figure size 640x480 with 1 Axes>"
      ]
     },
     "metadata": {},
     "output_type": "display_data"
    }
   ],
   "source": [
    "import matplotlib.pyplot as plt\n",
    "from jaxmao.losses import MeanSquaredError\n",
    "\n",
    "x = np.linspace(-5, 5, 500).reshape(-1, 1)\n",
    "y = (lambda x: 3*x)(x)\n",
    "x = (x-x.mean()) / x.max()\n",
    "y = (y-y.mean()) / y.max()\n",
    "\n",
    "dense = Dense(1, 1, \n",
    "        weights_initializer=ConstantInitalzer(value=0.01),\n",
    "        bias_initializer=ConstantInitalzer(value=0.01)\n",
    "        )\n",
    "\n",
    "dense.init_params(jax.random.key(0))\n",
    "loss_fn = MeanSquaredError()\n",
    "\n",
    "def _loss_fn(params, x, y):\n",
    "    y_pred = dense.apply(params, x)\n",
    "    loss = loss_fn(y_pred, y)\n",
    "    return loss\n",
    "loss_and_grad = jax.value_and_grad(_loss_fn, argnums=0)\n",
    "\n",
    "jm_losses, jm_gradients = loss_and_grad(dense.params, x, y)\n",
    "print('loss', jm_losses)\n",
    "\n",
    "loss_fn = MeanSquaredError()\n",
    "\n",
    "@jax.jit\n",
    "def _loss_fn(params, x, y):\n",
    "    y_pred = dense.apply(params, x)\n",
    "    return loss_fn(y_pred, y)\n",
    "\n",
    "from jaxmao.optimizers import GradientDescent\n",
    "optimizer = GradientDescent(params=dense.params, lr=0.01)\n",
    "optimizer.step = jax.jit(optimizer.step)\n",
    "loss_and_grad = jax.jit(jax.value_and_grad(_loss_fn, argnums=0))\n",
    "BATCH_SIZE = 32\n",
    "for epoch in range(50):\n",
    "    for num_batch in range(len(x) // BATCH_SIZE):\n",
    "        loss, grads = loss_and_grad(dense.params, x, y)\n",
    "        dense.params, optimizer.state = optimizer(dense.params, grads, optimizer.state)\n",
    "    # print('epoch {}'.format(epoch))\n",
    "print('loss', jm_losses)\n",
    "y_pred = dense(x)\n",
    "plt.plot(x, y, c='r')\n",
    "plt.plot(x, y_pred, c='b')"
   ]
  },
  {
   "cell_type": "markdown",
   "metadata": {},
   "source": [
    "# approximit $x^2$"
   ]
  },
  {
   "cell_type": "code",
   "execution_count": null,
   "metadata": {},
   "outputs": [
    {
     "name": "stdout",
     "output_type": "stream",
     "text": [
      "Test Loss: 106.71399688720703\n",
      "4/4 [==============================] - 0s 3ms/step\n",
      "R^2 Score: 0.8846196400797698\n"
     ]
    },
    {
     "data": {
      "image/png": "[encoded data removed]",
      "text/plain": [
       "<Figure size 1000x600 with 1 Axes>"
      ]
     },
     "metadata": {},
     "output_type": "display_data"
    }
   ],
   "source": [
    "import numpy as np\n",
    "import tensorflow as tf\n",
    "import matplotlib.pyplot as plt\n",
    "from sklearn.metrics import r2_score\n",
    "\n",
    "# Generate synthetic data for x and f(x) = x^2\n",
    "x_train = np.linspace(-10, 10, 1000).reshape(-1, 1)\n",
    "y_train = np.square(x_train)\n",
    "\n",
    "# Build the model\n",
    "model = tf.keras.Sequential([\n",
    "    tf.keras.layers.Dense(10, activation='relu', input_shape=(1,)),  # Hidden layer 1\n",
    "    tf.keras.layers.Dense(10, activation='relu'),  # Hidden layer 2\n",
    "    tf.keras.layers.Dense(1)  # Output layer\n",
    "])\n",
    "\n",
    "# Compile the model\n",
    "model.compile(optimizer='adam', loss='mean_squared_error')\n",
    "\n",
    "# Train the model\n",
    "model.fit(x_train, y_train, epochs=50, verbose=0)\n",
    "\n",
    "# Evaluate the model\n",
    "x_test = np.linspace(-10, 10, 100).reshape(-1, 1)\n",
    "y_test = np.square(x_test)\n",
    "loss = model.evaluate(x_test, y_test, verbose=0)\n",
    "print(f\"Test Loss: {loss}\")\n",
    "\n",
    "# Make predictions\n",
    "y_pred = model.predict(x_test)\n",
    "\n",
    "# Calculate R^2 score\n",
    "r2 = r2_score(y_test, y_pred)\n",
    "print(f\"R^2 Score: {r2}\")\n",
    "\n",
    "# Plot the true function and the approximation\n",
    "plt.figure(figsize=(10, 6))\n",
    "plt.scatter(x_test, y_test, label='True Function: $f(x) = x^2$', color='blue')\n",
    "plt.scatter(x_test, y_pred, label='NN Approximation', color='red')\n",
    "plt.xlabel('x')\n",
    "plt.ylabel('$f(x) = x^2$')\n",
    "plt.legend()\n",
    "plt.title('Neural Network Approximation of $f(x) = x^2$')\n",
    "plt.show()"
   ]
  },
  {
   "cell_type": "code",
   "execution_count": null,
   "metadata": {},
   "outputs": [],
   "source": [
    "from jaxmao import initializers\n",
    "class SimpleRegressor(Module):\n",
    "    def __init__(self):\n",
    "        super().__init__()\n",
    "        self.fc1 = Dense(1, 10)\n",
    "        self.fc2 = Dense(10, 10)\n",
    "        self.fc3 = Dense(10, 1)\n",
    "                \n",
    "    def __call__(self, x):\n",
    "        x = jax.nn.relu(self.fc1(x))\n",
    "        x = jax.nn.relu(self.fc2(x))\n",
    "        x = self.fc3(x)\n",
    "        return x\n",
    "\n",
    "reg = SimpleRegressor()\n",
    "reg.init_params(jax.random.key(5))\n",
    "\n",
    "from jaxmao.optimizers import Adam\n",
    "from jaxmao.losses import MeanSquaredError\n",
    "\n",
    "mse = MeanSquaredError()\n",
    "\n",
    "@jax.jit\n",
    "def _loss_fn(params, x, y):\n",
    "    y_pred = reg.apply(params, x)\n",
    "    loss = mse(y_pred, y)\n",
    "    return loss\n",
    "\n",
    "optimizer = Adam(params=reg.params, lr=0.01)\n",
    "optimizer.step = jax.jit(optimizer.step)\n",
    "loss_and_grad = jax.jit(jax.value_and_grad(_loss_fn, argnums=0))\n",
    "# loss_and_grad(reg.params, x, y)\n",
    "\n",
    "BATCH_SIZE = 32\n",
    "for epoch in range(30):\n",
    "    for num_batch in range(len(x_train) // BATCH_SIZE):\n",
    "        loss, grads = loss_and_grad(reg.params, x_train, y_train)\n",
    "        reg.params, optimizer.state = optimizer(reg.params, grads, optimizer.state)\n",
    "        # print(grads)\n",
    "    # print('epoch {}: {}'.format(epoch, loss))"
   ]
  },
  {
   "cell_type": "code",
   "execution_count": null,
   "metadata": {},
   "outputs": [
    {
     "name": "stdout",
     "output_type": "stream",
     "text": [
      "loss:  3146.621\n",
      "r2  -2.4021617203890306\n"
     ]
    },
    {
     "data": {
      "image/png": "[encoded data removed]",
      "text/plain": [
       "<Figure size 800x600 with 1 Axes>"
      ]
     },
     "metadata": {},
     "output_type": "display_data"
    }
   ],
   "source": [
    "y_pred = reg.apply(reg.params, x_test)\n",
    "\n",
    "print('loss: ', MeanSquaredError()(y_pred, y_test))\n",
    "print('r2 ', r2_score(y_test, y_pred))\n",
    "\n",
    "plt.figure(figsize=(8, 6))\n",
    "plt.scatter(x_test, y_test, label='True Function: $f(x) = x^2$', color='blue')\n",
    "plt.scatter(x_test, y_pred, label='NN Approximation', color='red')\n",
    "plt.xlabel('x')\n",
    "plt.ylabel('$f(x) = x^2$')\n",
    "plt.legend()\n",
    "plt.title('Neural Network Approximation of $f(x) = x^2$')\n",
    "plt.show()"
   ]
  }
 ],
 "metadata": {
  "kernelspec": {
   "display_name": "jaxlab",
   "language": "python",
   "name": "python3"
  },
  "language_info": {
   "codemirror_mode": {
    "name": "ipython",
    "version": 3
   },
   "file_extension": ".py",
   "mimetype": "text/x-python",
   "name": "python",
   "nbconvert_exporter": "python",
   "pygments_lexer": "ipython3",
   "version": "3.11.5"
  }
 },
 "nbformat": 4,
 "nbformat_minor": 2
}
