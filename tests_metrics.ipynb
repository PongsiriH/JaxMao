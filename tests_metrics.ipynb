{
 "cells": [
  {
   "cell_type": "code",
   "execution_count": 2,
   "metadata": {},
   "outputs": [],
   "source": [
    "import numpy as np\n",
    "from jaxmao.metrics import Accuracy, Precision, Recall"
   ]
  },
  {
   "cell_type": "code",
   "execution_count": 7,
   "metadata": {},
   "outputs": [
    {
     "data": {
      "text/plain": [
       "(0.8, 0.3333333333333333, 1.0)"
      ]
     },
     "execution_count": 7,
     "metadata": {},
     "output_type": "execute_result"
    }
   ],
   "source": [
    "y_true = np.array([0]*90 + [1]*10)  # 90 Not Spam and 10 Spam emails\n",
    "y_pred = np.array([0]*70 + [1]*20 + [1]*10)  # 70 Not Spam correctly classified, 20 Not Spam incorrectly classified as Spam, 10 Spam correctly classified\n",
    "Accuracy()(y_pred, y_true), Precision()(y_pred, y_true), Recall()(y_pred, y_true)"
   ]
  },
  {
   "cell_type": "code",
   "execution_count": 5,
   "metadata": {},
   "outputs": [
    {
     "data": {
      "text/plain": [
       "(0.1, 0.1, 1.0)"
      ]
     },
     "execution_count": 5,
     "metadata": {},
     "output_type": "execute_result"
    }
   ],
   "source": [
    "y_true = np.array([0]*90 + [1]*10)  # 90 Not Spam and 10 Spam emails\n",
    "y_pred = np.array([1]*90 + [1]*10)  # All 90 Not Spam incorrectly classified as Spam, 10 Spam correctly classified\n",
    "Accuracy()(y_pred, y_true), Precision()(y_pred, y_true), Recall()(y_pred, y_true)"
   ]
  }
 ],
 "metadata": {
  "kernelspec": {
   "display_name": "jaxlab",
   "language": "python",
   "name": "python3"
  },
  "language_info": {
   "codemirror_mode": {
    "name": "ipython",
    "version": 3
   },
   "file_extension": ".py",
   "mimetype": "text/x-python",
   "name": "python",
   "nbconvert_exporter": "python",
   "pygments_lexer": "ipython3",
   "version": "3.11.5"
  }
 },
 "nbformat": 4,
 "nbformat_minor": 2
}
