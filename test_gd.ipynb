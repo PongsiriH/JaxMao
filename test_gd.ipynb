{
 "cells": [
  {
   "cell_type": "code",
   "execution_count": 1,
   "metadata": {},
   "outputs": [
    {
     "data": {
      "image/png": "[encoded data removed]",
      "text/plain": [
       "<Figure size 640x480 with 1 Axes>"
      ]
     },
     "metadata": {},
     "output_type": "display_data"
    }
   ],
   "source": [
    "import numpy as np\n",
    "import matplotlib.pyplot as plt\n",
    "import jax\n",
    "import pandas as pd\n",
    "\n",
    "# Define the function f(x) = 2x + 3\n",
    "def true_function(x):\n",
    "    return 2 * x + 3\n",
    "\n",
    "# Generate synthetic data\n",
    "x_data = np.linspace(-10, 10, 100).reshape(-1, 1)\n",
    "y_data = true_function(x_data).reshape(-1, 1)\n",
    "\n",
    "# Plot the true function\n",
    "plt.scatter(x_data, y_data, label='True Function')\n",
    "plt.legend()\n",
    "plt.show()"
   ]
  },
  {
   "cell_type": "code",
   "execution_count": 2,
   "metadata": {},
   "outputs": [
    {
     "name": "stderr",
     "output_type": "stream",
     "text": [
      "WARNING: All log messages before absl::InitializeLog() is called are written to STDERR\n",
      "I0000 00:00:1697892389.199050   76883 tfrt_cpu_pjrt_client.cc:349] TfrtCpuClient created.\n"
     ]
    }
   ],
   "source": [
    "key = jax.random.PRNGKey(42)"
   ]
  },
  {
   "cell_type": "code",
   "execution_count": 3,
   "metadata": {},
   "outputs": [],
   "source": [
    "from jaxmao.layers import Dense\n",
    "dense = Dense(1, 1, activation=None, batch_norm=False, use_bias=True)\n",
    "dense.init_params(key)\n",
    "dense.set_training_mode()"
   ]
  },
  {
   "cell_type": "code",
   "execution_count": 4,
   "metadata": {},
   "outputs": [
    {
     "data": {
      "text/plain": [
       "{'weights': array([[1.]]), 'biases': array([0.])}"
      ]
     },
     "execution_count": 4,
     "metadata": {},
     "output_type": "execute_result"
    }
   ],
   "source": [
    "# Initialize with custom weights: For simplicity, let's choose weight as 1 and bias as 0\n",
    "custom_weights = np.array([[1.0]])  # Weight\n",
    "custom_bias = np.array([0.0])  # Bias\n",
    "\n",
    "dense.params['dense/simple_dense'].update({\n",
    "    'weights' :  custom_weights,\n",
    "    'biases' :  custom_bias,\n",
    "})\n",
    "dense.params['dense/simple_dense']"
   ]
  },
  {
   "cell_type": "code",
   "execution_count": 5,
   "metadata": {},
   "outputs": [
    {
     "data": {
      "text/plain": [
       "{'weights': array([[1.]]), 'biases': array([0.])}"
      ]
     },
     "execution_count": 5,
     "metadata": {},
     "output_type": "execute_result"
    }
   ],
   "source": [
    "dense.layers['dense/simple_dense'].params"
   ]
  },
  {
   "cell_type": "markdown",
   "metadata": {},
   "source": [
    "# sgd"
   ]
  },
  {
   "cell_type": "code",
   "execution_count": 6,
   "metadata": {},
   "outputs": [
    {
     "name": "stdout",
     "output_type": "stream",
     "text": [
      "g {'dense/simple_dense': {'biases': Array([-8.050505], dtype=float32), 'weights': Array([[-49.15825]], dtype=float32)}}\n"
     ]
    },
    {
     "name": "stderr",
     "output_type": "stream",
     "text": [
      "/tmp/ipykernel_76883/3213919047.py:41: FutureWarning: The behavior of DataFrame concatenation with empty or all-NA entries is deprecated. In a future version, this will no longer exclude empty or all-NA columns when determining the result dtypes. To retain the old behavior, exclude the relevant entries before the concat operation.\n",
      "  sgd_df = pd.concat([sgd_df, data_df],\n"
     ]
    }
   ],
   "source": [
    "sgd_df = pd.DataFrame({\n",
    "    'loss' : [],\n",
    "    'weight' : [],\n",
    "    'bias' : [],\n",
    "    'pred_sum' : []\n",
    "})\n",
    "\n",
    "from jaxmao.optimizers import GradientDescent\n",
    "from jaxmao.losses import MeanSquaredError\n",
    "\n",
    "from jaxmao.layers import Dense\n",
    "dense = Dense(1, 1, activation=None, batch_norm=False, use_bias=True)\n",
    "dense.init_params(key)\n",
    "dense.set_training_mode()\n",
    "\n",
    "dense.params['dense/simple_dense'].update({\n",
    "    'weights' :  custom_weights,\n",
    "    'biases' :  custom_bias,\n",
    "})\n",
    "\n",
    "mse = MeanSquaredError()\n",
    "def loss_fn(model, params, x, y, state):\n",
    "    y_pred, new_state = model.forward(params, x, state)\n",
    "    loss = mse(y_pred, y)\n",
    "    return (loss, new_state)\n",
    "\n",
    "optimizer = GradientDescent(lr=0.01)\n",
    "(loss, state), gradients = jax.value_and_grad(loss_fn, argnums=1, has_aux=True)(dense, dense.params, x_data, y_data, dense.state)\n",
    "print('g', gradients)\n",
    "for _ in range(20):\n",
    "    (loss, state), gradients = jax.value_and_grad(loss_fn, argnums=1, has_aux=True)(dense, dense.params, x_data, y_data, dense.state)\n",
    "    dense.params, optimizer.state = optimizer(dense.params, gradients, optimizer.state)\n",
    "\n",
    "    weights = dense.params['dense/simple_dense']['weights']\n",
    "    bias = dense.params['dense/simple_dense']['biases']\n",
    "    y_pred = dense(dense.params, x_data)[0]\n",
    "    y_pred_sum = y_pred.sum()\n",
    "    loss = mse(y_pred, y_data)\n",
    "    \n",
    "    data_df = pd.DataFrame({'loss': loss, 'weight' : weights[0][0], 'bias': bias, 'pred_sum': y_pred_sum})\n",
    "    sgd_df = pd.concat([sgd_df, data_df],\n",
    "                    axis=0)"
   ]
  },
  {
   "cell_type": "code",
   "execution_count": 7,
   "metadata": {},
   "outputs": [],
   "source": [
    "sgd_df.head(20)\n",
    "sgd_df.to_csv('sgd_jaxmao.csv')"
   ]
  },
  {
   "cell_type": "markdown",
   "metadata": {},
   "source": [
    "# adam"
   ]
  },
  {
   "cell_type": "code",
   "execution_count": 8,
   "metadata": {},
   "outputs": [
    {
     "name": "stdout",
     "output_type": "stream",
     "text": [
      "sum 252.52524\n",
      "g {'dense/simple_dense': {'biases': Array([-8.050505], dtype=float32), 'weights': Array([[-49.15825]], dtype=float32)}}\n"
     ]
    },
    {
     "name": "stderr",
     "output_type": "stream",
     "text": [
      "/tmp/ipykernel_76883/1329291687.py:45: FutureWarning: The behavior of DataFrame concatenation with empty or all-NA entries is deprecated. In a future version, this will no longer exclude empty or all-NA columns when determining the result dtypes. To retain the old behavior, exclude the relevant entries before the concat operation.\n",
      "  adam_df = pd.concat([adam_df, data_df],\n"
     ]
    }
   ],
   "source": [
    "adam_df = pd.DataFrame({\n",
    "    'loss' : [],\n",
    "    'weight' : [],\n",
    "    'bias' : [],\n",
    "    'pred_sum' : []\n",
    "})\n",
    "\n",
    "from jaxmao.optimizers import Adam\n",
    "from jaxmao.losses import MeanSquaredError\n",
    "\n",
    "from jaxmao.layers import Dense\n",
    "dense = Dense(1, 1, activation=None, batch_norm=False, use_bias=True)\n",
    "dense.init_params(key)\n",
    "dense.set_training_mode()\n",
    "\n",
    "dense.params['dense/simple_dense'].update({\n",
    "    'weights' :  custom_weights,\n",
    "    'biases' :  custom_bias,\n",
    "})\n",
    "\n",
    "y_pred, _ = dense(dense.params, x_data)\n",
    "print('sum', y_pred.sum())\n",
    "\n",
    "mse = MeanSquaredError()\n",
    "def loss_fn(model, params, x, y, state):\n",
    "    y_pred, new_state = model.forward(params, x, state)\n",
    "    loss = mse(y_pred, y)\n",
    "    return (loss, new_state)\n",
    "\n",
    "optimizer = Adam(dense.params)\n",
    "(loss, state), gradients = jax.value_and_grad(loss_fn, argnums=1, has_aux=True)(dense, dense.params, x_data, y_data, dense.state)\n",
    "print('g', gradients)\n",
    "\n",
    "for _ in range(20):\n",
    "    (loss, state), gradients = jax.value_and_grad(loss_fn, argnums=1, has_aux=True)(dense, dense.params, x_data, y_data, dense.state)\n",
    "    dense.params, optimizer.state = optimizer.step(dense.params, gradients, optimizer.state)\n",
    "    \n",
    "    weights = dense.params['dense/simple_dense']['weights']\n",
    "    bias = dense.params['dense/simple_dense']['biases']\n",
    "    y_pred = dense(dense.params, x_data)[0]\n",
    "    y_pred_sum = y_pred.sum()\n",
    "    loss = mse(y_pred, y_data)\n",
    "    \n",
    "    data_df = pd.DataFrame({'loss': loss, 'weight' : weights[0][0], 'bias': bias, 'pred_sum': y_pred_sum})\n",
    "    adam_df = pd.concat([adam_df, data_df],\n",
    "                    axis=0)"
   ]
  },
  {
   "cell_type": "code",
   "execution_count": 9,
   "metadata": {},
   "outputs": [
    {
     "data": {
      "text/html": [
       "<div>\n",
       "<style scoped>\n",
       "    .dataframe tbody tr th:only-of-type {\n",
       "        vertical-align: middle;\n",
       "    }\n",
       "\n",
       "    .dataframe tbody tr th {\n",
       "        vertical-align: top;\n",
       "    }\n",
       "\n",
       "    .dataframe thead th {\n",
       "        text-align: right;\n",
       "    }\n",
       "</style>\n",
       "<table border=\"1\" class=\"dataframe\">\n",
       "  <thead>\n",
       "    <tr style=\"text-align: right;\">\n",
       "      <th></th>\n",
       "      <th>loss</th>\n",
       "      <th>weight</th>\n",
       "      <th>bias</th>\n",
       "      <th>pred_sum</th>\n",
       "    </tr>\n",
       "  </thead>\n",
       "  <tbody>\n",
       "    <tr>\n",
       "      <th>0</th>\n",
       "      <td>78.29549</td>\n",
       "      <td>1.01</td>\n",
       "      <td>0.010000</td>\n",
       "      <td>255.5505</td>\n",
       "    </tr>\n",
       "    <tr>\n",
       "      <th>0</th>\n",
       "      <td>77.73029</td>\n",
       "      <td>1.0199978</td>\n",
       "      <td>0.019998</td>\n",
       "      <td>258.5751</td>\n",
       "    </tr>\n",
       "    <tr>\n",
       "      <th>0</th>\n",
       "      <td>77.16979</td>\n",
       "      <td>1.0299921</td>\n",
       "      <td>0.029993</td>\n",
       "      <td>261.59863</td>\n",
       "    </tr>\n",
       "    <tr>\n",
       "      <th>0</th>\n",
       "      <td>76.61409</td>\n",
       "      <td>1.0399812</td>\n",
       "      <td>0.039982</td>\n",
       "      <td>264.62064</td>\n",
       "    </tr>\n",
       "    <tr>\n",
       "      <th>0</th>\n",
       "      <td>76.06323</td>\n",
       "      <td>1.0499638</td>\n",
       "      <td>0.049966</td>\n",
       "      <td>267.6407</td>\n",
       "    </tr>\n",
       "    <tr>\n",
       "      <th>0</th>\n",
       "      <td>75.51732</td>\n",
       "      <td>1.0599384</td>\n",
       "      <td>0.059942</td>\n",
       "      <td>270.65833</td>\n",
       "    </tr>\n",
       "    <tr>\n",
       "      <th>0</th>\n",
       "      <td>74.976395</td>\n",
       "      <td>1.0699035</td>\n",
       "      <td>0.069909</td>\n",
       "      <td>273.6731</td>\n",
       "    </tr>\n",
       "    <tr>\n",
       "      <th>0</th>\n",
       "      <td>74.440544</td>\n",
       "      <td>1.0798576</td>\n",
       "      <td>0.079866</td>\n",
       "      <td>276.6846</td>\n",
       "    </tr>\n",
       "    <tr>\n",
       "      <th>0</th>\n",
       "      <td>73.909805</td>\n",
       "      <td>1.0897992</td>\n",
       "      <td>0.089811</td>\n",
       "      <td>279.69232</td>\n",
       "    </tr>\n",
       "    <tr>\n",
       "      <th>0</th>\n",
       "      <td>73.384254</td>\n",
       "      <td>1.0997269</td>\n",
       "      <td>0.099742</td>\n",
       "      <td>282.69592</td>\n",
       "    </tr>\n",
       "    <tr>\n",
       "      <th>0</th>\n",
       "      <td>72.86395</td>\n",
       "      <td>1.1096393</td>\n",
       "      <td>0.109660</td>\n",
       "      <td>285.69495</td>\n",
       "    </tr>\n",
       "    <tr>\n",
       "      <th>0</th>\n",
       "      <td>72.34858</td>\n",
       "      <td>1.119535</td>\n",
       "      <td>0.119562</td>\n",
       "      <td>288.6954</td>\n",
       "    </tr>\n",
       "    <tr>\n",
       "      <th>0</th>\n",
       "      <td>71.83838</td>\n",
       "      <td>1.1294124</td>\n",
       "      <td>0.129451</td>\n",
       "      <td>291.69305</td>\n",
       "    </tr>\n",
       "    <tr>\n",
       "      <th>0</th>\n",
       "      <td>71.33356</td>\n",
       "      <td>1.1392702</td>\n",
       "      <td>0.139325</td>\n",
       "      <td>294.685</td>\n",
       "    </tr>\n",
       "    <tr>\n",
       "      <th>0</th>\n",
       "      <td>70.83415</td>\n",
       "      <td>1.149107</td>\n",
       "      <td>0.149183</td>\n",
       "      <td>297.67078</td>\n",
       "    </tr>\n",
       "    <tr>\n",
       "      <th>0</th>\n",
       "      <td>70.3402</td>\n",
       "      <td>1.1589215</td>\n",
       "      <td>0.159022</td>\n",
       "      <td>300.65002</td>\n",
       "    </tr>\n",
       "    <tr>\n",
       "      <th>0</th>\n",
       "      <td>69.85174</td>\n",
       "      <td>1.1687125</td>\n",
       "      <td>0.168842</td>\n",
       "      <td>303.62225</td>\n",
       "    </tr>\n",
       "    <tr>\n",
       "      <th>0</th>\n",
       "      <td>69.368805</td>\n",
       "      <td>1.1784786</td>\n",
       "      <td>0.178639</td>\n",
       "      <td>306.58716</td>\n",
       "    </tr>\n",
       "    <tr>\n",
       "      <th>0</th>\n",
       "      <td>68.89143</td>\n",
       "      <td>1.1882186</td>\n",
       "      <td>0.188414</td>\n",
       "      <td>309.5443</td>\n",
       "    </tr>\n",
       "    <tr>\n",
       "      <th>0</th>\n",
       "      <td>68.419655</td>\n",
       "      <td>1.1979312</td>\n",
       "      <td>0.198165</td>\n",
       "      <td>312.4933</td>\n",
       "    </tr>\n",
       "  </tbody>\n",
       "</table>\n",
       "</div>"
      ],
      "text/plain": [
       "        loss     weight      bias   pred_sum\n",
       "0   78.29549       1.01  0.010000   255.5505\n",
       "0   77.73029  1.0199978  0.019998   258.5751\n",
       "0   77.16979  1.0299921  0.029993  261.59863\n",
       "0   76.61409  1.0399812  0.039982  264.62064\n",
       "0   76.06323  1.0499638  0.049966   267.6407\n",
       "0   75.51732  1.0599384  0.059942  270.65833\n",
       "0  74.976395  1.0699035  0.069909   273.6731\n",
       "0  74.440544  1.0798576  0.079866   276.6846\n",
       "0  73.909805  1.0897992  0.089811  279.69232\n",
       "0  73.384254  1.0997269  0.099742  282.69592\n",
       "0   72.86395  1.1096393  0.109660  285.69495\n",
       "0   72.34858   1.119535  0.119562   288.6954\n",
       "0   71.83838  1.1294124  0.129451  291.69305\n",
       "0   71.33356  1.1392702  0.139325    294.685\n",
       "0   70.83415   1.149107  0.149183  297.67078\n",
       "0    70.3402  1.1589215  0.159022  300.65002\n",
       "0   69.85174  1.1687125  0.168842  303.62225\n",
       "0  69.368805  1.1784786  0.178639  306.58716\n",
       "0   68.89143  1.1882186  0.188414   309.5443\n",
       "0  68.419655  1.1979312  0.198165   312.4933"
      ]
     },
     "execution_count": 9,
     "metadata": {},
     "output_type": "execute_result"
    }
   ],
   "source": [
    "adam_df.to_csv('adam_jaxmao.csv')\n",
    "adam_df.head(20)"
   ]
  },
  {
   "cell_type": "markdown",
   "metadata": {},
   "source": [
    "# sgd cross entropy"
   ]
  },
  {
   "cell_type": "code",
   "execution_count": 10,
   "metadata": {},
   "outputs": [
    {
     "data": {
      "image/png": "[encoded data removed]",
      "text/plain": [
       "<Figure size 640x480 with 1 Axes>"
      ]
     },
     "metadata": {},
     "output_type": "display_data"
    }
   ],
   "source": [
    "from jaxmao.layers import Sigmoid\n",
    "\n",
    "def true_function(x):\n",
    "    return Sigmoid()(2 * x + 3)\n",
    "\n",
    "# Generate synthetic data\n",
    "x_data = np.linspace(-10, 10, 100).reshape(-1, 1)\n",
    "y_data = true_function(x_data).reshape(-1, 1)\n",
    "\n",
    "# Plot the true function\n",
    "plt.scatter(x_data, y_data, label='True Function')\n",
    "plt.legend()\n",
    "plt.show()"
   ]
  },
  {
   "cell_type": "code",
   "execution_count": 11,
   "metadata": {},
   "outputs": [
    {
     "name": "stdout",
     "output_type": "stream",
     "text": [
      "g {'dense/simple_dense': {'biases': Array([-0.07425], dtype=float32), 'weights': Array([[-0.00533566]], dtype=float32)}}\n"
     ]
    },
    {
     "name": "stderr",
     "output_type": "stream",
     "text": [
      "/tmp/ipykernel_76883/3628197889.py:41: FutureWarning: The behavior of DataFrame concatenation with empty or all-NA entries is deprecated. In a future version, this will no longer exclude empty or all-NA columns when determining the result dtypes. To retain the old behavior, exclude the relevant entries before the concat operation.\n",
      "  sgd_df = pd.concat([sgd_df, data_df],\n"
     ]
    }
   ],
   "source": [
    "sgd_df = pd.DataFrame({\n",
    "    'loss' : [],\n",
    "    'weight' : [],\n",
    "    'bias' : [],\n",
    "    'pred_sum' : []\n",
    "})\n",
    "\n",
    "from jaxmao.optimizers import GradientDescent\n",
    "from jaxmao.losses import BinaryCrossEntropy\n",
    "\n",
    "from jaxmao.layers import Dense\n",
    "dense = Dense(1, 1, activation='sigmoid', batch_norm=False, use_bias=True)\n",
    "dense.init_params(key)\n",
    "dense.set_training_mode()\n",
    "\n",
    "dense.params['dense/simple_dense'].update({\n",
    "    'weights' :  custom_weights,\n",
    "    'biases' :  custom_bias,\n",
    "})\n",
    "\n",
    "cross_entropy_loss = BinaryCrossEntropy()\n",
    "def loss_fn(model, params, x, y, state):\n",
    "    y_pred, new_state = model.forward(params, x, state)\n",
    "    loss = cross_entropy_loss(y_pred, y)\n",
    "    return (loss, new_state)\n",
    "\n",
    "optimizer = GradientDescent(lr=0.01)\n",
    "(loss, state), gradients = jax.value_and_grad(loss_fn, argnums=1, has_aux=True)(dense, dense.params, x_data, y_data, dense.state)\n",
    "print('g', gradients)\n",
    "for _ in range(20):\n",
    "    (loss, state), gradients = jax.value_and_grad(loss_fn, argnums=1, has_aux=True)(dense, dense.params, x_data, y_data, dense.state)\n",
    "    dense.params, optimizer.state = optimizer(dense.params, gradients, optimizer.state)\n",
    "\n",
    "    weights = dense.params['dense/simple_dense']['weights']\n",
    "    bias = dense.params['dense/simple_dense']['biases']\n",
    "    y_pred = dense(dense.params, x_data)[0]\n",
    "    y_pred_sum = y_pred.sum()\n",
    "    loss = cross_entropy_loss(y_pred, y_data)\n",
    "    \n",
    "    data_df = pd.DataFrame({'loss': loss, 'weight' : weights[0][0], 'bias': bias, 'pred_sum': y_pred_sum})\n",
    "    sgd_df = pd.concat([sgd_df, data_df],\n",
    "                    axis=0)"
   ]
  },
  {
   "cell_type": "code",
   "execution_count": 12,
   "metadata": {},
   "outputs": [
    {
     "data": {
      "text/plain": [
       "Array(0.15636615, dtype=float32)"
      ]
     },
     "execution_count": 12,
     "metadata": {},
     "output_type": "execute_result"
    }
   ],
   "source": [
    "cross_entropy_loss.calculate_loss(y_pred, y_data)"
   ]
  },
  {
   "cell_type": "code",
   "execution_count": 13,
   "metadata": {},
   "outputs": [
    {
     "data": {
      "text/html": [
       "<div>\n",
       "<style scoped>\n",
       "    .dataframe tbody tr th:only-of-type {\n",
       "        vertical-align: middle;\n",
       "    }\n",
       "\n",
       "    .dataframe tbody tr th {\n",
       "        vertical-align: top;\n",
       "    }\n",
       "\n",
       "    .dataframe thead th {\n",
       "        text-align: right;\n",
       "    }\n",
       "</style>\n",
       "<table border=\"1\" class=\"dataframe\">\n",
       "  <thead>\n",
       "    <tr style=\"text-align: right;\">\n",
       "      <th></th>\n",
       "      <th>loss</th>\n",
       "      <th>weight</th>\n",
       "      <th>bias</th>\n",
       "      <th>pred_sum</th>\n",
       "    </tr>\n",
       "  </thead>\n",
       "  <tbody>\n",
       "    <tr>\n",
       "      <th>0</th>\n",
       "      <td>0.15740831</td>\n",
       "      <td>1.0000534</td>\n",
       "      <td>0.000742</td>\n",
       "      <td>50.003674</td>\n",
       "    </tr>\n",
       "    <tr>\n",
       "      <th>0</th>\n",
       "      <td>0.15735298</td>\n",
       "      <td>1.0001067</td>\n",
       "      <td>0.001485</td>\n",
       "      <td>50.007347</td>\n",
       "    </tr>\n",
       "    <tr>\n",
       "      <th>0</th>\n",
       "      <td>0.15729769</td>\n",
       "      <td>1.0001599</td>\n",
       "      <td>0.002226</td>\n",
       "      <td>50.011017</td>\n",
       "    </tr>\n",
       "    <tr>\n",
       "      <th>0</th>\n",
       "      <td>0.15724245</td>\n",
       "      <td>1.0002129</td>\n",
       "      <td>0.002968</td>\n",
       "      <td>50.014687</td>\n",
       "    </tr>\n",
       "    <tr>\n",
       "      <th>0</th>\n",
       "      <td>0.15718727</td>\n",
       "      <td>1.000266</td>\n",
       "      <td>0.003709</td>\n",
       "      <td>50.018353</td>\n",
       "    </tr>\n",
       "    <tr>\n",
       "      <th>0</th>\n",
       "      <td>0.15713215</td>\n",
       "      <td>1.0003189</td>\n",
       "      <td>0.004449</td>\n",
       "      <td>50.02202</td>\n",
       "    </tr>\n",
       "    <tr>\n",
       "      <th>0</th>\n",
       "      <td>0.15707707</td>\n",
       "      <td>1.0003717</td>\n",
       "      <td>0.005190</td>\n",
       "      <td>50.02568</td>\n",
       "    </tr>\n",
       "    <tr>\n",
       "      <th>0</th>\n",
       "      <td>0.15702206</td>\n",
       "      <td>1.0004245</td>\n",
       "      <td>0.005930</td>\n",
       "      <td>50.029335</td>\n",
       "    </tr>\n",
       "    <tr>\n",
       "      <th>0</th>\n",
       "      <td>0.15696709</td>\n",
       "      <td>1.0004772</td>\n",
       "      <td>0.006669</td>\n",
       "      <td>50.032993</td>\n",
       "    </tr>\n",
       "    <tr>\n",
       "      <th>0</th>\n",
       "      <td>0.1569122</td>\n",
       "      <td>1.0005298</td>\n",
       "      <td>0.007408</td>\n",
       "      <td>50.03665</td>\n",
       "    </tr>\n",
       "    <tr>\n",
       "      <th>0</th>\n",
       "      <td>0.15685736</td>\n",
       "      <td>1.0005822</td>\n",
       "      <td>0.008147</td>\n",
       "      <td>50.0403</td>\n",
       "    </tr>\n",
       "    <tr>\n",
       "      <th>0</th>\n",
       "      <td>0.15680255</td>\n",
       "      <td>1.0006347</td>\n",
       "      <td>0.008886</td>\n",
       "      <td>50.043953</td>\n",
       "    </tr>\n",
       "    <tr>\n",
       "      <th>0</th>\n",
       "      <td>0.15674782</td>\n",
       "      <td>1.000687</td>\n",
       "      <td>0.009624</td>\n",
       "      <td>50.0476</td>\n",
       "    </tr>\n",
       "    <tr>\n",
       "      <th>0</th>\n",
       "      <td>0.15669313</td>\n",
       "      <td>1.0007392</td>\n",
       "      <td>0.010362</td>\n",
       "      <td>50.051247</td>\n",
       "    </tr>\n",
       "    <tr>\n",
       "      <th>0</th>\n",
       "      <td>0.1566385</td>\n",
       "      <td>1.0007914</td>\n",
       "      <td>0.011099</td>\n",
       "      <td>50.054893</td>\n",
       "    </tr>\n",
       "    <tr>\n",
       "      <th>0</th>\n",
       "      <td>0.15658392</td>\n",
       "      <td>1.0008435</td>\n",
       "      <td>0.011836</td>\n",
       "      <td>50.058533</td>\n",
       "    </tr>\n",
       "    <tr>\n",
       "      <th>0</th>\n",
       "      <td>0.1565294</td>\n",
       "      <td>1.0008955</td>\n",
       "      <td>0.012573</td>\n",
       "      <td>50.062172</td>\n",
       "    </tr>\n",
       "    <tr>\n",
       "      <th>0</th>\n",
       "      <td>0.15647493</td>\n",
       "      <td>1.0009475</td>\n",
       "      <td>0.013309</td>\n",
       "      <td>50.06581</td>\n",
       "    </tr>\n",
       "    <tr>\n",
       "      <th>0</th>\n",
       "      <td>0.15642051</td>\n",
       "      <td>1.0009993</td>\n",
       "      <td>0.014045</td>\n",
       "      <td>50.069447</td>\n",
       "    </tr>\n",
       "    <tr>\n",
       "      <th>0</th>\n",
       "      <td>0.15636615</td>\n",
       "      <td>1.0010511</td>\n",
       "      <td>0.014780</td>\n",
       "      <td>50.073082</td>\n",
       "    </tr>\n",
       "  </tbody>\n",
       "</table>\n",
       "</div>"
      ],
      "text/plain": [
       "         loss     weight      bias   pred_sum\n",
       "0  0.15740831  1.0000534  0.000742  50.003674\n",
       "0  0.15735298  1.0001067  0.001485  50.007347\n",
       "0  0.15729769  1.0001599  0.002226  50.011017\n",
       "0  0.15724245  1.0002129  0.002968  50.014687\n",
       "0  0.15718727   1.000266  0.003709  50.018353\n",
       "0  0.15713215  1.0003189  0.004449   50.02202\n",
       "0  0.15707707  1.0003717  0.005190   50.02568\n",
       "0  0.15702206  1.0004245  0.005930  50.029335\n",
       "0  0.15696709  1.0004772  0.006669  50.032993\n",
       "0   0.1569122  1.0005298  0.007408   50.03665\n",
       "0  0.15685736  1.0005822  0.008147    50.0403\n",
       "0  0.15680255  1.0006347  0.008886  50.043953\n",
       "0  0.15674782   1.000687  0.009624    50.0476\n",
       "0  0.15669313  1.0007392  0.010362  50.051247\n",
       "0   0.1566385  1.0007914  0.011099  50.054893\n",
       "0  0.15658392  1.0008435  0.011836  50.058533\n",
       "0   0.1565294  1.0008955  0.012573  50.062172\n",
       "0  0.15647493  1.0009475  0.013309   50.06581\n",
       "0  0.15642051  1.0009993  0.014045  50.069447\n",
       "0  0.15636615  1.0010511  0.014780  50.073082"
      ]
     },
     "execution_count": 13,
     "metadata": {},
     "output_type": "execute_result"
    }
   ],
   "source": [
    "sgd_df.head(20)"
   ]
  }
 ],
 "metadata": {
  "kernelspec": {
   "display_name": "jaxlab",
   "language": "python",
   "name": "python3"
  },
  "language_info": {
   "codemirror_mode": {
    "name": "ipython",
    "version": 3
   },
   "file_extension": ".py",
   "mimetype": "text/x-python",
   "name": "python",
   "nbconvert_exporter": "python",
   "pygments_lexer": "ipython3",
   "version": "3.11.5"
  }
 },
 "nbformat": 4,
 "nbformat_minor": 2
}
