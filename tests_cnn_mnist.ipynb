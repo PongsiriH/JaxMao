{
 "cells": [
  {
   "cell_type": "code",
   "execution_count": 1,
   "metadata": {},
   "outputs": [],
   "source": [
    "import jax\n",
    "import jax.numpy as jnp\n",
    "import numpy as np\n",
    "from jaxmao.layers import Conv2D, Dense, BatchNorm, ReLU, Flatten, StableSoftmax\n",
    "from jaxmao.modules import Module\n",
    "from jaxmao.optimizers import GradientDescent\n",
    "from jaxmao.losses import CategoricalCrossEntropy\n",
    "from jaxmao.metrics import Accuracy, Precision, Recall\n",
    "\n",
    "from sklearn import datasets\n",
    "from sklearn.model_selection import train_test_split\n",
    "from sklearn.preprocessing import OneHotEncoder\n",
    "import matplotlib.pyplot as plt"
   ]
  },
  {
   "cell_type": "code",
   "execution_count": 2,
   "metadata": {},
   "outputs": [
    {
     "name": "stderr",
     "output_type": "stream",
     "text": [
      "WARNING: All log messages before absl::InitializeLog() is called are written to STDERR\n",
      "I0000 00:00:1697774799.887314   55696 tfrt_cpu_pjrt_client.cc:349] TfrtCpuClient created.\n"
     ]
    }
   ],
   "source": [
    "seed = 42\n",
    "key = jax.random.PRNGKey(seed)"
   ]
  },
  {
   "cell_type": "code",
   "execution_count": 3,
   "metadata": {},
   "outputs": [
    {
     "data": {
      "text/plain": [
       "((1437, 8, 8, 1), (360, 8, 8, 1), (1437,), (360,))"
      ]
     },
     "execution_count": 3,
     "metadata": {},
     "output_type": "execute_result"
    }
   ],
   "source": [
    "data = datasets.load_digits()\n",
    "image, label = data['images'], data['target']\n",
    "\n",
    "X_train, X_test, y_train, y_test = train_test_split(image, label, test_size=0.2, random_state=seed)\n",
    "\n",
    "X_train = np.expand_dims(X_train, axis=-1)\n",
    "X_test = np.expand_dims(X_test, axis=-1)\n",
    "\n",
    "enc = OneHotEncoder(sparse_output=False)\n",
    "y_train_enc = enc.fit_transform(np.expand_dims(y_train, axis=1))\n",
    "y_test_enc = enc.transform(np.expand_dims(y_test, axis=1))\n",
    "\n",
    "X_train.shape, X_test.shape, y_train.shape, y_test.shape"
   ]
  },
  {
   "cell_type": "code",
   "execution_count": 4,
   "metadata": {},
   "outputs": [
    {
     "name": "stdout",
     "output_type": "stream",
     "text": [
      "layer                output shape         #'s params          \n",
      "conv1                (200, 8, 8, 8)       0                   \n",
      "bn1                  (200, 8, 8, 8)       0                   \n",
      "conv2                (200, 8, 8, 2)       0                   \n",
      "bn2                  (200, 8, 8, 2)       0                   \n",
      "flatten              (200, 128)           0                   \n",
      "fc1                  (200, 64)            0                   \n",
      "bn3                  (200, 64)            0                   \n",
      "fc2                  (200, 10)            0                   \n",
      "\n"
     ]
    }
   ],
   "source": [
    "class DigitClassifier(Module):\n",
    "    def __init__(self):\n",
    "        super().__init__()\n",
    "        self.add('conv1', Conv2D(1, 8, (3, 3), 1))\n",
    "        self.add('bn1', BatchNorm(8, axis_mean=(0,1,2)))\n",
    "        self.add('conv2', Conv2D(8, 2, (1, 1), 1))\n",
    "        self.add('bn2', BatchNorm(2, axis_mean=(0,1,2)))\n",
    "        self.add('flatten', Flatten())\n",
    "        self.add('fc1', Dense(128, 64))\n",
    "        self.add('bn3', BatchNorm(64))\n",
    "        self.add('fc2', Dense(64, 10, activation=StableSoftmax()))\n",
    "\n",
    "        self.add('relu', ReLU())\n",
    "        \n",
    "    def forward(self, params, x, state):\n",
    "        x, state = self.apply(params, x, 'conv1', state)\n",
    "        x, state = self.apply(params, x, 'bn1', state)\n",
    "        x = ReLU()(x)\n",
    "        x, state = self.apply(params, x, 'conv2', state)\n",
    "        x, state = self.apply(params, x, 'bn2', state)\n",
    "        x = ReLU()(x)\n",
    "        x, state = self.apply(params, x, 'flatten', state)\n",
    "        x, state = self.apply(params, x, 'fc1', state)\n",
    "        x, state = self.apply(params, x, 'bn3', state)\n",
    "        x = ReLU()(x)\n",
    "        x, state = self.apply(params, x, 'fc2', state)\n",
    "        return x, state\n",
    "\n",
    "clf = DigitClassifier()\n",
    "clf.init_params(key)\n",
    "out, state = clf.pure_forward(clf.params, X_train[:200], clf.state)\n",
    "\n",
    "summary = clf.summarize()"
   ]
  },
  {
   "cell_type": "code",
   "execution_count": 5,
   "metadata": {},
   "outputs": [
    {
     "data": {
      "text/plain": [
       "(8,)"
      ]
     },
     "execution_count": 5,
     "metadata": {},
     "output_type": "execute_result"
    }
   ],
   "source": [
    "clf.state['bn1']['running_mean'].shape"
   ]
  },
  {
   "cell_type": "code",
   "execution_count": 6,
   "metadata": {},
   "outputs": [
    {
     "data": {
      "text/plain": [
       "(8,)"
      ]
     },
     "execution_count": 6,
     "metadata": {},
     "output_type": "execute_result"
    }
   ],
   "source": [
    "clf.params['bn1']['beta'].shape"
   ]
  },
  {
   "cell_type": "code",
   "execution_count": 7,
   "metadata": {},
   "outputs": [
    {
     "data": {
      "text/plain": [
       "((200, 10), jaxlib.xla_extension.ArrayImpl, dict)"
      ]
     },
     "execution_count": 7,
     "metadata": {},
     "output_type": "execute_result"
    }
   ],
   "source": [
    "clf.forward = jax.jit(clf.forward)\n",
    "clf.pure_forward = jax.jit(clf.pure_forward)\n",
    "\n",
    "out, state = clf.pure_forward(clf.params, X_train[:200], clf.state)\n",
    "out.shape, type(out), type(state)"
   ]
  },
  {
   "cell_type": "code",
   "execution_count": 8,
   "metadata": {},
   "outputs": [],
   "source": [
    "from sklearn.utils import shuffle\n",
    "\n",
    "criteria = CategoricalCrossEntropy()\n",
    "criteria.calculate_loss = jax.jit(criteria.calculate_loss)\n",
    "def loss_fn(model, params, x_true, y_true, state,\n",
    "            criteria\n",
    "            ):\n",
    "    y_pred, new_state = model.pure_forward(params, x_true, state)\n",
    "    loss = criteria(y_pred, y_true)\n",
    "    return loss, new_state\n",
    "\n",
    "val_grad_loss_fn = jax.value_and_grad(loss_fn, argnums=1, has_aux=True)\n",
    "def training_loop(\n",
    "    model, optimizer, x_true, y_true,\n",
    "    epochs, lr=0.01, batch_size=16\n",
    "):\n",
    "    num_batch = len(x_true) // batch_size \n",
    "    for epoch in range(epochs):\n",
    "        losses = 0.0\n",
    "        x_true, y_true = shuffle(x_true, y_true)\n",
    "        for n in range(num_batch):\n",
    "            batch_x = x_true[n*batch_size:(n+1)*batch_size]\n",
    "            batch_y = y_true[n*batch_size:(n+1)*batch_size]\n",
    "            (loss, new_state), gradients = val_grad_loss_fn(model, model.params, \n",
    "                                                            batch_x, \n",
    "                                                            batch_y, \n",
    "                                                            model.state, \n",
    "                                                            criteria)\n",
    "            losses = losses + loss\n",
    "            model.params, optim_state = optimizer.step(model.params, gradients, lr=lr)\n",
    "            model.update_state(new_state)\n",
    "        \n",
    "        accuracy = Accuracy()(model(model.params, batch_x), batch_y.argmax(axis=1))\n",
    "        print('epoch {}: {}, {}'.format(epoch, losses/num_batch, accuracy))"
   ]
  },
  {
   "cell_type": "code",
   "execution_count": 9,
   "metadata": {},
   "outputs": [
    {
     "name": "stdout",
     "output_type": "stream",
     "text": [
      "epoch 0: 2.3247547149658203, 0.625\n"
     ]
    }
   ],
   "source": [
    "optimizer = GradientDescent()\n",
    "epochs = 1\n",
    "lr = 0.01\n",
    "\n",
    "training_loop(clf, \n",
    "              optimizer, \n",
    "              X_train, \n",
    "              y_train_enc, \n",
    "              epochs=epochs, lr=lr, batch_size=16\n",
    "              )"
   ]
  },
  {
   "cell_type": "code",
   "execution_count": 28,
   "metadata": {},
   "outputs": [],
   "source": [
    "y_pred = clf(clf.params, X_test)"
   ]
  },
  {
   "cell_type": "code",
   "execution_count": 29,
   "metadata": {},
   "outputs": [
    {
     "data": {
      "text/plain": [
       "Array(0.8666667, dtype=float32)"
      ]
     },
     "execution_count": 29,
     "metadata": {},
     "output_type": "execute_result"
    }
   ],
   "source": [
    "Accuracy()(y_pred, y_test)"
   ]
  },
  {
   "cell_type": "code",
   "execution_count": 30,
   "metadata": {},
   "outputs": [
    {
     "data": {
      "image/png": "[encoded data removed]",
      "text/plain": [
       "<Figure size 640x480 with 1 Axes>"
      ]
     },
     "metadata": {},
     "output_type": "display_data"
    }
   ],
   "source": [
    "index = np.random.randint(0, len(X_test))\n",
    "plt.imshow(X_test[index])\n",
    "plt.title(f'{y_test[index]}, {y_pred[index].argmax()}')\n",
    "plt.show()"
   ]
  },
  {
   "cell_type": "markdown",
   "metadata": {},
   "source": [
    "# using .fit()!!!"
   ]
  },
  {
   "cell_type": "code",
   "execution_count": 31,
   "metadata": {},
   "outputs": [
    {
     "data": {
      "text/plain": [
       "(360, 10)"
      ]
     },
     "execution_count": 31,
     "metadata": {},
     "output_type": "execute_result"
    }
   ],
   "source": [
    "clf = DigitClassifier()\n",
    "clf.init_params(key)\n",
    "\n",
    "out = clf(clf.params, X_test)\n",
    "out.shape"
   ]
  },
  {
   "cell_type": "code",
   "execution_count": 32,
   "metadata": {},
   "outputs": [
    {
     "data": {
      "text/plain": [
       "{'gamma': (8,), 'beta': (8,)}"
      ]
     },
     "execution_count": 32,
     "metadata": {},
     "output_type": "execute_result"
    }
   ],
   "source": [
    "clf.layers['bn1'].shapes"
   ]
  },
  {
   "cell_type": "code",
   "execution_count": 33,
   "metadata": {},
   "outputs": [
    {
     "data": {
      "text/plain": [
       "Array([1., 1., 1., 1., 1., 1., 1., 1.], dtype=float32)"
      ]
     },
     "execution_count": 33,
     "metadata": {},
     "output_type": "execute_result"
    }
   ],
   "source": [
    "clf.layers['bn1'].params['gamma']"
   ]
  },
  {
   "cell_type": "code",
   "execution_count": 34,
   "metadata": {},
   "outputs": [
    {
     "data": {
      "text/plain": [
       "Array(0., dtype=float32)"
      ]
     },
     "execution_count": 34,
     "metadata": {},
     "output_type": "execute_result"
    }
   ],
   "source": [
    "clf.layers['bn1'].state['running_mean'][2]"
   ]
  },
  {
   "cell_type": "code",
   "execution_count": 35,
   "metadata": {},
   "outputs": [],
   "source": [
    "clf.compile(\n",
    "    loss_fn=CategoricalCrossEntropy(),\n",
    "    optimizer=GradientDescent(),\n",
    "    metrics=[Accuracy(), Precision(), Recall()]\n",
    ")"
   ]
  },
  {
   "cell_type": "code",
   "execution_count": 36,
   "metadata": {},
   "outputs": [
    {
     "name": "stdout",
     "output_type": "stream",
     "text": [
      "epoch 0: Loss 2.6383633613586426; accuracy: 0.12713068181818182 precision: 0.6287878799167547 recall: 0.7159090909090909\n",
      "epoch 1: Loss 1.9453428983688354; accuracy: 0.32457386363636365 precision: 0.7878787883303382 recall: 0.8181818181818182\n",
      "epoch 2: Loss 1.5119731426239014; accuracy: 0.5205965909090909 precision: 0.9681818187236786 recall: 1.0\n",
      "epoch 3: Loss 1.2567815780639648; accuracy: 0.6285511363636364 precision: 0.9545454545454546 recall: 0.9545454545454546\n",
      "epoch 4: Loss 1.0962215662002563; accuracy: 0.7009943181818182 precision: 0.9772727272727273 recall: 0.9772727272727273\n"
     ]
    }
   ],
   "source": [
    "clf.fit(X_train, y_train_enc, lr=0.01, epochs=5)"
   ]
  }
 ],
 "metadata": {
  "kernelspec": {
   "display_name": "jaxlab",
   "language": "python",
   "name": "python3"
  },
  "language_info": {
   "codemirror_mode": {
    "name": "ipython",
    "version": 3
   },
   "file_extension": ".py",
   "mimetype": "text/x-python",
   "name": "python",
   "nbconvert_exporter": "python",
   "pygments_lexer": "ipython3",
   "version": "3.11.5"
  }
 },
 "nbformat": 4,
 "nbformat_minor": 2
}
