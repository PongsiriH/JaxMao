{
 "cells": [
  {
   "cell_type": "code",
   "execution_count": 1,
   "metadata": {},
   "outputs": [],
   "source": [
    "import jax\n",
    "import jax.numpy as jnp\n",
    "import numpy as np\n",
    "from jaxmao.layers import Dense, BatchNorm, ReLU, Flatten, StableSoftmax\n",
    "from jaxmao.modules import Module\n",
    "from jaxmao.optimizers import GradientDescent\n",
    "from jaxmao.losses import CategoricalCrossEntropy\n",
    "from jaxmao.metrics import Accuracy\n",
    "\n",
    "from sklearn import datasets\n",
    "from sklearn.model_selection import train_test_split\n",
    "from sklearn.preprocessing import OneHotEncoder\n",
    "import matplotlib.pyplot as plt"
   ]
  },
  {
   "cell_type": "code",
   "execution_count": 2,
   "metadata": {},
   "outputs": [
    {
     "name": "stderr",
     "output_type": "stream",
     "text": [
      "WARNING: All log messages before absl::InitializeLog() is called are written to STDERR\n",
      "I0000 00:00:1697726432.478044  316748 tfrt_cpu_pjrt_client.cc:349] TfrtCpuClient created.\n"
     ]
    }
   ],
   "source": [
    "seed = 42\n",
    "key = jax.random.PRNGKey(seed)"
   ]
  },
  {
   "cell_type": "code",
   "execution_count": 3,
   "metadata": {},
   "outputs": [
    {
     "data": {
      "text/plain": [
       "((1437, 8, 8), (360, 8, 8), (1437,), (360,))"
      ]
     },
     "execution_count": 3,
     "metadata": {},
     "output_type": "execute_result"
    }
   ],
   "source": [
    "data = datasets.load_digits()\n",
    "image, label = data['images'], data['target']\n",
    "\n",
    "X_train, X_test, y_train, y_test = train_test_split(image, label, test_size=0.2, random_state=seed)\n",
    "\n",
    "enc = OneHotEncoder(sparse_output=False)\n",
    "y_train_enc = enc.fit_transform(np.expand_dims(y_train, axis=1))\n",
    "y_test_enc = enc.transform(np.expand_dims(y_test, axis=1))\n",
    "\n",
    "X_train.shape, X_test.shape, y_train.shape, y_test.shape"
   ]
  },
  {
   "cell_type": "code",
   "execution_count": 4,
   "metadata": {},
   "outputs": [
    {
     "data": {
      "text/plain": [
       "((360, 10), jaxlib.xla_extension.ArrayImpl, dict)"
      ]
     },
     "execution_count": 4,
     "metadata": {},
     "output_type": "execute_result"
    }
   ],
   "source": [
    "class DigitClassifier(Module):\n",
    "    def __init__(self):\n",
    "        super().__init__()\n",
    "        self.add('flatten', Flatten())\n",
    "        self.add('bn1', BatchNorm(64))\n",
    "        self.add('fc1', Dense(64, 16, activation=ReLU()))\n",
    "        self.add('bn2', BatchNorm(16))\n",
    "        self.add('fc2', Dense(16, 10, activation=StableSoftmax()))\n",
    "    \n",
    "    def forward(self, params, x, state):\n",
    "        x, state = self.forward_with_state(params, x, 'flatten', state)\n",
    "        x, state = self.forward_with_state(params, x, 'bn1', state)\n",
    "        x, state = self.forward_with_state(params, x, 'fc1', state)\n",
    "        x, state = self.forward_with_state(params, x, 'bn2', state)\n",
    "        x, state = self.forward_with_state(params, x, 'fc2', state)\n",
    "        return x, state\n",
    "    \n",
    "clf = DigitClassifier()\n",
    "clf.init_params(key)\n",
    "clf.forward = jax.jit(clf.forward)\n",
    "clf.pure_forward = jax.jit(clf.pure_forward)\n",
    "\n",
    "out, state = clf.pure_forward(clf.params, X_test, clf.state)\n",
    "out.shape, type(out), type(state)"
   ]
  },
  {
   "cell_type": "code",
   "execution_count": 5,
   "metadata": {},
   "outputs": [
    {
     "data": {
      "text/plain": [
       "Array([[0.01130079, 0.05852171, 0.11489712, ..., 0.13720518, 0.06192375,\n",
       "        0.29072276],\n",
       "       [0.06010712, 0.05115694, 0.10832112, ..., 0.08855952, 0.1627044 ,\n",
       "        0.1572643 ],\n",
       "       [0.32594135, 0.09793901, 0.01010408, ..., 0.00661695, 0.00264588,\n",
       "        0.02289665],\n",
       "       ...,\n",
       "       [0.04531535, 0.05515421, 0.07712824, ..., 0.15537082, 0.0431489 ,\n",
       "        0.0595728 ],\n",
       "       [0.05300081, 0.1229734 , 0.26876947, ..., 0.09718218, 0.02225027,\n",
       "        0.05437118],\n",
       "       [0.20079541, 0.10078777, 0.08970465, ..., 0.06058684, 0.01616533,\n",
       "        0.03552077]], dtype=float32)"
      ]
     },
     "execution_count": 5,
     "metadata": {},
     "output_type": "execute_result"
    }
   ],
   "source": [
    "x, s = jax.jit(clf.pure_forward)(clf.params, X_test, clf.state)\n",
    "x"
   ]
  },
  {
   "cell_type": "code",
   "execution_count": 6,
   "metadata": {},
   "outputs": [],
   "source": [
    "from sklearn.utils import shuffle\n",
    "\n",
    "criteria = CategoricalCrossEntropy()\n",
    "criteria.calculate_loss = jax.jit(criteria.calculate_loss)\n",
    "def loss_fn(model, params, x_true, y_true, state,\n",
    "            criteria\n",
    "            ):\n",
    "    y_pred, new_state = model.pure_forward(params, x_true, state)\n",
    "    loss = criteria.calculate_loss(y_pred, y_true)\n",
    "    return loss, new_state\n",
    "\n",
    "val_grad_loss_fn = jax.value_and_grad(loss_fn, argnums=1, has_aux=True)\n",
    "def training_loop(\n",
    "    model, optimizer, x_true, y_true,\n",
    "    epochs, lr=0.01, batch_size=16\n",
    "):\n",
    "    num_batch = len(x_true) // batch_size \n",
    "    for epoch in range(epochs):\n",
    "        losses = 0.0\n",
    "        x_true, y_true = shuffle(x_true, y_true)\n",
    "        for n in range(num_batch):\n",
    "            batch_x = x_true[n*batch_size:(n+1)*batch_size]\n",
    "            batch_y = y_true[n*batch_size:(n+1)*batch_size]\n",
    "            (loss, new_state), gradients = val_grad_loss_fn(model, model.params, \n",
    "                                                            batch_x, \n",
    "                                                            batch_y, \n",
    "                                                            model.state, \n",
    "                                                            criteria)\n",
    "            losses = losses + loss\n",
    "            model.params, optim_state = optimizer.step(model.params, gradients, lr=lr)\n",
    "            model.update_state(new_state)\n",
    "        \n",
    "        accuracy = Accuracy()(model(model.params, batch_x), batch_y.argmax(axis=1))\n",
    "        print('epoch {}: {}, {}'.format(epoch, losses/num_batch, accuracy))"
   ]
  },
  {
   "cell_type": "code",
   "execution_count": 7,
   "metadata": {},
   "outputs": [
    {
     "name": "stdout",
     "output_type": "stream",
     "text": [
      "epoch 0: 13.377989768981934, 1.0\n",
      "epoch 1: 4.775639057159424, 0.9375\n",
      "epoch 2: 3.6955363750457764, 0.9375\n",
      "epoch 3: 3.335810661315918, 1.0\n",
      "epoch 4: 3.0658586025238037, 1.0\n",
      "epoch 5: 2.5833990573883057, 1.0\n",
      "epoch 6: 2.2140393257141113, 1.0\n",
      "epoch 7: 2.215319871902466, 0.9375\n",
      "epoch 8: 2.280287742614746, 1.0\n",
      "epoch 9: 1.6045345067977905, 1.0\n"
     ]
    }
   ],
   "source": [
    "optimizer = GradientDescent()\n",
    "epochs = 10\n",
    "lr = 0.01\n",
    "\n",
    "training_loop(clf, \n",
    "              optimizer, \n",
    "              X_train, \n",
    "              y_train_enc, \n",
    "              epochs=epochs, lr=lr, batch_size=16\n",
    "              )"
   ]
  },
  {
   "cell_type": "code",
   "execution_count": 8,
   "metadata": {},
   "outputs": [],
   "source": [
    "y_pred = clf(clf.params, X_test)"
   ]
  },
  {
   "cell_type": "code",
   "execution_count": 9,
   "metadata": {},
   "outputs": [
    {
     "data": {
      "text/plain": [
       "Array(0.9638889, dtype=float32)"
      ]
     },
     "execution_count": 9,
     "metadata": {},
     "output_type": "execute_result"
    }
   ],
   "source": [
    "Accuracy().calculate(y_pred.argmax(axis=1), y_test)"
   ]
  },
  {
   "cell_type": "code",
   "execution_count": 10,
   "metadata": {},
   "outputs": [
    {
     "data": {
      "image/png": "[encoded data removed]",
      "text/plain": [
       "<Figure size 640x480 with 1 Axes>"
      ]
     },
     "metadata": {},
     "output_type": "display_data"
    }
   ],
   "source": [
    "index = np.random.randint(0, len(X_test))\n",
    "plt.imshow(X_test[index])\n",
    "plt.title(f'{y_test[index]}, {y_pred[index].argmax()}')\n",
    "plt.show()"
   ]
  },
  {
   "cell_type": "markdown",
   "metadata": {},
   "source": [
    "# using .fit()!!!"
   ]
  },
  {
   "cell_type": "code",
   "execution_count": 11,
   "metadata": {},
   "outputs": [
    {
     "data": {
      "text/plain": [
       "(360, 10)"
      ]
     },
     "execution_count": 11,
     "metadata": {},
     "output_type": "execute_result"
    }
   ],
   "source": [
    "clf = DigitClassifier()\n",
    "clf.init_params(key)\n",
    "\n",
    "out = clf(clf.params, X_test)\n",
    "out.shape"
   ]
  },
  {
   "cell_type": "code",
   "execution_count": 14,
   "metadata": {},
   "outputs": [
    {
     "name": "stdout",
     "output_type": "stream",
     "text": [
      "epoch 0: Loss 3.0322628021240234; accuracy: 0.9751420617103577\n",
      "epoch 1: Loss 3.216646432876587; accuracy: 0.96875\n",
      "epoch 2: Loss 2.399807929992676; accuracy: 0.9808238744735718\n",
      "epoch 3: Loss 1.7255582809448242; accuracy: 0.9850852489471436\n",
      "epoch 4: Loss 1.9668234586715698; accuracy: 0.9822443723678589\n"
     ]
    }
   ],
   "source": [
    "clf.compile(\n",
    "    loss_fn=CategoricalCrossEntropy(),\n",
    "    optimizer=GradientDescent(),\n",
    "    metrics=Accuracy()\n",
    ")\n",
    "clf.fit(X_train, y_train_enc, lr=0.01, epochs=5)"
   ]
  }
 ],
 "metadata": {
  "kernelspec": {
   "display_name": "jaxlab",
   "language": "python",
   "name": "python3"
  },
  "language_info": {
   "codemirror_mode": {
    "name": "ipython",
    "version": 3
   },
   "file_extension": ".py",
   "mimetype": "text/x-python",
   "name": "python",
   "nbconvert_exporter": "python",
   "pygments_lexer": "ipython3",
   "version": "3.11.5"
  }
 },
 "nbformat": 4,
 "nbformat_minor": 2
}
